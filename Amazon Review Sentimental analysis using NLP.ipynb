{
 "cells": [
  {
   "cell_type": "markdown",
   "id": "059759e6",
   "metadata": {},
   "source": [
    "# NLP : field of computer science used to process the interaction btw computers and human language"
   ]
  },
  {
   "cell_type": "code",
   "execution_count": 2,
   "id": "33488cb3",
   "metadata": {},
   "outputs": [],
   "source": [
    "import pandas as pd\n",
    "import numpy as np\n",
    "import matplotlib.pyplot as plt\n",
    "import seaborn as sns\n",
    "%matplotlib inline\n",
    "import math\n",
    "sns.set_style(\"darkgrid\")\n",
    "# this is used to remove unwaned warnings as the data set is used is of small size\n",
    "import warnings\n",
    "warnings.filterwarnings('ignore')"
   ]
  },
  {
   "cell_type": "code",
   "execution_count": 3,
   "id": "4537e425",
   "metadata": {},
   "outputs": [
    {
     "data": {
      "text/html": [
       "<div>\n",
       "<style scoped>\n",
       "    .dataframe tbody tr th:only-of-type {\n",
       "        vertical-align: middle;\n",
       "    }\n",
       "\n",
       "    .dataframe tbody tr th {\n",
       "        vertical-align: top;\n",
       "    }\n",
       "\n",
       "    .dataframe thead th {\n",
       "        text-align: right;\n",
       "    }\n",
       "</style>\n",
       "<table border=\"1\" class=\"dataframe\">\n",
       "  <thead>\n",
       "    <tr style=\"text-align: right;\">\n",
       "      <th></th>\n",
       "      <th>id</th>\n",
       "      <th>name</th>\n",
       "      <th>asins</th>\n",
       "      <th>brand</th>\n",
       "      <th>categories</th>\n",
       "      <th>keys</th>\n",
       "      <th>manufacturer</th>\n",
       "      <th>reviews.date</th>\n",
       "      <th>reviews.dateAdded</th>\n",
       "      <th>reviews.dateSeen</th>\n",
       "      <th>...</th>\n",
       "      <th>reviews.doRecommend</th>\n",
       "      <th>reviews.id</th>\n",
       "      <th>reviews.numHelpful</th>\n",
       "      <th>reviews.rating</th>\n",
       "      <th>reviews.sourceURLs</th>\n",
       "      <th>reviews.text</th>\n",
       "      <th>reviews.title</th>\n",
       "      <th>reviews.userCity</th>\n",
       "      <th>reviews.userProvince</th>\n",
       "      <th>reviews.username</th>\n",
       "    </tr>\n",
       "  </thead>\n",
       "  <tbody>\n",
       "    <tr>\n",
       "      <th>0</th>\n",
       "      <td>AVqkIhwDv8e3D1O-lebb</td>\n",
       "      <td>All-New Fire HD 8 Tablet, 8 HD Display, Wi-Fi,...</td>\n",
       "      <td>B01AHB9CN2</td>\n",
       "      <td>Amazon</td>\n",
       "      <td>Electronics,iPad &amp; Tablets,All Tablets,Fire Ta...</td>\n",
       "      <td>841667104676,amazon/53004484,amazon/b01ahb9cn2...</td>\n",
       "      <td>Amazon</td>\n",
       "      <td>2017-01-13T00:00:00.000Z</td>\n",
       "      <td>2017-07-03T23:33:15Z</td>\n",
       "      <td>2017-06-07T09:04:00.000Z,2017-04-30T00:45:00.000Z</td>\n",
       "      <td>...</td>\n",
       "      <td>True</td>\n",
       "      <td>NaN</td>\n",
       "      <td>0.0</td>\n",
       "      <td>5.0</td>\n",
       "      <td>http://reviews.bestbuy.com/3545/5620406/review...</td>\n",
       "      <td>This product so far has not disappointed. My c...</td>\n",
       "      <td>Kindle</td>\n",
       "      <td>NaN</td>\n",
       "      <td>NaN</td>\n",
       "      <td>Adapter</td>\n",
       "    </tr>\n",
       "    <tr>\n",
       "      <th>1</th>\n",
       "      <td>AVqkIhwDv8e3D1O-lebb</td>\n",
       "      <td>All-New Fire HD 8 Tablet, 8 HD Display, Wi-Fi,...</td>\n",
       "      <td>B01AHB9CN2</td>\n",
       "      <td>Amazon</td>\n",
       "      <td>Electronics,iPad &amp; Tablets,All Tablets,Fire Ta...</td>\n",
       "      <td>841667104676,amazon/53004484,amazon/b01ahb9cn2...</td>\n",
       "      <td>Amazon</td>\n",
       "      <td>2017-01-13T00:00:00.000Z</td>\n",
       "      <td>2017-07-03T23:33:15Z</td>\n",
       "      <td>2017-06-07T09:04:00.000Z,2017-04-30T00:45:00.000Z</td>\n",
       "      <td>...</td>\n",
       "      <td>True</td>\n",
       "      <td>NaN</td>\n",
       "      <td>0.0</td>\n",
       "      <td>5.0</td>\n",
       "      <td>http://reviews.bestbuy.com/3545/5620406/review...</td>\n",
       "      <td>great for beginner or experienced person. Boug...</td>\n",
       "      <td>very fast</td>\n",
       "      <td>NaN</td>\n",
       "      <td>NaN</td>\n",
       "      <td>truman</td>\n",
       "    </tr>\n",
       "    <tr>\n",
       "      <th>2</th>\n",
       "      <td>AVqkIhwDv8e3D1O-lebb</td>\n",
       "      <td>All-New Fire HD 8 Tablet, 8 HD Display, Wi-Fi,...</td>\n",
       "      <td>B01AHB9CN2</td>\n",
       "      <td>Amazon</td>\n",
       "      <td>Electronics,iPad &amp; Tablets,All Tablets,Fire Ta...</td>\n",
       "      <td>841667104676,amazon/53004484,amazon/b01ahb9cn2...</td>\n",
       "      <td>Amazon</td>\n",
       "      <td>2017-01-13T00:00:00.000Z</td>\n",
       "      <td>2017-07-03T23:33:15Z</td>\n",
       "      <td>2017-06-07T09:04:00.000Z,2017-04-30T00:45:00.000Z</td>\n",
       "      <td>...</td>\n",
       "      <td>True</td>\n",
       "      <td>NaN</td>\n",
       "      <td>0.0</td>\n",
       "      <td>5.0</td>\n",
       "      <td>http://reviews.bestbuy.com/3545/5620406/review...</td>\n",
       "      <td>Inexpensive tablet for him to use and learn on...</td>\n",
       "      <td>Beginner tablet for our 9 year old son.</td>\n",
       "      <td>NaN</td>\n",
       "      <td>NaN</td>\n",
       "      <td>DaveZ</td>\n",
       "    </tr>\n",
       "    <tr>\n",
       "      <th>3</th>\n",
       "      <td>AVqkIhwDv8e3D1O-lebb</td>\n",
       "      <td>All-New Fire HD 8 Tablet, 8 HD Display, Wi-Fi,...</td>\n",
       "      <td>B01AHB9CN2</td>\n",
       "      <td>Amazon</td>\n",
       "      <td>Electronics,iPad &amp; Tablets,All Tablets,Fire Ta...</td>\n",
       "      <td>841667104676,amazon/53004484,amazon/b01ahb9cn2...</td>\n",
       "      <td>Amazon</td>\n",
       "      <td>2017-01-13T00:00:00.000Z</td>\n",
       "      <td>2017-07-03T23:33:15Z</td>\n",
       "      <td>2017-06-07T09:04:00.000Z,2017-04-30T00:45:00.000Z</td>\n",
       "      <td>...</td>\n",
       "      <td>True</td>\n",
       "      <td>NaN</td>\n",
       "      <td>0.0</td>\n",
       "      <td>4.0</td>\n",
       "      <td>http://reviews.bestbuy.com/3545/5620406/review...</td>\n",
       "      <td>I've had my Fire HD 8 two weeks now and I love...</td>\n",
       "      <td>Good!!!</td>\n",
       "      <td>NaN</td>\n",
       "      <td>NaN</td>\n",
       "      <td>Shacks</td>\n",
       "    </tr>\n",
       "    <tr>\n",
       "      <th>4</th>\n",
       "      <td>AVqkIhwDv8e3D1O-lebb</td>\n",
       "      <td>All-New Fire HD 8 Tablet, 8 HD Display, Wi-Fi,...</td>\n",
       "      <td>B01AHB9CN2</td>\n",
       "      <td>Amazon</td>\n",
       "      <td>Electronics,iPad &amp; Tablets,All Tablets,Fire Ta...</td>\n",
       "      <td>841667104676,amazon/53004484,amazon/b01ahb9cn2...</td>\n",
       "      <td>Amazon</td>\n",
       "      <td>2017-01-12T00:00:00.000Z</td>\n",
       "      <td>2017-07-03T23:33:15Z</td>\n",
       "      <td>2017-06-07T09:04:00.000Z,2017-04-30T00:45:00.000Z</td>\n",
       "      <td>...</td>\n",
       "      <td>True</td>\n",
       "      <td>NaN</td>\n",
       "      <td>0.0</td>\n",
       "      <td>5.0</td>\n",
       "      <td>http://reviews.bestbuy.com/3545/5620406/review...</td>\n",
       "      <td>I bought this for my grand daughter when she c...</td>\n",
       "      <td>Fantastic Tablet for kids</td>\n",
       "      <td>NaN</td>\n",
       "      <td>NaN</td>\n",
       "      <td>explore42</td>\n",
       "    </tr>\n",
       "  </tbody>\n",
       "</table>\n",
       "<p>5 rows × 21 columns</p>\n",
       "</div>"
      ],
      "text/plain": [
       "                     id                                               name  \\\n",
       "0  AVqkIhwDv8e3D1O-lebb  All-New Fire HD 8 Tablet, 8 HD Display, Wi-Fi,...   \n",
       "1  AVqkIhwDv8e3D1O-lebb  All-New Fire HD 8 Tablet, 8 HD Display, Wi-Fi,...   \n",
       "2  AVqkIhwDv8e3D1O-lebb  All-New Fire HD 8 Tablet, 8 HD Display, Wi-Fi,...   \n",
       "3  AVqkIhwDv8e3D1O-lebb  All-New Fire HD 8 Tablet, 8 HD Display, Wi-Fi,...   \n",
       "4  AVqkIhwDv8e3D1O-lebb  All-New Fire HD 8 Tablet, 8 HD Display, Wi-Fi,...   \n",
       "\n",
       "        asins   brand                                         categories  \\\n",
       "0  B01AHB9CN2  Amazon  Electronics,iPad & Tablets,All Tablets,Fire Ta...   \n",
       "1  B01AHB9CN2  Amazon  Electronics,iPad & Tablets,All Tablets,Fire Ta...   \n",
       "2  B01AHB9CN2  Amazon  Electronics,iPad & Tablets,All Tablets,Fire Ta...   \n",
       "3  B01AHB9CN2  Amazon  Electronics,iPad & Tablets,All Tablets,Fire Ta...   \n",
       "4  B01AHB9CN2  Amazon  Electronics,iPad & Tablets,All Tablets,Fire Ta...   \n",
       "\n",
       "                                                keys manufacturer  \\\n",
       "0  841667104676,amazon/53004484,amazon/b01ahb9cn2...       Amazon   \n",
       "1  841667104676,amazon/53004484,amazon/b01ahb9cn2...       Amazon   \n",
       "2  841667104676,amazon/53004484,amazon/b01ahb9cn2...       Amazon   \n",
       "3  841667104676,amazon/53004484,amazon/b01ahb9cn2...       Amazon   \n",
       "4  841667104676,amazon/53004484,amazon/b01ahb9cn2...       Amazon   \n",
       "\n",
       "               reviews.date     reviews.dateAdded  \\\n",
       "0  2017-01-13T00:00:00.000Z  2017-07-03T23:33:15Z   \n",
       "1  2017-01-13T00:00:00.000Z  2017-07-03T23:33:15Z   \n",
       "2  2017-01-13T00:00:00.000Z  2017-07-03T23:33:15Z   \n",
       "3  2017-01-13T00:00:00.000Z  2017-07-03T23:33:15Z   \n",
       "4  2017-01-12T00:00:00.000Z  2017-07-03T23:33:15Z   \n",
       "\n",
       "                                    reviews.dateSeen  ... reviews.doRecommend  \\\n",
       "0  2017-06-07T09:04:00.000Z,2017-04-30T00:45:00.000Z  ...                True   \n",
       "1  2017-06-07T09:04:00.000Z,2017-04-30T00:45:00.000Z  ...                True   \n",
       "2  2017-06-07T09:04:00.000Z,2017-04-30T00:45:00.000Z  ...                True   \n",
       "3  2017-06-07T09:04:00.000Z,2017-04-30T00:45:00.000Z  ...                True   \n",
       "4  2017-06-07T09:04:00.000Z,2017-04-30T00:45:00.000Z  ...                True   \n",
       "\n",
       "  reviews.id  reviews.numHelpful  reviews.rating  \\\n",
       "0        NaN                 0.0             5.0   \n",
       "1        NaN                 0.0             5.0   \n",
       "2        NaN                 0.0             5.0   \n",
       "3        NaN                 0.0             4.0   \n",
       "4        NaN                 0.0             5.0   \n",
       "\n",
       "                                  reviews.sourceURLs  \\\n",
       "0  http://reviews.bestbuy.com/3545/5620406/review...   \n",
       "1  http://reviews.bestbuy.com/3545/5620406/review...   \n",
       "2  http://reviews.bestbuy.com/3545/5620406/review...   \n",
       "3  http://reviews.bestbuy.com/3545/5620406/review...   \n",
       "4  http://reviews.bestbuy.com/3545/5620406/review...   \n",
       "\n",
       "                                        reviews.text  \\\n",
       "0  This product so far has not disappointed. My c...   \n",
       "1  great for beginner or experienced person. Boug...   \n",
       "2  Inexpensive tablet for him to use and learn on...   \n",
       "3  I've had my Fire HD 8 two weeks now and I love...   \n",
       "4  I bought this for my grand daughter when she c...   \n",
       "\n",
       "                             reviews.title reviews.userCity  \\\n",
       "0                                   Kindle              NaN   \n",
       "1                                very fast              NaN   \n",
       "2  Beginner tablet for our 9 year old son.              NaN   \n",
       "3                                  Good!!!              NaN   \n",
       "4                Fantastic Tablet for kids              NaN   \n",
       "\n",
       "   reviews.userProvince  reviews.username  \n",
       "0                   NaN           Adapter  \n",
       "1                   NaN            truman  \n",
       "2                   NaN             DaveZ  \n",
       "3                   NaN            Shacks  \n",
       "4                   NaN         explore42  \n",
       "\n",
       "[5 rows x 21 columns]"
      ]
     },
     "execution_count": 3,
     "metadata": {},
     "output_type": "execute_result"
    }
   ],
   "source": [
    "df=pd.read_csv(\"1429_1.csv\")\n",
    "df.head()"
   ]
  },
  {
   "cell_type": "code",
   "execution_count": 4,
   "id": "ed3f81de",
   "metadata": {},
   "outputs": [
    {
     "name": "stdout",
     "output_type": "stream",
     "text": [
      "<class 'pandas.core.frame.DataFrame'>\n",
      "RangeIndex: 34660 entries, 0 to 34659\n",
      "Data columns (total 21 columns):\n",
      " #   Column                Non-Null Count  Dtype  \n",
      "---  ------                --------------  -----  \n",
      " 0   id                    34660 non-null  object \n",
      " 1   name                  27900 non-null  object \n",
      " 2   asins                 34658 non-null  object \n",
      " 3   brand                 34660 non-null  object \n",
      " 4   categories            34660 non-null  object \n",
      " 5   keys                  34660 non-null  object \n",
      " 6   manufacturer          34660 non-null  object \n",
      " 7   reviews.date          34621 non-null  object \n",
      " 8   reviews.dateAdded     24039 non-null  object \n",
      " 9   reviews.dateSeen      34660 non-null  object \n",
      " 10  reviews.didPurchase   1 non-null      object \n",
      " 11  reviews.doRecommend   34066 non-null  object \n",
      " 12  reviews.id            1 non-null      float64\n",
      " 13  reviews.numHelpful    34131 non-null  float64\n",
      " 14  reviews.rating        34627 non-null  float64\n",
      " 15  reviews.sourceURLs    34660 non-null  object \n",
      " 16  reviews.text          34659 non-null  object \n",
      " 17  reviews.title         34655 non-null  object \n",
      " 18  reviews.userCity      0 non-null      float64\n",
      " 19  reviews.userProvince  0 non-null      float64\n",
      " 20  reviews.username      34658 non-null  object \n",
      "dtypes: float64(5), object(16)\n",
      "memory usage: 5.6+ MB\n",
      "None\n"
     ]
    }
   ],
   "source": [
    "print(df.info())"
   ]
  },
  {
   "cell_type": "markdown",
   "id": "c789cc68",
   "metadata": {},
   "source": [
    "reviews.didPurchase , reviews.id , reviews.userCity , reviews.userProvince are completely empty so no use of them "
   ]
  },
  {
   "cell_type": "code",
   "execution_count": 5,
   "id": "8435d0d7",
   "metadata": {},
   "outputs": [
    {
     "data": {
      "text/html": [
       "<div>\n",
       "<style scoped>\n",
       "    .dataframe tbody tr th:only-of-type {\n",
       "        vertical-align: middle;\n",
       "    }\n",
       "\n",
       "    .dataframe tbody tr th {\n",
       "        vertical-align: top;\n",
       "    }\n",
       "\n",
       "    .dataframe thead th {\n",
       "        text-align: right;\n",
       "    }\n",
       "</style>\n",
       "<table border=\"1\" class=\"dataframe\">\n",
       "  <thead>\n",
       "    <tr style=\"text-align: right;\">\n",
       "      <th></th>\n",
       "      <th>reviews.id</th>\n",
       "      <th>reviews.numHelpful</th>\n",
       "      <th>reviews.rating</th>\n",
       "      <th>reviews.userCity</th>\n",
       "      <th>reviews.userProvince</th>\n",
       "    </tr>\n",
       "  </thead>\n",
       "  <tbody>\n",
       "    <tr>\n",
       "      <th>count</th>\n",
       "      <td>1.0</td>\n",
       "      <td>34131.000000</td>\n",
       "      <td>34627.000000</td>\n",
       "      <td>0.0</td>\n",
       "      <td>0.0</td>\n",
       "    </tr>\n",
       "    <tr>\n",
       "      <th>mean</th>\n",
       "      <td>111372787.0</td>\n",
       "      <td>0.630248</td>\n",
       "      <td>4.584573</td>\n",
       "      <td>NaN</td>\n",
       "      <td>NaN</td>\n",
       "    </tr>\n",
       "    <tr>\n",
       "      <th>std</th>\n",
       "      <td>NaN</td>\n",
       "      <td>13.215775</td>\n",
       "      <td>0.735653</td>\n",
       "      <td>NaN</td>\n",
       "      <td>NaN</td>\n",
       "    </tr>\n",
       "    <tr>\n",
       "      <th>min</th>\n",
       "      <td>111372787.0</td>\n",
       "      <td>0.000000</td>\n",
       "      <td>1.000000</td>\n",
       "      <td>NaN</td>\n",
       "      <td>NaN</td>\n",
       "    </tr>\n",
       "    <tr>\n",
       "      <th>25%</th>\n",
       "      <td>111372787.0</td>\n",
       "      <td>0.000000</td>\n",
       "      <td>4.000000</td>\n",
       "      <td>NaN</td>\n",
       "      <td>NaN</td>\n",
       "    </tr>\n",
       "    <tr>\n",
       "      <th>50%</th>\n",
       "      <td>111372787.0</td>\n",
       "      <td>0.000000</td>\n",
       "      <td>5.000000</td>\n",
       "      <td>NaN</td>\n",
       "      <td>NaN</td>\n",
       "    </tr>\n",
       "    <tr>\n",
       "      <th>75%</th>\n",
       "      <td>111372787.0</td>\n",
       "      <td>0.000000</td>\n",
       "      <td>5.000000</td>\n",
       "      <td>NaN</td>\n",
       "      <td>NaN</td>\n",
       "    </tr>\n",
       "    <tr>\n",
       "      <th>max</th>\n",
       "      <td>111372787.0</td>\n",
       "      <td>814.000000</td>\n",
       "      <td>5.000000</td>\n",
       "      <td>NaN</td>\n",
       "      <td>NaN</td>\n",
       "    </tr>\n",
       "  </tbody>\n",
       "</table>\n",
       "</div>"
      ],
      "text/plain": [
       "        reviews.id  reviews.numHelpful  reviews.rating  reviews.userCity  \\\n",
       "count          1.0        34131.000000    34627.000000               0.0   \n",
       "mean   111372787.0            0.630248        4.584573               NaN   \n",
       "std            NaN           13.215775        0.735653               NaN   \n",
       "min    111372787.0            0.000000        1.000000               NaN   \n",
       "25%    111372787.0            0.000000        4.000000               NaN   \n",
       "50%    111372787.0            0.000000        5.000000               NaN   \n",
       "75%    111372787.0            0.000000        5.000000               NaN   \n",
       "max    111372787.0          814.000000        5.000000               NaN   \n",
       "\n",
       "       reviews.userProvince  \n",
       "count                   0.0  \n",
       "mean                    NaN  \n",
       "std                     NaN  \n",
       "min                     NaN  \n",
       "25%                     NaN  \n",
       "50%                     NaN  \n",
       "75%                     NaN  \n",
       "max                     NaN  "
      ]
     },
     "execution_count": 5,
     "metadata": {},
     "output_type": "execute_result"
    }
   ],
   "source": [
    "data=df.copy()\n",
    "data.describe()\n"
   ]
  },
  {
   "cell_type": "markdown",
   "id": "35c340af",
   "metadata": {},
   "source": [
    "rating info and review helpful rating is important to analyse data later"
   ]
  },
  {
   "cell_type": "code",
   "execution_count": 6,
   "id": "cf4404c1",
   "metadata": {},
   "outputs": [
    {
     "data": {
      "text/plain": [
       "<AxesSubplot:>"
      ]
     },
     "execution_count": 6,
     "metadata": {},
     "output_type": "execute_result"
    },
    {
     "data": {
      "image/png": "[encoded data removed]",
      "text/plain": [
       "<Figure size 432x288 with 1 Axes>"
      ]
     },
     "metadata": {},
     "output_type": "display_data"
    }
   ],
   "source": [
    "sns.heatmap(df.isnull(),cbar=False,cmap=\"viridis\")"
   ]
  },
  {
   "cell_type": "markdown",
   "id": "b6763419",
   "metadata": {},
   "source": [
    "we can remove reviews.userCity,reviews.userProvince,reviews_id "
   ]
  },
  {
   "cell_type": "code",
   "execution_count": 7,
   "id": "43bccd41",
   "metadata": {},
   "outputs": [
    {
     "name": "stdout",
     "output_type": "stream",
     "text": [
      "<class 'pandas.core.frame.DataFrame'>\n",
      "RangeIndex: 34660 entries, 0 to 34659\n",
      "Data columns (total 20 columns):\n",
      " #   Column                Non-Null Count  Dtype  \n",
      "---  ------                --------------  -----  \n",
      " 0   id                    34660 non-null  object \n",
      " 1   name                  27900 non-null  object \n",
      " 2   asins                 34658 non-null  object \n",
      " 3   brand                 34660 non-null  object \n",
      " 4   categories            34660 non-null  object \n",
      " 5   keys                  34660 non-null  object \n",
      " 6   manufacturer          34660 non-null  object \n",
      " 7   reviews.date          34621 non-null  object \n",
      " 8   reviews.dateAdded     24039 non-null  object \n",
      " 9   reviews.dateSeen      34660 non-null  object \n",
      " 10  reviews.didPurchase   1 non-null      object \n",
      " 11  reviews.doRecommend   34066 non-null  object \n",
      " 12  reviews.numHelpful    34131 non-null  float64\n",
      " 13  reviews.rating        34627 non-null  float64\n",
      " 14  reviews.sourceURLs    34660 non-null  object \n",
      " 15  reviews.text          34659 non-null  object \n",
      " 16  reviews.title         34655 non-null  object \n",
      " 17  reviews.userCity      0 non-null      float64\n",
      " 18  reviews.userProvince  0 non-null      float64\n",
      " 19  reviews.username      34658 non-null  object \n",
      "dtypes: float64(4), object(16)\n",
      "memory usage: 5.3+ MB\n"
     ]
    }
   ],
   "source": [
    "df.drop(['reviews.id'],inplace=True,axis=1)\n",
    "df.info()"
   ]
  },
  {
   "cell_type": "code",
   "execution_count": 8,
   "id": "022ac00d",
   "metadata": {},
   "outputs": [
    {
     "name": "stdout",
     "output_type": "stream",
     "text": [
      "<class 'pandas.core.frame.DataFrame'>\n",
      "RangeIndex: 34660 entries, 0 to 34659\n",
      "Data columns (total 19 columns):\n",
      " #   Column                Non-Null Count  Dtype  \n",
      "---  ------                --------------  -----  \n",
      " 0   id                    34660 non-null  object \n",
      " 1   name                  27900 non-null  object \n",
      " 2   asins                 34658 non-null  object \n",
      " 3   brand                 34660 non-null  object \n",
      " 4   categories            34660 non-null  object \n",
      " 5   keys                  34660 non-null  object \n",
      " 6   manufacturer          34660 non-null  object \n",
      " 7   reviews.date          34621 non-null  object \n",
      " 8   reviews.dateAdded     24039 non-null  object \n",
      " 9   reviews.dateSeen      34660 non-null  object \n",
      " 10  reviews.doRecommend   34066 non-null  object \n",
      " 11  reviews.numHelpful    34131 non-null  float64\n",
      " 12  reviews.rating        34627 non-null  float64\n",
      " 13  reviews.sourceURLs    34660 non-null  object \n",
      " 14  reviews.text          34659 non-null  object \n",
      " 15  reviews.title         34655 non-null  object \n",
      " 16  reviews.userCity      0 non-null      float64\n",
      " 17  reviews.userProvince  0 non-null      float64\n",
      " 18  reviews.username      34658 non-null  object \n",
      "dtypes: float64(4), object(15)\n",
      "memory usage: 5.0+ MB\n"
     ]
    }
   ],
   "source": [
    "df.drop(['reviews.didPurchase'],inplace =True,axis=1)\n",
    "df.info()"
   ]
  },
  {
   "cell_type": "code",
   "execution_count": 9,
   "id": "d167987a",
   "metadata": {},
   "outputs": [
    {
     "data": {
      "text/html": [
       "<div>\n",
       "<style scoped>\n",
       "    .dataframe tbody tr th:only-of-type {\n",
       "        vertical-align: middle;\n",
       "    }\n",
       "\n",
       "    .dataframe tbody tr th {\n",
       "        vertical-align: top;\n",
       "    }\n",
       "\n",
       "    .dataframe thead th {\n",
       "        text-align: right;\n",
       "    }\n",
       "</style>\n",
       "<table border=\"1\" class=\"dataframe\">\n",
       "  <thead>\n",
       "    <tr style=\"text-align: right;\">\n",
       "      <th></th>\n",
       "      <th>reviews.numHelpful</th>\n",
       "      <th>reviews.rating</th>\n",
       "      <th>reviews.userCity</th>\n",
       "      <th>reviews.userProvince</th>\n",
       "    </tr>\n",
       "  </thead>\n",
       "  <tbody>\n",
       "    <tr>\n",
       "      <th>count</th>\n",
       "      <td>34131.000000</td>\n",
       "      <td>34627.000000</td>\n",
       "      <td>0.0</td>\n",
       "      <td>0.0</td>\n",
       "    </tr>\n",
       "    <tr>\n",
       "      <th>mean</th>\n",
       "      <td>0.630248</td>\n",
       "      <td>4.584573</td>\n",
       "      <td>NaN</td>\n",
       "      <td>NaN</td>\n",
       "    </tr>\n",
       "    <tr>\n",
       "      <th>std</th>\n",
       "      <td>13.215775</td>\n",
       "      <td>0.735653</td>\n",
       "      <td>NaN</td>\n",
       "      <td>NaN</td>\n",
       "    </tr>\n",
       "    <tr>\n",
       "      <th>min</th>\n",
       "      <td>0.000000</td>\n",
       "      <td>1.000000</td>\n",
       "      <td>NaN</td>\n",
       "      <td>NaN</td>\n",
       "    </tr>\n",
       "    <tr>\n",
       "      <th>25%</th>\n",
       "      <td>0.000000</td>\n",
       "      <td>4.000000</td>\n",
       "      <td>NaN</td>\n",
       "      <td>NaN</td>\n",
       "    </tr>\n",
       "    <tr>\n",
       "      <th>50%</th>\n",
       "      <td>0.000000</td>\n",
       "      <td>5.000000</td>\n",
       "      <td>NaN</td>\n",
       "      <td>NaN</td>\n",
       "    </tr>\n",
       "    <tr>\n",
       "      <th>75%</th>\n",
       "      <td>0.000000</td>\n",
       "      <td>5.000000</td>\n",
       "      <td>NaN</td>\n",
       "      <td>NaN</td>\n",
       "    </tr>\n",
       "    <tr>\n",
       "      <th>max</th>\n",
       "      <td>814.000000</td>\n",
       "      <td>5.000000</td>\n",
       "      <td>NaN</td>\n",
       "      <td>NaN</td>\n",
       "    </tr>\n",
       "  </tbody>\n",
       "</table>\n",
       "</div>"
      ],
      "text/plain": [
       "       reviews.numHelpful  reviews.rating  reviews.userCity  \\\n",
       "count        34131.000000    34627.000000               0.0   \n",
       "mean             0.630248        4.584573               NaN   \n",
       "std             13.215775        0.735653               NaN   \n",
       "min              0.000000        1.000000               NaN   \n",
       "25%              0.000000        4.000000               NaN   \n",
       "50%              0.000000        5.000000               NaN   \n",
       "75%              0.000000        5.000000               NaN   \n",
       "max            814.000000        5.000000               NaN   \n",
       "\n",
       "       reviews.userProvince  \n",
       "count                   0.0  \n",
       "mean                    NaN  \n",
       "std                     NaN  \n",
       "min                     NaN  \n",
       "25%                     NaN  \n",
       "50%                     NaN  \n",
       "75%                     NaN  \n",
       "max                     NaN  "
      ]
     },
     "execution_count": 9,
     "metadata": {},
     "output_type": "execute_result"
    }
   ],
   "source": [
    "df.describe()"
   ]
  },
  {
   "cell_type": "markdown",
   "id": "56aef020",
   "metadata": {},
   "source": [
    "Avg review rating =4.58.\n",
    "Avg review helpful is 0.6 but with high standard deviation so there are people whose reviews are imp and whose are not imp. Reviews lie btw 0-13 people finding helpful. \n",
    "Review that was most helful was to 814 people. "
   ]
  },
  {
   "cell_type": "code",
   "execution_count": 10,
   "id": "00bafe9b",
   "metadata": {},
   "outputs": [
    {
     "name": "stdout",
     "output_type": "stream",
     "text": [
      "<class 'pandas.core.frame.DataFrame'>\n",
      "RangeIndex: 34660 entries, 0 to 34659\n",
      "Data columns (total 19 columns):\n",
      " #   Column                Non-Null Count  Dtype  \n",
      "---  ------                --------------  -----  \n",
      " 0   id                    34660 non-null  object \n",
      " 1   name                  27900 non-null  object \n",
      " 2   asins                 34658 non-null  object \n",
      " 3   brand                 34660 non-null  object \n",
      " 4   categories            34660 non-null  object \n",
      " 5   keys                  34660 non-null  object \n",
      " 6   manufacturer          34660 non-null  object \n",
      " 7   reviews.date          34621 non-null  object \n",
      " 8   reviews.dateAdded     24039 non-null  object \n",
      " 9   reviews.dateSeen      34660 non-null  object \n",
      " 10  reviews.doRecommend   34066 non-null  object \n",
      " 11  reviews.numHelpful    34131 non-null  float64\n",
      " 12  reviews.rating        34627 non-null  float64\n",
      " 13  reviews.sourceURLs    34660 non-null  object \n",
      " 14  reviews.text          34659 non-null  object \n",
      " 15  reviews.title         34655 non-null  object \n",
      " 16  reviews.userCity      0 non-null      float64\n",
      " 17  reviews.userProvince  0 non-null      float64\n",
      " 18  reviews.username      34658 non-null  object \n",
      "dtypes: float64(4), object(15)\n",
      "memory usage: 5.0+ MB\n"
     ]
    }
   ],
   "source": [
    "# making a copy for eda where we can drop strings and work on numerical values only\n",
    "data=df.copy()\n",
    "data.info()"
   ]
  },
  {
   "cell_type": "code",
   "execution_count": 11,
   "id": "b24b5e46",
   "metadata": {},
   "outputs": [
    {
     "name": "stdout",
     "output_type": "stream",
     "text": [
      "['B01AHB9CN2' 'B00VINDBJK' 'B005PB2T0S' 'B002Y27P3M' 'B01AHB9CYG'\n",
      " 'B01AHB9C1E' 'B01J2G4VBG' 'B00ZV9PXP2' 'B0083Q04TA' 'B018Y229OU'\n",
      " 'B00REQKWGA' 'B00IOYAM4I' 'B018T075DC' nan 'B00DU15MU4' 'B018Y225IA'\n",
      " 'B005PB2T2Q' 'B018Y23MNM' 'B00OQVZDJM' 'B00IOY8XWQ' 'B00LO29KXQ'\n",
      " 'B00QJDU3KY' 'B018Y22C2Y' 'B01BFIBRIE' 'B01J4ORNHU' 'B018SZT3BK'\n",
      " 'B00UH4D8G2' 'B018Y22BI4' 'B00TSUGXKE' 'B00L9EPT8O,B01E6AO69U'\n",
      " 'B018Y23P7K' 'B00X4WHP5E' 'B00QFQRELG' 'B00LW9XOJM' 'B00QL1ZN3G'\n",
      " 'B0189XYY0Q' 'B01BH83OOM' 'B00BFJAHF8' 'B00U3FPN4U' 'B002Y27P6Y'\n",
      " 'B006GWO5NE' 'B006GWO5WK']\n",
      "Number of Unique asins: 42\n"
     ]
    }
   ],
   "source": [
    "print(data['asins'].unique())\n",
    "asins_unique=len(data['asins'].unique())\n",
    "print(\"Number of Unique asins: \"+str(asins_unique))"
   ]
  },
  {
   "cell_type": "markdown",
   "id": "1e755422",
   "metadata": {},
   "source": [
    "unique number of asins means number of different type of products "
   ]
  },
  {
   "cell_type": "code",
   "execution_count": 12,
   "id": "587bbd3c",
   "metadata": {},
   "outputs": [
    {
     "data": {
      "image/png": "[encoded data removed]",
      "text/plain": [
       "<Figure size 1080x1080 with 4 Axes>"
      ]
     },
     "metadata": {},
     "output_type": "display_data"
    }
   ],
   "source": [
    "data.hist(figsize=(15,15))\n",
    "plt.show()"
   ]
  },
  {
   "cell_type": "markdown",
   "id": "32bfd69d",
   "metadata": {},
   "source": [
    "reviews.numHelpful: Outliers in this case are valuable, so we may want to weight reviews that had more than 50+ people who find them helpful. reviews.rating: Majority of examples were rated highly (looking at rating distribution). There is twice amount of 5 star ratings than the others ratings combined so problem arises when we train it with only high rating so it won't give proper result in negative rating. So we use stratified shuffle split "
   ]
  },
  {
   "cell_type": "markdown",
   "id": "45170d86",
   "metadata": {},
   "source": [
    "# Train test split with stratified shuffle"
   ]
  },
  {
   "cell_type": "code",
   "execution_count": 13,
   "id": "19fb197c",
   "metadata": {},
   "outputs": [],
   "source": [
    "from sklearn.model_selection import StratifiedShuffleSplit\n",
    "# so in this stratified shuffle split , the data is shuffled everytime after a split \n",
    "# so now no one type of data will be there in training dataset which makes it well trained for differnet datasets\n"
   ]
  },
  {
   "cell_type": "markdown",
   "id": "afa8ea38",
   "metadata": {},
   "source": [
    "we use this split when our dataset is too biased to one section so to balance it we shuffle it after every insertion of datapoint "
   ]
  },
  {
   "cell_type": "code",
   "execution_count": 14,
   "id": "1274cba0",
   "metadata": {},
   "outputs": [
    {
     "name": "stdout",
     "output_type": "stream",
     "text": [
      "Before 34660\n",
      "After 34627\n"
     ]
    }
   ],
   "source": [
    "print(\"Before {}\".format(len(data)))\n",
    "# now removing all null values from review.rating\n",
    "data_after=data.dropna(subset=['reviews.rating'])\n",
    "print(\"After {}\".format(len(data_after)))\n",
    "data_after['reviews.rating']=data_after['reviews.rating'].astype(int)"
   ]
  },
  {
   "cell_type": "code",
   "execution_count": 18,
   "id": "3bd78dde",
   "metadata": {},
   "outputs": [
    {
     "data": {
      "text/html": [
       "<div>\n",
       "<style scoped>\n",
       "    .dataframe tbody tr th:only-of-type {\n",
       "        vertical-align: middle;\n",
       "    }\n",
       "\n",
       "    .dataframe tbody tr th {\n",
       "        vertical-align: top;\n",
       "    }\n",
       "\n",
       "    .dataframe thead th {\n",
       "        text-align: right;\n",
       "    }\n",
       "</style>\n",
       "<table border=\"1\" class=\"dataframe\">\n",
       "  <thead>\n",
       "    <tr style=\"text-align: right;\">\n",
       "      <th></th>\n",
       "      <th>id</th>\n",
       "      <th>name</th>\n",
       "      <th>asins</th>\n",
       "      <th>brand</th>\n",
       "      <th>categories</th>\n",
       "      <th>keys</th>\n",
       "      <th>manufacturer</th>\n",
       "      <th>reviews.date</th>\n",
       "      <th>reviews.dateAdded</th>\n",
       "      <th>reviews.dateSeen</th>\n",
       "      <th>reviews.doRecommend</th>\n",
       "      <th>reviews.numHelpful</th>\n",
       "      <th>reviews.rating</th>\n",
       "      <th>reviews.sourceURLs</th>\n",
       "      <th>reviews.text</th>\n",
       "      <th>reviews.title</th>\n",
       "      <th>reviews.userCity</th>\n",
       "      <th>reviews.userProvince</th>\n",
       "      <th>reviews.username</th>\n",
       "    </tr>\n",
       "  </thead>\n",
       "  <tbody>\n",
       "    <tr>\n",
       "      <th>22428</th>\n",
       "      <td>AVpfl8cLLJeJML43AE3S</td>\n",
       "      <td>Echo (White),,,\\r\\nEcho (White),,,</td>\n",
       "      <td>B00L9EPT8O,B01E6AO69U</td>\n",
       "      <td>Amazon</td>\n",
       "      <td>Stereos,Remote Controls,Amazon Echo,Audio Dock...</td>\n",
       "      <td>echowhite/263039693056,echowhite/152558276095,...</td>\n",
       "      <td>Amazon</td>\n",
       "      <td>2017-06-21T00:00:00.000Z</td>\n",
       "      <td>NaN</td>\n",
       "      <td>2017-09-28T00:00:00Z,2017-09-08T00:00:00Z,2017...</td>\n",
       "      <td>True</td>\n",
       "      <td>0.0</td>\n",
       "      <td>5.0</td>\n",
       "      <td>http://reviews.bestbuy.com/3545/5588528/review...</td>\n",
       "      <td>Easy to set up and start using. Love having an...</td>\n",
       "      <td>Easy to use</td>\n",
       "      <td>NaN</td>\n",
       "      <td>NaN</td>\n",
       "      <td>Paducah</td>\n",
       "    </tr>\n",
       "    <tr>\n",
       "      <th>21958</th>\n",
       "      <td>AVpfl8cLLJeJML43AE3S</td>\n",
       "      <td>Echo (White),,,\\r\\nEcho (White),,,</td>\n",
       "      <td>B00L9EPT8O,B01E6AO69U</td>\n",
       "      <td>Amazon</td>\n",
       "      <td>Stereos,Remote Controls,Amazon Echo,Audio Dock...</td>\n",
       "      <td>echowhite/263039693056,echowhite/152558276095,...</td>\n",
       "      <td>Amazon</td>\n",
       "      <td>2017-05-12T00:00:00.000Z</td>\n",
       "      <td>NaN</td>\n",
       "      <td>2017-09-28T00:00:00Z,2017-09-08T00:00:00Z,2017...</td>\n",
       "      <td>True</td>\n",
       "      <td>0.0</td>\n",
       "      <td>5.0</td>\n",
       "      <td>http://reviews.bestbuy.com/3545/5588528/review...</td>\n",
       "      <td>The Echo is the coolest thing! I love it. I ev...</td>\n",
       "      <td>Love it!</td>\n",
       "      <td>NaN</td>\n",
       "      <td>NaN</td>\n",
       "      <td>Matt</td>\n",
       "    </tr>\n",
       "    <tr>\n",
       "      <th>14544</th>\n",
       "      <td>AVphgVaX1cnluZ0-DR74</td>\n",
       "      <td>Brand New Amazon Kindle Fire 16gb 7 Ips Displa...</td>\n",
       "      <td>B018Y229OU</td>\n",
       "      <td>Amazon</td>\n",
       "      <td>Fire Tablets,Tablets,Computers &amp; Tablets,All T...</td>\n",
       "      <td>firetablet7displaywifi8gbincludesspecialoffers...</td>\n",
       "      <td>Amazon</td>\n",
       "      <td>2017-05-12T00:00:00.000Z</td>\n",
       "      <td>2017-07-02T14:36:33Z</td>\n",
       "      <td>2017-06-07T08:14:00.000Z</td>\n",
       "      <td>True</td>\n",
       "      <td>0.0</td>\n",
       "      <td>5.0</td>\n",
       "      <td>http://reviews.bestbuy.com/3545/5025800/review...</td>\n",
       "      <td>Tablet is easy to use. Gives options for passw...</td>\n",
       "      <td>Awesome tablet for a child</td>\n",
       "      <td>NaN</td>\n",
       "      <td>NaN</td>\n",
       "      <td>Irishfan317</td>\n",
       "    </tr>\n",
       "    <tr>\n",
       "      <th>29327</th>\n",
       "      <td>AVpfpK8KLJeJML43BCuD</td>\n",
       "      <td>NaN</td>\n",
       "      <td>B01BH83OOM</td>\n",
       "      <td>Amazon Echo</td>\n",
       "      <td>Featured Brands,Electronics,Amazon Devices,Hom...</td>\n",
       "      <td>amazonecho/b01bh83oom,amazon/b01bh83oom,amazon...</td>\n",
       "      <td>Amazon</td>\n",
       "      <td>2016-12-31T00:00:00.000Z</td>\n",
       "      <td>NaN</td>\n",
       "      <td>2017-09-28T00:00:00Z,2017-09-08T00:00:00Z,2017...</td>\n",
       "      <td>True</td>\n",
       "      <td>0.0</td>\n",
       "      <td>5.0</td>\n",
       "      <td>http://reviews.bestbuy.com/3545/5097300/review...</td>\n",
       "      <td>It's not the echo but for what I paid, it's we...</td>\n",
       "      <td>Love my tap</td>\n",
       "      <td>NaN</td>\n",
       "      <td>NaN</td>\n",
       "      <td>Ces0983</td>\n",
       "    </tr>\n",
       "    <tr>\n",
       "      <th>20449</th>\n",
       "      <td>AV1YnRtnglJLPUi8IJmV</td>\n",
       "      <td>Kindle Voyage E-reader, 6 High-Resolution Disp...</td>\n",
       "      <td>B00OQVZDJM</td>\n",
       "      <td>Amazon</td>\n",
       "      <td>Walmart for Business,Office Electronics,Tablet...</td>\n",
       "      <td>amazon/b00oqvzdjm,848719056099,amazonkindlepap...</td>\n",
       "      <td>Amazon</td>\n",
       "      <td>2017-01-18T00:00:00.000Z</td>\n",
       "      <td>2017-09-05T22:09:30Z</td>\n",
       "      <td>2017-08-31T22:32:40.985Z,2017-08-02T19:53:19.4...</td>\n",
       "      <td>True</td>\n",
       "      <td>0.0</td>\n",
       "      <td>5.0</td>\n",
       "      <td>http://reviews.bestbuy.com/3545/9439005/review...</td>\n",
       "      <td>I was not sure about making the jump to an e-r...</td>\n",
       "      <td>Great reader</td>\n",
       "      <td>NaN</td>\n",
       "      <td>NaN</td>\n",
       "      <td>billc</td>\n",
       "    </tr>\n",
       "  </tbody>\n",
       "</table>\n",
       "</div>"
      ],
      "text/plain": [
       "                         id  \\\n",
       "22428  AVpfl8cLLJeJML43AE3S   \n",
       "21958  AVpfl8cLLJeJML43AE3S   \n",
       "14544  AVphgVaX1cnluZ0-DR74   \n",
       "29327  AVpfpK8KLJeJML43BCuD   \n",
       "20449  AV1YnRtnglJLPUi8IJmV   \n",
       "\n",
       "                                                    name  \\\n",
       "22428                 Echo (White),,,\\r\\nEcho (White),,,   \n",
       "21958                 Echo (White),,,\\r\\nEcho (White),,,   \n",
       "14544  Brand New Amazon Kindle Fire 16gb 7 Ips Displa...   \n",
       "29327                                                NaN   \n",
       "20449  Kindle Voyage E-reader, 6 High-Resolution Disp...   \n",
       "\n",
       "                       asins        brand  \\\n",
       "22428  B00L9EPT8O,B01E6AO69U       Amazon   \n",
       "21958  B00L9EPT8O,B01E6AO69U       Amazon   \n",
       "14544             B018Y229OU       Amazon   \n",
       "29327             B01BH83OOM  Amazon Echo   \n",
       "20449             B00OQVZDJM       Amazon   \n",
       "\n",
       "                                              categories  \\\n",
       "22428  Stereos,Remote Controls,Amazon Echo,Audio Dock...   \n",
       "21958  Stereos,Remote Controls,Amazon Echo,Audio Dock...   \n",
       "14544  Fire Tablets,Tablets,Computers & Tablets,All T...   \n",
       "29327  Featured Brands,Electronics,Amazon Devices,Hom...   \n",
       "20449  Walmart for Business,Office Electronics,Tablet...   \n",
       "\n",
       "                                                    keys manufacturer  \\\n",
       "22428  echowhite/263039693056,echowhite/152558276095,...       Amazon   \n",
       "21958  echowhite/263039693056,echowhite/152558276095,...       Amazon   \n",
       "14544  firetablet7displaywifi8gbincludesspecialoffers...       Amazon   \n",
       "29327  amazonecho/b01bh83oom,amazon/b01bh83oom,amazon...       Amazon   \n",
       "20449  amazon/b00oqvzdjm,848719056099,amazonkindlepap...       Amazon   \n",
       "\n",
       "                   reviews.date     reviews.dateAdded  \\\n",
       "22428  2017-06-21T00:00:00.000Z                   NaN   \n",
       "21958  2017-05-12T00:00:00.000Z                   NaN   \n",
       "14544  2017-05-12T00:00:00.000Z  2017-07-02T14:36:33Z   \n",
       "29327  2016-12-31T00:00:00.000Z                   NaN   \n",
       "20449  2017-01-18T00:00:00.000Z  2017-09-05T22:09:30Z   \n",
       "\n",
       "                                        reviews.dateSeen reviews.doRecommend  \\\n",
       "22428  2017-09-28T00:00:00Z,2017-09-08T00:00:00Z,2017...                True   \n",
       "21958  2017-09-28T00:00:00Z,2017-09-08T00:00:00Z,2017...                True   \n",
       "14544                           2017-06-07T08:14:00.000Z                True   \n",
       "29327  2017-09-28T00:00:00Z,2017-09-08T00:00:00Z,2017...                True   \n",
       "20449  2017-08-31T22:32:40.985Z,2017-08-02T19:53:19.4...                True   \n",
       "\n",
       "       reviews.numHelpful  reviews.rating  \\\n",
       "22428                 0.0             5.0   \n",
       "21958                 0.0             5.0   \n",
       "14544                 0.0             5.0   \n",
       "29327                 0.0             5.0   \n",
       "20449                 0.0             5.0   \n",
       "\n",
       "                                      reviews.sourceURLs  \\\n",
       "22428  http://reviews.bestbuy.com/3545/5588528/review...   \n",
       "21958  http://reviews.bestbuy.com/3545/5588528/review...   \n",
       "14544  http://reviews.bestbuy.com/3545/5025800/review...   \n",
       "29327  http://reviews.bestbuy.com/3545/5097300/review...   \n",
       "20449  http://reviews.bestbuy.com/3545/9439005/review...   \n",
       "\n",
       "                                            reviews.text  \\\n",
       "22428  Easy to set up and start using. Love having an...   \n",
       "21958  The Echo is the coolest thing! I love it. I ev...   \n",
       "14544  Tablet is easy to use. Gives options for passw...   \n",
       "29327  It's not the echo but for what I paid, it's we...   \n",
       "20449  I was not sure about making the jump to an e-r...   \n",
       "\n",
       "                    reviews.title  reviews.userCity  reviews.userProvince  \\\n",
       "22428                 Easy to use               NaN                   NaN   \n",
       "21958                    Love it!               NaN                   NaN   \n",
       "14544  Awesome tablet for a child               NaN                   NaN   \n",
       "29327                 Love my tap               NaN                   NaN   \n",
       "20449                Great reader               NaN                   NaN   \n",
       "\n",
       "      reviews.username  \n",
       "22428          Paducah  \n",
       "21958             Matt  \n",
       "14544      Irishfan317  \n",
       "29327          Ces0983  \n",
       "20449            billc  "
      ]
     },
     "execution_count": 18,
     "metadata": {},
     "output_type": "execute_result"
    }
   ],
   "source": [
    "split=StratifiedShuffleSplit(n_splits=5,test_size=0.2)\n",
    "for train_index,test_index in split.split(data_after,data_after[\"reviews.rating\"]):\n",
    "    strat_train=data_after.reindex(train_index)\n",
    "    strat_test=data_after.reindex(test_index)\n",
    "strat_train.head()"
   ]
  },
  {
   "cell_type": "markdown",
   "id": "ecfff33c",
   "metadata": {},
   "source": [
    "So here we can see that we get randomised row in our training dataset by using stratified shuffle split"
   ]
  },
  {
   "cell_type": "code",
   "execution_count": 18,
   "id": "a79a3c86",
   "metadata": {},
   "outputs": [
    {
     "data": {
      "text/plain": [
       "27701"
      ]
     },
     "execution_count": 18,
     "metadata": {},
     "output_type": "execute_result"
    }
   ],
   "source": [
    "len(strat_train)"
   ]
  },
  {
   "cell_type": "code",
   "execution_count": 21,
   "id": "9d10eb6d",
   "metadata": {},
   "outputs": [
    {
     "data": {
      "text/plain": [
       "6926"
      ]
     },
     "execution_count": 21,
     "metadata": {},
     "output_type": "execute_result"
    }
   ],
   "source": [
    "len(strat_test)"
   ]
  },
  {
   "cell_type": "code",
   "execution_count": 22,
   "id": "c131e0c6",
   "metadata": {},
   "outputs": [
    {
     "data": {
      "text/plain": [
       "5.0    0.685751\n",
       "4.0    0.246706\n",
       "3.0    0.043897\n",
       "2.0    0.011408\n",
       "1.0    0.011335\n",
       "Name: reviews.rating, dtype: float64"
      ]
     },
     "execution_count": 22,
     "metadata": {},
     "output_type": "execute_result"
    }
   ],
   "source": [
    "strat_train[\"reviews.rating\"].value_counts()/len(strat_train)\n",
    "# this is to get percentage of each of the ratings "
   ]
  },
  {
   "cell_type": "code",
   "execution_count": 23,
   "id": "cd2420c4",
   "metadata": {},
   "outputs": [
    {
     "data": {
      "text/plain": [
       "5.0    0.687554\n",
       "4.0    0.246029\n",
       "3.0    0.040572\n",
       "1.0    0.012417\n",
       "2.0    0.012273\n",
       "Name: reviews.rating, dtype: float64"
      ]
     },
     "execution_count": 23,
     "metadata": {},
     "output_type": "execute_result"
    }
   ],
   "source": [
    "strat_test[\"reviews.rating\"].value_counts()/len(strat_test)\n",
    "# this is to get percentage of each of the ratings "
   ]
  },
  {
   "cell_type": "markdown",
   "id": "91dad22d",
   "metadata": {},
   "source": [
    "so stratified shuffle split helps in giving more appropriate answers as what if it is arranged in some way that 1* max rating comes in strat_train . so it helps in avg in out"
   ]
  },
  {
   "cell_type": "markdown",
   "id": "240ab485",
   "metadata": {},
   "source": [
    "# Data Exploration(training set)"
   ]
  },
  {
   "cell_type": "code",
   "execution_count": 25,
   "id": "deec8d08",
   "metadata": {},
   "outputs": [
    {
     "data": {
      "text/html": [
       "<div>\n",
       "<style scoped>\n",
       "    .dataframe tbody tr th:only-of-type {\n",
       "        vertical-align: middle;\n",
       "    }\n",
       "\n",
       "    .dataframe tbody tr th {\n",
       "        vertical-align: top;\n",
       "    }\n",
       "\n",
       "    .dataframe thead th {\n",
       "        text-align: right;\n",
       "    }\n",
       "</style>\n",
       "<table border=\"1\" class=\"dataframe\">\n",
       "  <thead>\n",
       "    <tr style=\"text-align: right;\">\n",
       "      <th></th>\n",
       "      <th>id</th>\n",
       "      <th>name</th>\n",
       "      <th>asins</th>\n",
       "      <th>brand</th>\n",
       "      <th>categories</th>\n",
       "      <th>keys</th>\n",
       "      <th>manufacturer</th>\n",
       "      <th>reviews.date</th>\n",
       "      <th>reviews.dateAdded</th>\n",
       "      <th>reviews.dateSeen</th>\n",
       "      <th>reviews.doRecommend</th>\n",
       "      <th>reviews.numHelpful</th>\n",
       "      <th>reviews.rating</th>\n",
       "      <th>reviews.sourceURLs</th>\n",
       "      <th>reviews.text</th>\n",
       "      <th>reviews.title</th>\n",
       "      <th>reviews.userCity</th>\n",
       "      <th>reviews.userProvince</th>\n",
       "      <th>reviews.username</th>\n",
       "    </tr>\n",
       "  </thead>\n",
       "  <tbody>\n",
       "    <tr>\n",
       "      <th>22428</th>\n",
       "      <td>AVpfl8cLLJeJML43AE3S</td>\n",
       "      <td>Echo (White),,,\\r\\nEcho (White),,,</td>\n",
       "      <td>B00L9EPT8O,B01E6AO69U</td>\n",
       "      <td>Amazon</td>\n",
       "      <td>Stereos,Remote Controls,Amazon Echo,Audio Dock...</td>\n",
       "      <td>echowhite/263039693056,echowhite/152558276095,...</td>\n",
       "      <td>Amazon</td>\n",
       "      <td>2017-06-21T00:00:00.000Z</td>\n",
       "      <td>NaN</td>\n",
       "      <td>2017-09-28T00:00:00Z,2017-09-08T00:00:00Z,2017...</td>\n",
       "      <td>True</td>\n",
       "      <td>0.0</td>\n",
       "      <td>5.0</td>\n",
       "      <td>http://reviews.bestbuy.com/3545/5588528/review...</td>\n",
       "      <td>Easy to set up and start using. Love having an...</td>\n",
       "      <td>Easy to use</td>\n",
       "      <td>NaN</td>\n",
       "      <td>NaN</td>\n",
       "      <td>Paducah</td>\n",
       "    </tr>\n",
       "    <tr>\n",
       "      <th>21958</th>\n",
       "      <td>AVpfl8cLLJeJML43AE3S</td>\n",
       "      <td>Echo (White),,,\\r\\nEcho (White),,,</td>\n",
       "      <td>B00L9EPT8O,B01E6AO69U</td>\n",
       "      <td>Amazon</td>\n",
       "      <td>Stereos,Remote Controls,Amazon Echo,Audio Dock...</td>\n",
       "      <td>echowhite/263039693056,echowhite/152558276095,...</td>\n",
       "      <td>Amazon</td>\n",
       "      <td>2017-05-12T00:00:00.000Z</td>\n",
       "      <td>NaN</td>\n",
       "      <td>2017-09-28T00:00:00Z,2017-09-08T00:00:00Z,2017...</td>\n",
       "      <td>True</td>\n",
       "      <td>0.0</td>\n",
       "      <td>5.0</td>\n",
       "      <td>http://reviews.bestbuy.com/3545/5588528/review...</td>\n",
       "      <td>The Echo is the coolest thing! I love it. I ev...</td>\n",
       "      <td>Love it!</td>\n",
       "      <td>NaN</td>\n",
       "      <td>NaN</td>\n",
       "      <td>Matt</td>\n",
       "    </tr>\n",
       "  </tbody>\n",
       "</table>\n",
       "</div>"
      ],
      "text/plain": [
       "                         id                                name  \\\n",
       "22428  AVpfl8cLLJeJML43AE3S  Echo (White),,,\\r\\nEcho (White),,,   \n",
       "21958  AVpfl8cLLJeJML43AE3S  Echo (White),,,\\r\\nEcho (White),,,   \n",
       "\n",
       "                       asins   brand  \\\n",
       "22428  B00L9EPT8O,B01E6AO69U  Amazon   \n",
       "21958  B00L9EPT8O,B01E6AO69U  Amazon   \n",
       "\n",
       "                                              categories  \\\n",
       "22428  Stereos,Remote Controls,Amazon Echo,Audio Dock...   \n",
       "21958  Stereos,Remote Controls,Amazon Echo,Audio Dock...   \n",
       "\n",
       "                                                    keys manufacturer  \\\n",
       "22428  echowhite/263039693056,echowhite/152558276095,...       Amazon   \n",
       "21958  echowhite/263039693056,echowhite/152558276095,...       Amazon   \n",
       "\n",
       "                   reviews.date reviews.dateAdded  \\\n",
       "22428  2017-06-21T00:00:00.000Z               NaN   \n",
       "21958  2017-05-12T00:00:00.000Z               NaN   \n",
       "\n",
       "                                        reviews.dateSeen reviews.doRecommend  \\\n",
       "22428  2017-09-28T00:00:00Z,2017-09-08T00:00:00Z,2017...                True   \n",
       "21958  2017-09-28T00:00:00Z,2017-09-08T00:00:00Z,2017...                True   \n",
       "\n",
       "       reviews.numHelpful  reviews.rating  \\\n",
       "22428                 0.0             5.0   \n",
       "21958                 0.0             5.0   \n",
       "\n",
       "                                      reviews.sourceURLs  \\\n",
       "22428  http://reviews.bestbuy.com/3545/5588528/review...   \n",
       "21958  http://reviews.bestbuy.com/3545/5588528/review...   \n",
       "\n",
       "                                            reviews.text reviews.title  \\\n",
       "22428  Easy to set up and start using. Love having an...   Easy to use   \n",
       "21958  The Echo is the coolest thing! I love it. I ev...      Love it!   \n",
       "\n",
       "       reviews.userCity  reviews.userProvince reviews.username  \n",
       "22428               NaN                   NaN          Paducah  \n",
       "21958               NaN                   NaN             Matt  "
      ]
     },
     "execution_count": 25,
     "metadata": {},
     "output_type": "execute_result"
    }
   ],
   "source": [
    "reviews=strat_train.copy()\n",
    "reviews.head(2)"
   ]
  },
  {
   "cell_type": "code",
   "execution_count": 28,
   "id": "cb19f08a",
   "metadata": {},
   "outputs": [
    {
     "data": {
      "text/plain": [
       "(48, 35)"
      ]
     },
     "execution_count": 28,
     "metadata": {},
     "output_type": "execute_result"
    }
   ],
   "source": [
    "len(reviews['name'].unique()),len(reviews['asins'].unique())"
   ]
  },
  {
   "cell_type": "markdown",
   "id": "bc8fee26",
   "metadata": {},
   "source": [
    "so we have 35 products in training data ASINs but more product names 48"
   ]
  },
  {
   "cell_type": "markdown",
   "id": "856de115",
   "metadata": {},
   "source": [
    "so we have one to many relationship btw asins and names. A single asin can have different name due to different seller"
   ]
  },
  {
   "cell_type": "code",
   "execution_count": 29,
   "id": "c001d660",
   "metadata": {},
   "outputs": [
    {
     "data": {
      "text/plain": [
       "asins\n",
       "B005PB2T0S               [Amazon Kindle Lighted Leather Cover,,,\\r\\nKin...\n",
       "B005PB2T2Q               [Fire Kids Edition Tablet, 7 Display, Wi-Fi, 1...\n",
       "B00DU15MU4               [Brand New Amazon Kindle Fire 16gb 7 Ips Displ...\n",
       "B00IOY8XWQ               [Amazon Fire Hd 8 8in Tablet 16gb Black B018sz...\n",
       "B00IOYAM4I               [Brand New Amazon Kindle Fire 16gb 7 Ips Displ...\n",
       "B00L9EPT8O,B01E6AO69U    [Echo (White),,,\\r\\nEcho (White),,,, Amazon Fi...\n",
       "B00LO29KXQ               [Fire Tablet, 7 Display, Wi-Fi, 8 GB - Include...\n",
       "B00LW9XOJM                                                           [nan]\n",
       "B00OQVZDJM               [Kindle Voyage E-reader, 6 High-Resolution Dis...\n",
       "B00QFQRELG                                                           [nan]\n",
       "B00QJDU3KY               [Fire Tablet, 7 Display, Wi-Fi, 8 GB - Include...\n",
       "B00QL1ZN3G                                                           [nan]\n",
       "B00REQKWGA               [Brand New Amazon Kindle Fire 16gb 7 Ips Displ...\n",
       "B00TSUGXKE                            [Echo (White),,,\\r\\nEcho (White),,,]\n",
       "B00U3FPN4U                                                           [nan]\n",
       "B00UH4D8G2                            [Echo (White),,,\\r\\nEcho (White),,,]\n",
       "B00VINDBJK               [Kindle Oasis E-reader with Leather Charging C...\n",
       "B00X4WHP5E                                                           [nan]\n",
       "B00ZV9PXP2               [Fire Tablet, 7 Display, Wi-Fi, 8 GB - Include...\n",
       "B0189XYY0Q                                                           [nan]\n",
       "B018SZT3BK               [Fire Tablet, 7 Display, Wi-Fi, 8 GB - Include...\n",
       "B018T075DC               [Brand New Amazon Kindle Fire 16gb 7 Ips Displ...\n",
       "B018Y225IA               [Brand New Amazon Kindle Fire 16gb 7 Ips Displ...\n",
       "B018Y229OU               [Brand New Amazon Kindle Fire 16gb 7 Ips Displ...\n",
       "B018Y22BI4                            [Echo (White),,,\\r\\nEcho (White),,,]\n",
       "B018Y22C2Y               [Fire Tablet, 7 Display, Wi-Fi, 8 GB - Include...\n",
       "B018Y23MNM               [Fire Kids Edition Tablet, 7 Display, Wi-Fi, 1...\n",
       "B01AHB9C1E               [Amazon 5W USB Official OEM Charger and Power ...\n",
       "B01AHB9CN2               [All-New Fire HD 8 Tablet, 8 HD Display, Wi-Fi...\n",
       "B01AHB9CYG               [All-New Fire HD 8 Tablet, 8 HD Display, Wi-Fi...\n",
       "B01BFIBRIE               [Fire Tablet, 7 Display, Wi-Fi, 8 GB - Include...\n",
       "B01BH83OOM                                                           [nan]\n",
       "B01J2G4VBG               [All-New Kindle E-reader - Black, 6 Glare-Free...\n",
       "B01J4ORNHU               [Fire Tablet, 7 Display, Wi-Fi, 8 GB - Include...\n",
       "Name: name, dtype: object"
      ]
     },
     "execution_count": 29,
     "metadata": {},
     "output_type": "execute_result"
    }
   ],
   "source": [
    "# so its better to group by on the basis of asins\n",
    "reviews.groupby('asins')['name'].unique()"
   ]
  },
  {
   "cell_type": "markdown",
   "id": "479a71b5",
   "metadata": {},
   "source": [
    "we are concerned with product ratings and reviews so we take care of asins only"
   ]
  },
  {
   "cell_type": "code",
   "execution_count": 25,
   "id": "b480b19a",
   "metadata": {},
   "outputs": [
    {
     "name": "stdout",
     "output_type": "stream",
     "text": [
      "<class 'pandas.core.frame.DataFrame'>\n",
      "Int64Index: 27701 entries, 7788 to 18578\n",
      "Data columns (total 19 columns):\n",
      " #   Column                Non-Null Count  Dtype  \n",
      "---  ------                --------------  -----  \n",
      " 0   id                    27673 non-null  object \n",
      " 1   name                  22328 non-null  object \n",
      " 2   asins                 27672 non-null  object \n",
      " 3   brand                 27673 non-null  object \n",
      " 4   categories            27673 non-null  object \n",
      " 5   keys                  27673 non-null  object \n",
      " 6   manufacturer          27673 non-null  object \n",
      " 7   reviews.date          27653 non-null  object \n",
      " 8   reviews.dateAdded     19180 non-null  object \n",
      " 9   reviews.dateSeen      27673 non-null  object \n",
      " 10  reviews.doRecommend   27252 non-null  object \n",
      " 11  reviews.numHelpful    27298 non-null  float64\n",
      " 12  reviews.rating        27673 non-null  float64\n",
      " 13  reviews.sourceURLs    27673 non-null  object \n",
      " 14  reviews.text          27672 non-null  object \n",
      " 15  reviews.title         27669 non-null  object \n",
      " 16  reviews.userCity      0 non-null      float64\n",
      " 17  reviews.userProvince  0 non-null      float64\n",
      " 18  reviews.username      27671 non-null  object \n",
      "dtypes: float64(4), object(15)\n",
      "memory usage: 4.2+ MB\n"
     ]
    }
   ],
   "source": [
    "reviews.info()"
   ]
  },
  {
   "cell_type": "markdown",
   "id": "c92a4775",
   "metadata": {},
   "source": [
    "# Asins/Names with ratings"
   ]
  },
  {
   "cell_type": "code",
   "execution_count": 44,
   "id": "2c037c0f",
   "metadata": {},
   "outputs": [
    {
     "data": {
      "image/png": "[encoded data removed]",
      "text/plain": [
       "<Figure size 1152x720 with 2 Axes>"
      ]
     },
     "metadata": {},
     "output_type": "display_data"
    }
   ],
   "source": [
    "fig = plt.figure(figsize=(16,10))\n",
    "# we use subplot when we have to see interrelationship btw two graphs\n",
    "ax1 = plt.subplot(2,1,1)\n",
    "# this 2,1,1 is 2nd row 1st column 1st plot \n",
    "ax2 = plt.subplot(2,1,2, sharex = ax1)\n",
    "reviews[\"asins\"].value_counts().plot(kind=\"bar\", ax=ax1, title=\"ASIN Frequency\")\n",
    "# The ax (or Axes object) is the area of the figure where your data appears\n",
    "np.log10(reviews[\"asins\"].value_counts()).plot(kind=\"bar\", ax=ax2, \n",
    "                                               title=\"ASIN Frequency (Log10 Adjusted)\") \n",
    "# np.log10 normalises our data to visualize it better \n",
    "plt.show()"
   ]
  },
  {
   "cell_type": "markdown",
   "id": "f9dbb9be",
   "metadata": {},
   "source": [
    "so we know that what asins have max number of people rating . And this answers which asins have most sales "
   ]
  },
  {
   "cell_type": "markdown",
   "id": "44d074bc",
   "metadata": {},
   "source": [
    "# ASINS/Reviews"
   ]
  },
  {
   "cell_type": "code",
   "execution_count": 46,
   "id": "c1db9a40",
   "metadata": {},
   "outputs": [
    {
     "data": {
      "text/plain": [
       "4.5855614973262036"
      ]
     },
     "execution_count": 46,
     "metadata": {},
     "output_type": "execute_result"
    }
   ],
   "source": [
    "reviews['reviews.rating'].mean()\n",
    "# trianing data set rating mean"
   ]
  },
  {
   "cell_type": "code",
   "execution_count": 56,
   "id": "6b0529f9",
   "metadata": {
    "scrolled": false
   },
   "outputs": [
    {
     "data": {
      "image/png": "[encoded data removed]",
      "text/plain": [
       "<Figure size 1152x864 with 2 Axes>"
      ]
     },
     "metadata": {},
     "output_type": "display_data"
    }
   ],
   "source": [
    "# now we will use pointplot to see our number of those people giving ratings\n",
    "asins_count=reviews['asins'].value_counts().index\n",
    "plt.subplots(2,1,figsize=(16,12))\n",
    "plt.subplot(2,1,1)\n",
    "reviews['asins'].value_counts().plot(kind=\"bar\",title=\"ASINS frequeny\")\n",
    "plt.subplot(2,1,2)\n",
    "sns.pointplot(x=\"asins\",y=\"reviews.rating\",order=asins_count,data=reviews)\n",
    "plt.xticks(rotation=90)\n",
    "plt.show()"
   ]
  },
  {
   "cell_type": "markdown",
   "id": "12bcbd25",
   "metadata": {},
   "source": [
    "so we have info about rating of product and no. of reviews given on that asin.Here dots are means and lines extremes show max min rating value.So now we can do analysis of products quality using no. of users"
   ]
  },
  {
   "cell_type": "markdown",
   "id": "e6cd2a8f",
   "metadata": {},
   "source": [
    "# reviews.doRecommend/ASINs"
   ]
  },
  {
   "cell_type": "code",
   "execution_count": 58,
   "id": "24da2a8e",
   "metadata": {},
   "outputs": [
    {
     "data": {
      "image/png": "[encoded data removed]",
      "text/plain": [
       "<Figure size 1152x864 with 2 Axes>"
      ]
     },
     "metadata": {},
     "output_type": "display_data"
    }
   ],
   "source": [
    "plt.subplots(2,1,figsize=(16,12))\n",
    "plt.subplot(2,1,1)\n",
    "reviews['asins'].value_counts().plot(kind=\"bar\",title=\"ASINS frequeny\")\n",
    "plt.subplot(2,1,2)\n",
    "sns.pointplot(x=\"asins\",y=\"reviews.doRecommend\",order=asins_count,data=reviews)\n",
    "plt.xticks(rotation=90)\n",
    "plt.show()"
   ]
  },
  {
   "cell_type": "markdown",
   "id": "63d984a6",
   "metadata": {},
   "source": [
    "Info about which product is more frequently recommended and if its sold more or not based on that recommendation"
   ]
  },
  {
   "cell_type": "markdown",
   "id": "452880ac",
   "metadata": {},
   "source": [
    "# Correlations"
   ]
  },
  {
   "cell_type": "code",
   "execution_count": 59,
   "id": "3e51f648",
   "metadata": {},
   "outputs": [
    {
     "data": {
      "text/html": [
       "<div>\n",
       "<style scoped>\n",
       "    .dataframe tbody tr th:only-of-type {\n",
       "        vertical-align: middle;\n",
       "    }\n",
       "\n",
       "    .dataframe tbody tr th {\n",
       "        vertical-align: top;\n",
       "    }\n",
       "\n",
       "    .dataframe thead th {\n",
       "        text-align: right;\n",
       "    }\n",
       "</style>\n",
       "<table border=\"1\" class=\"dataframe\">\n",
       "  <thead>\n",
       "    <tr style=\"text-align: right;\">\n",
       "      <th></th>\n",
       "      <th>reviews.numHelpful</th>\n",
       "      <th>reviews.rating</th>\n",
       "      <th>reviews.userCity</th>\n",
       "      <th>reviews.userProvince</th>\n",
       "    </tr>\n",
       "  </thead>\n",
       "  <tbody>\n",
       "    <tr>\n",
       "      <th>reviews.numHelpful</th>\n",
       "      <td>1.000000</td>\n",
       "      <td>-0.045884</td>\n",
       "      <td>NaN</td>\n",
       "      <td>NaN</td>\n",
       "    </tr>\n",
       "    <tr>\n",
       "      <th>reviews.rating</th>\n",
       "      <td>-0.045884</td>\n",
       "      <td>1.000000</td>\n",
       "      <td>NaN</td>\n",
       "      <td>NaN</td>\n",
       "    </tr>\n",
       "    <tr>\n",
       "      <th>reviews.userCity</th>\n",
       "      <td>NaN</td>\n",
       "      <td>NaN</td>\n",
       "      <td>NaN</td>\n",
       "      <td>NaN</td>\n",
       "    </tr>\n",
       "    <tr>\n",
       "      <th>reviews.userProvince</th>\n",
       "      <td>NaN</td>\n",
       "      <td>NaN</td>\n",
       "      <td>NaN</td>\n",
       "      <td>NaN</td>\n",
       "    </tr>\n",
       "  </tbody>\n",
       "</table>\n",
       "</div>"
      ],
      "text/plain": [
       "                      reviews.numHelpful  reviews.rating  reviews.userCity  \\\n",
       "reviews.numHelpful              1.000000       -0.045884               NaN   \n",
       "reviews.rating                 -0.045884        1.000000               NaN   \n",
       "reviews.userCity                     NaN             NaN               NaN   \n",
       "reviews.userProvince                 NaN             NaN               NaN   \n",
       "\n",
       "                      reviews.userProvince  \n",
       "reviews.numHelpful                     NaN  \n",
       "reviews.rating                         NaN  \n",
       "reviews.userCity                       NaN  \n",
       "reviews.userProvince                   NaN  "
      ]
     },
     "execution_count": 59,
     "metadata": {},
     "output_type": "execute_result"
    }
   ],
   "source": [
    "corr_matrix=reviews.corr()\n",
    "corr_matrix"
   ]
  },
  {
   "cell_type": "code",
   "execution_count": 75,
   "id": "a764d8ec",
   "metadata": {},
   "outputs": [
    {
     "data": {
      "text/html": [
       "<div>\n",
       "<style scoped>\n",
       "    .dataframe tbody tr th:only-of-type {\n",
       "        vertical-align: middle;\n",
       "    }\n",
       "\n",
       "    .dataframe tbody tr th {\n",
       "        vertical-align: top;\n",
       "    }\n",
       "\n",
       "    .dataframe thead th {\n",
       "        text-align: right;\n",
       "    }\n",
       "</style>\n",
       "<table border=\"1\" class=\"dataframe\">\n",
       "  <thead>\n",
       "    <tr style=\"text-align: right;\">\n",
       "      <th></th>\n",
       "      <th>reviews.rating</th>\n",
       "    </tr>\n",
       "    <tr>\n",
       "      <th>asins</th>\n",
       "      <th></th>\n",
       "    </tr>\n",
       "  </thead>\n",
       "  <tbody>\n",
       "    <tr>\n",
       "      <th>B005PB2T0S</th>\n",
       "      <td>4.000000</td>\n",
       "    </tr>\n",
       "    <tr>\n",
       "      <th>B005PB2T2Q</th>\n",
       "      <td>3.666667</td>\n",
       "    </tr>\n",
       "    <tr>\n",
       "      <th>B00DU15MU4</th>\n",
       "      <td>5.000000</td>\n",
       "    </tr>\n",
       "    <tr>\n",
       "      <th>B00IOY8XWQ</th>\n",
       "      <td>4.729614</td>\n",
       "    </tr>\n",
       "    <tr>\n",
       "      <th>B00IOYAM4I</th>\n",
       "      <td>4.833333</td>\n",
       "    </tr>\n",
       "    <tr>\n",
       "      <th>B00L9EPT8O,B01E6AO69U</th>\n",
       "      <td>4.671548</td>\n",
       "    </tr>\n",
       "    <tr>\n",
       "      <th>B00LO29KXQ</th>\n",
       "      <td>5.000000</td>\n",
       "    </tr>\n",
       "    <tr>\n",
       "      <th>B00LW9XOJM</th>\n",
       "      <td>3.833333</td>\n",
       "    </tr>\n",
       "    <tr>\n",
       "      <th>B00OQVZDJM</th>\n",
       "      <td>4.776050</td>\n",
       "    </tr>\n",
       "    <tr>\n",
       "      <th>B00QFQRELG</th>\n",
       "      <td>4.281250</td>\n",
       "    </tr>\n",
       "    <tr>\n",
       "      <th>B00QJDU3KY</th>\n",
       "      <td>4.615385</td>\n",
       "    </tr>\n",
       "    <tr>\n",
       "      <th>B00QL1ZN3G</th>\n",
       "      <td>3.000000</td>\n",
       "    </tr>\n",
       "    <tr>\n",
       "      <th>B00REQKWGA</th>\n",
       "      <td>4.500000</td>\n",
       "    </tr>\n",
       "    <tr>\n",
       "      <th>B00TSUGXKE</th>\n",
       "      <td>4.473684</td>\n",
       "    </tr>\n",
       "    <tr>\n",
       "      <th>B00U3FPN4U</th>\n",
       "      <td>4.706756</td>\n",
       "    </tr>\n",
       "    <tr>\n",
       "      <th>B00UH4D8G2</th>\n",
       "      <td>3.666667</td>\n",
       "    </tr>\n",
       "    <tr>\n",
       "      <th>B00VINDBJK</th>\n",
       "      <td>4.693878</td>\n",
       "    </tr>\n",
       "    <tr>\n",
       "      <th>B00X4WHP5E</th>\n",
       "      <td>4.750000</td>\n",
       "    </tr>\n",
       "    <tr>\n",
       "      <th>B00ZV9PXP2</th>\n",
       "      <td>4.514970</td>\n",
       "    </tr>\n",
       "    <tr>\n",
       "      <th>B0189XYY0Q</th>\n",
       "      <td>4.570000</td>\n",
       "    </tr>\n",
       "    <tr>\n",
       "      <th>B018SZT3BK</th>\n",
       "      <td>4.592593</td>\n",
       "    </tr>\n",
       "    <tr>\n",
       "      <th>B018T075DC</th>\n",
       "      <td>5.000000</td>\n",
       "    </tr>\n",
       "    <tr>\n",
       "      <th>B018Y225IA</th>\n",
       "      <td>4.490338</td>\n",
       "    </tr>\n",
       "    <tr>\n",
       "      <th>B018Y229OU</th>\n",
       "      <td>4.456054</td>\n",
       "    </tr>\n",
       "    <tr>\n",
       "      <th>B018Y22BI4</th>\n",
       "      <td>4.714286</td>\n",
       "    </tr>\n",
       "    <tr>\n",
       "      <th>B018Y22C2Y</th>\n",
       "      <td>4.750000</td>\n",
       "    </tr>\n",
       "    <tr>\n",
       "      <th>B018Y23MNM</th>\n",
       "      <td>4.511913</td>\n",
       "    </tr>\n",
       "    <tr>\n",
       "      <th>B01AHB9C1E</th>\n",
       "      <td>4.416667</td>\n",
       "    </tr>\n",
       "    <tr>\n",
       "      <th>B01AHB9CN2</th>\n",
       "      <td>4.585302</td>\n",
       "    </tr>\n",
       "    <tr>\n",
       "      <th>B01AHB9CYG</th>\n",
       "      <td>4.561983</td>\n",
       "    </tr>\n",
       "    <tr>\n",
       "      <th>B01BFIBRIE</th>\n",
       "      <td>4.578947</td>\n",
       "    </tr>\n",
       "    <tr>\n",
       "      <th>B01BH83OOM</th>\n",
       "      <td>4.524655</td>\n",
       "    </tr>\n",
       "    <tr>\n",
       "      <th>B01J2G4VBG</th>\n",
       "      <td>4.402402</td>\n",
       "    </tr>\n",
       "    <tr>\n",
       "      <th>B01J4ORNHU</th>\n",
       "      <td>4.384615</td>\n",
       "    </tr>\n",
       "  </tbody>\n",
       "</table>\n",
       "</div>"
      ],
      "text/plain": [
       "                       reviews.rating\n",
       "asins                                \n",
       "B005PB2T0S                   4.000000\n",
       "B005PB2T2Q                   3.666667\n",
       "B00DU15MU4                   5.000000\n",
       "B00IOY8XWQ                   4.729614\n",
       "B00IOYAM4I                   4.833333\n",
       "B00L9EPT8O,B01E6AO69U        4.671548\n",
       "B00LO29KXQ                   5.000000\n",
       "B00LW9XOJM                   3.833333\n",
       "B00OQVZDJM                   4.776050\n",
       "B00QFQRELG                   4.281250\n",
       "B00QJDU3KY                   4.615385\n",
       "B00QL1ZN3G                   3.000000\n",
       "B00REQKWGA                   4.500000\n",
       "B00TSUGXKE                   4.473684\n",
       "B00U3FPN4U                   4.706756\n",
       "B00UH4D8G2                   3.666667\n",
       "B00VINDBJK                   4.693878\n",
       "B00X4WHP5E                   4.750000\n",
       "B00ZV9PXP2                   4.514970\n",
       "B0189XYY0Q                   4.570000\n",
       "B018SZT3BK                   4.592593\n",
       "B018T075DC                   5.000000\n",
       "B018Y225IA                   4.490338\n",
       "B018Y229OU                   4.456054\n",
       "B018Y22BI4                   4.714286\n",
       "B018Y22C2Y                   4.750000\n",
       "B018Y23MNM                   4.511913\n",
       "B01AHB9C1E                   4.416667\n",
       "B01AHB9CN2                   4.585302\n",
       "B01AHB9CYG                   4.561983\n",
       "B01BFIBRIE                   4.578947\n",
       "B01BH83OOM                   4.524655\n",
       "B01J2G4VBG                   4.402402\n",
       "B01J4ORNHU                   4.384615"
      ]
     },
     "execution_count": 75,
     "metadata": {},
     "output_type": "execute_result"
    }
   ],
   "source": [
    "counts=reviews['asins'].value_counts().to_frame()\n",
    "avg_rating=reviews.groupby(\"asins\")['reviews.rating'].mean().to_frame()\n",
    "avg_rating"
   ]
  },
  {
   "cell_type": "markdown",
   "id": "9bb15fcb",
   "metadata": {},
   "source": [
    "Id's and mean of the product belonging to that id"
   ]
  },
  {
   "cell_type": "code",
   "execution_count": 85,
   "id": "b319c343",
   "metadata": {},
   "outputs": [
    {
     "data": {
      "text/html": [
       "<div>\n",
       "<style scoped>\n",
       "    .dataframe tbody tr th:only-of-type {\n",
       "        vertical-align: middle;\n",
       "    }\n",
       "\n",
       "    .dataframe tbody tr th {\n",
       "        vertical-align: top;\n",
       "    }\n",
       "\n",
       "    .dataframe thead th {\n",
       "        text-align: right;\n",
       "    }\n",
       "</style>\n",
       "<table border=\"1\" class=\"dataframe\">\n",
       "  <thead>\n",
       "    <tr style=\"text-align: right;\">\n",
       "      <th></th>\n",
       "      <th>reviews.rating</th>\n",
       "      <th>asins</th>\n",
       "    </tr>\n",
       "    <tr>\n",
       "      <th>asins</th>\n",
       "      <th></th>\n",
       "      <th></th>\n",
       "    </tr>\n",
       "  </thead>\n",
       "  <tbody>\n",
       "    <tr>\n",
       "      <th>B005PB2T0S</th>\n",
       "      <td>4.000000</td>\n",
       "      <td>4</td>\n",
       "    </tr>\n",
       "    <tr>\n",
       "      <th>B005PB2T2Q</th>\n",
       "      <td>3.666667</td>\n",
       "      <td>6</td>\n",
       "    </tr>\n",
       "    <tr>\n",
       "      <th>B00DU15MU4</th>\n",
       "      <td>5.000000</td>\n",
       "      <td>1</td>\n",
       "    </tr>\n",
       "    <tr>\n",
       "      <th>B00IOY8XWQ</th>\n",
       "      <td>4.729614</td>\n",
       "      <td>466</td>\n",
       "    </tr>\n",
       "    <tr>\n",
       "      <th>B00IOYAM4I</th>\n",
       "      <td>4.833333</td>\n",
       "      <td>36</td>\n",
       "    </tr>\n",
       "    <tr>\n",
       "      <th>B00L9EPT8O,B01E6AO69U</th>\n",
       "      <td>4.671548</td>\n",
       "      <td>5258</td>\n",
       "    </tr>\n",
       "    <tr>\n",
       "      <th>B00LO29KXQ</th>\n",
       "      <td>5.000000</td>\n",
       "      <td>2</td>\n",
       "    </tr>\n",
       "    <tr>\n",
       "      <th>B00LW9XOJM</th>\n",
       "      <td>3.833333</td>\n",
       "      <td>12</td>\n",
       "    </tr>\n",
       "    <tr>\n",
       "      <th>B00OQVZDJM</th>\n",
       "      <td>4.776050</td>\n",
       "      <td>2572</td>\n",
       "    </tr>\n",
       "    <tr>\n",
       "      <th>B00QFQRELG</th>\n",
       "      <td>4.281250</td>\n",
       "      <td>64</td>\n",
       "    </tr>\n",
       "    <tr>\n",
       "      <th>B00QJDU3KY</th>\n",
       "      <td>4.615385</td>\n",
       "      <td>13</td>\n",
       "    </tr>\n",
       "    <tr>\n",
       "      <th>B00QL1ZN3G</th>\n",
       "      <td>3.000000</td>\n",
       "      <td>12</td>\n",
       "    </tr>\n",
       "    <tr>\n",
       "      <th>B00REQKWGA</th>\n",
       "      <td>4.500000</td>\n",
       "      <td>2</td>\n",
       "    </tr>\n",
       "    <tr>\n",
       "      <th>B00TSUGXKE</th>\n",
       "      <td>4.473684</td>\n",
       "      <td>285</td>\n",
       "    </tr>\n",
       "    <tr>\n",
       "      <th>B00U3FPN4U</th>\n",
       "      <td>4.706756</td>\n",
       "      <td>4041</td>\n",
       "    </tr>\n",
       "    <tr>\n",
       "      <th>B00UH4D8G2</th>\n",
       "      <td>3.666667</td>\n",
       "      <td>6</td>\n",
       "    </tr>\n",
       "    <tr>\n",
       "      <th>B00VINDBJK</th>\n",
       "      <td>4.693878</td>\n",
       "      <td>49</td>\n",
       "    </tr>\n",
       "    <tr>\n",
       "      <th>B00X4WHP5E</th>\n",
       "      <td>4.750000</td>\n",
       "      <td>4</td>\n",
       "    </tr>\n",
       "    <tr>\n",
       "      <th>B00ZV9PXP2</th>\n",
       "      <td>4.514970</td>\n",
       "      <td>167</td>\n",
       "    </tr>\n",
       "    <tr>\n",
       "      <th>B0189XYY0Q</th>\n",
       "      <td>4.570000</td>\n",
       "      <td>200</td>\n",
       "    </tr>\n",
       "    <tr>\n",
       "      <th>B018SZT3BK</th>\n",
       "      <td>4.592593</td>\n",
       "      <td>216</td>\n",
       "    </tr>\n",
       "    <tr>\n",
       "      <th>B018T075DC</th>\n",
       "      <td>5.000000</td>\n",
       "      <td>5</td>\n",
       "    </tr>\n",
       "    <tr>\n",
       "      <th>B018Y225IA</th>\n",
       "      <td>4.490338</td>\n",
       "      <td>828</td>\n",
       "    </tr>\n",
       "    <tr>\n",
       "      <th>B018Y229OU</th>\n",
       "      <td>4.456054</td>\n",
       "      <td>8738</td>\n",
       "    </tr>\n",
       "    <tr>\n",
       "      <th>B018Y22BI4</th>\n",
       "      <td>4.714286</td>\n",
       "      <td>7</td>\n",
       "    </tr>\n",
       "    <tr>\n",
       "      <th>B018Y22C2Y</th>\n",
       "      <td>4.750000</td>\n",
       "      <td>4</td>\n",
       "    </tr>\n",
       "    <tr>\n",
       "      <th>B018Y23MNM</th>\n",
       "      <td>4.511913</td>\n",
       "      <td>1385</td>\n",
       "    </tr>\n",
       "    <tr>\n",
       "      <th>B01AHB9C1E</th>\n",
       "      <td>4.416667</td>\n",
       "      <td>12</td>\n",
       "    </tr>\n",
       "    <tr>\n",
       "      <th>B01AHB9CN2</th>\n",
       "      <td>4.585302</td>\n",
       "      <td>2286</td>\n",
       "    </tr>\n",
       "    <tr>\n",
       "      <th>B01AHB9CYG</th>\n",
       "      <td>4.561983</td>\n",
       "      <td>121</td>\n",
       "    </tr>\n",
       "    <tr>\n",
       "      <th>B01BFIBRIE</th>\n",
       "      <td>4.578947</td>\n",
       "      <td>19</td>\n",
       "    </tr>\n",
       "    <tr>\n",
       "      <th>B01BH83OOM</th>\n",
       "      <td>4.524655</td>\n",
       "      <td>507</td>\n",
       "    </tr>\n",
       "    <tr>\n",
       "      <th>B01J2G4VBG</th>\n",
       "      <td>4.402402</td>\n",
       "      <td>333</td>\n",
       "    </tr>\n",
       "    <tr>\n",
       "      <th>B01J4ORNHU</th>\n",
       "      <td>4.384615</td>\n",
       "      <td>13</td>\n",
       "    </tr>\n",
       "  </tbody>\n",
       "</table>\n",
       "</div>"
      ],
      "text/plain": [
       "                       reviews.rating  asins\n",
       "asins                                       \n",
       "B005PB2T0S                   4.000000      4\n",
       "B005PB2T2Q                   3.666667      6\n",
       "B00DU15MU4                   5.000000      1\n",
       "B00IOY8XWQ                   4.729614    466\n",
       "B00IOYAM4I                   4.833333     36\n",
       "B00L9EPT8O,B01E6AO69U        4.671548   5258\n",
       "B00LO29KXQ                   5.000000      2\n",
       "B00LW9XOJM                   3.833333     12\n",
       "B00OQVZDJM                   4.776050   2572\n",
       "B00QFQRELG                   4.281250     64\n",
       "B00QJDU3KY                   4.615385     13\n",
       "B00QL1ZN3G                   3.000000     12\n",
       "B00REQKWGA                   4.500000      2\n",
       "B00TSUGXKE                   4.473684    285\n",
       "B00U3FPN4U                   4.706756   4041\n",
       "B00UH4D8G2                   3.666667      6\n",
       "B00VINDBJK                   4.693878     49\n",
       "B00X4WHP5E                   4.750000      4\n",
       "B00ZV9PXP2                   4.514970    167\n",
       "B0189XYY0Q                   4.570000    200\n",
       "B018SZT3BK                   4.592593    216\n",
       "B018T075DC                   5.000000      5\n",
       "B018Y225IA                   4.490338    828\n",
       "B018Y229OU                   4.456054   8738\n",
       "B018Y22BI4                   4.714286      7\n",
       "B018Y22C2Y                   4.750000      4\n",
       "B018Y23MNM                   4.511913   1385\n",
       "B01AHB9C1E                   4.416667     12\n",
       "B01AHB9CN2                   4.585302   2286\n",
       "B01AHB9CYG                   4.561983    121\n",
       "B01BFIBRIE                   4.578947     19\n",
       "B01BH83OOM                   4.524655    507\n",
       "B01J2G4VBG                   4.402402    333\n",
       "B01J4ORNHU                   4.384615     13"
      ]
     },
     "execution_count": 85,
     "metadata": {},
     "output_type": "execute_result"
    }
   ],
   "source": [
    "table=avg_rating.join(counts)\n",
    "table"
   ]
  },
  {
   "cell_type": "code",
   "execution_count": 83,
   "id": "8f9f2d5b",
   "metadata": {},
   "outputs": [
    {
     "data": {
      "text/html": [
       "<div>\n",
       "<style scoped>\n",
       "    .dataframe tbody tr th:only-of-type {\n",
       "        vertical-align: middle;\n",
       "    }\n",
       "\n",
       "    .dataframe tbody tr th {\n",
       "        vertical-align: top;\n",
       "    }\n",
       "\n",
       "    .dataframe thead th {\n",
       "        text-align: right;\n",
       "    }\n",
       "</style>\n",
       "<table border=\"1\" class=\"dataframe\">\n",
       "  <thead>\n",
       "    <tr style=\"text-align: right;\">\n",
       "      <th></th>\n",
       "      <th>reviews.rating</th>\n",
       "      <th>asins</th>\n",
       "    </tr>\n",
       "  </thead>\n",
       "  <tbody>\n",
       "    <tr>\n",
       "      <th>reviews.rating</th>\n",
       "      <td>1.000000</td>\n",
       "      <td>0.117104</td>\n",
       "    </tr>\n",
       "    <tr>\n",
       "      <th>asins</th>\n",
       "      <td>0.117104</td>\n",
       "      <td>1.000000</td>\n",
       "    </tr>\n",
       "  </tbody>\n",
       "</table>\n",
       "</div>"
      ],
      "text/plain": [
       "                reviews.rating     asins\n",
       "reviews.rating        1.000000  0.117104\n",
       "asins                 0.117104  1.000000"
      ]
     },
     "execution_count": 83,
     "metadata": {},
     "output_type": "execute_result"
    },
    {
     "data": {
      "image/png": "[encoded data removed]",
      "text/plain": [
       "<Figure size 432x288 with 1 Axes>"
      ]
     },
     "metadata": {},
     "output_type": "display_data"
    }
   ],
   "source": [
    "plt.scatter(\"asins\",\"reviews.rating\",data=table)\n",
    "table.corr()"
   ]
  },
  {
   "cell_type": "markdown",
   "id": "9c4cbd6a",
   "metadata": {},
   "source": [
    "# Sentiment Analysis"
   ]
  },
  {
   "cell_type": "code",
   "execution_count": 88,
   "id": "9f8b0e23",
   "metadata": {},
   "outputs": [],
   "source": [
    "def sentiments(rating):\n",
    "    if(rating==5)or(rating==4):\n",
    "        return \"Positive\"\n",
    "    elif rating==3:\n",
    "        return \"Neutral\"\n",
    "    elif(rating==2)or(rating==1):\n",
    "        return \"Negative\""
   ]
  },
  {
   "cell_type": "code",
   "execution_count": 89,
   "id": "d6bf4da1",
   "metadata": {},
   "outputs": [
    {
     "data": {
      "text/html": [
       "<div>\n",
       "<style scoped>\n",
       "    .dataframe tbody tr th:only-of-type {\n",
       "        vertical-align: middle;\n",
       "    }\n",
       "\n",
       "    .dataframe tbody tr th {\n",
       "        vertical-align: top;\n",
       "    }\n",
       "\n",
       "    .dataframe thead th {\n",
       "        text-align: right;\n",
       "    }\n",
       "</style>\n",
       "<table border=\"1\" class=\"dataframe\">\n",
       "  <thead>\n",
       "    <tr style=\"text-align: right;\">\n",
       "      <th></th>\n",
       "      <th>id</th>\n",
       "      <th>name</th>\n",
       "      <th>asins</th>\n",
       "      <th>brand</th>\n",
       "      <th>categories</th>\n",
       "      <th>keys</th>\n",
       "      <th>manufacturer</th>\n",
       "      <th>reviews.date</th>\n",
       "      <th>reviews.dateAdded</th>\n",
       "      <th>reviews.dateSeen</th>\n",
       "      <th>reviews.doRecommend</th>\n",
       "      <th>reviews.numHelpful</th>\n",
       "      <th>reviews.rating</th>\n",
       "      <th>reviews.sourceURLs</th>\n",
       "      <th>reviews.text</th>\n",
       "      <th>reviews.title</th>\n",
       "      <th>reviews.userCity</th>\n",
       "      <th>reviews.userProvince</th>\n",
       "      <th>reviews.username</th>\n",
       "      <th>Sentiments</th>\n",
       "    </tr>\n",
       "  </thead>\n",
       "  <tbody>\n",
       "    <tr>\n",
       "      <th>22428</th>\n",
       "      <td>AVpfl8cLLJeJML43AE3S</td>\n",
       "      <td>Echo (White),,,\\r\\nEcho (White),,,</td>\n",
       "      <td>B00L9EPT8O,B01E6AO69U</td>\n",
       "      <td>Amazon</td>\n",
       "      <td>Stereos,Remote Controls,Amazon Echo,Audio Dock...</td>\n",
       "      <td>echowhite/263039693056,echowhite/152558276095,...</td>\n",
       "      <td>Amazon</td>\n",
       "      <td>2017-06-21T00:00:00.000Z</td>\n",
       "      <td>NaN</td>\n",
       "      <td>2017-09-28T00:00:00Z,2017-09-08T00:00:00Z,2017...</td>\n",
       "      <td>True</td>\n",
       "      <td>0.0</td>\n",
       "      <td>5.0</td>\n",
       "      <td>http://reviews.bestbuy.com/3545/5588528/review...</td>\n",
       "      <td>Easy to set up and start using. Love having an...</td>\n",
       "      <td>Easy to use</td>\n",
       "      <td>NaN</td>\n",
       "      <td>NaN</td>\n",
       "      <td>Paducah</td>\n",
       "      <td>Positive</td>\n",
       "    </tr>\n",
       "    <tr>\n",
       "      <th>21958</th>\n",
       "      <td>AVpfl8cLLJeJML43AE3S</td>\n",
       "      <td>Echo (White),,,\\r\\nEcho (White),,,</td>\n",
       "      <td>B00L9EPT8O,B01E6AO69U</td>\n",
       "      <td>Amazon</td>\n",
       "      <td>Stereos,Remote Controls,Amazon Echo,Audio Dock...</td>\n",
       "      <td>echowhite/263039693056,echowhite/152558276095,...</td>\n",
       "      <td>Amazon</td>\n",
       "      <td>2017-05-12T00:00:00.000Z</td>\n",
       "      <td>NaN</td>\n",
       "      <td>2017-09-28T00:00:00Z,2017-09-08T00:00:00Z,2017...</td>\n",
       "      <td>True</td>\n",
       "      <td>0.0</td>\n",
       "      <td>5.0</td>\n",
       "      <td>http://reviews.bestbuy.com/3545/5588528/review...</td>\n",
       "      <td>The Echo is the coolest thing! I love it. I ev...</td>\n",
       "      <td>Love it!</td>\n",
       "      <td>NaN</td>\n",
       "      <td>NaN</td>\n",
       "      <td>Matt</td>\n",
       "      <td>Positive</td>\n",
       "    </tr>\n",
       "    <tr>\n",
       "      <th>14544</th>\n",
       "      <td>AVphgVaX1cnluZ0-DR74</td>\n",
       "      <td>Brand New Amazon Kindle Fire 16gb 7 Ips Displa...</td>\n",
       "      <td>B018Y229OU</td>\n",
       "      <td>Amazon</td>\n",
       "      <td>Fire Tablets,Tablets,Computers &amp; Tablets,All T...</td>\n",
       "      <td>firetablet7displaywifi8gbincludesspecialoffers...</td>\n",
       "      <td>Amazon</td>\n",
       "      <td>2017-05-12T00:00:00.000Z</td>\n",
       "      <td>2017-07-02T14:36:33Z</td>\n",
       "      <td>2017-06-07T08:14:00.000Z</td>\n",
       "      <td>True</td>\n",
       "      <td>0.0</td>\n",
       "      <td>5.0</td>\n",
       "      <td>http://reviews.bestbuy.com/3545/5025800/review...</td>\n",
       "      <td>Tablet is easy to use. Gives options for passw...</td>\n",
       "      <td>Awesome tablet for a child</td>\n",
       "      <td>NaN</td>\n",
       "      <td>NaN</td>\n",
       "      <td>Irishfan317</td>\n",
       "      <td>Positive</td>\n",
       "    </tr>\n",
       "    <tr>\n",
       "      <th>29327</th>\n",
       "      <td>AVpfpK8KLJeJML43BCuD</td>\n",
       "      <td>NaN</td>\n",
       "      <td>B01BH83OOM</td>\n",
       "      <td>Amazon Echo</td>\n",
       "      <td>Featured Brands,Electronics,Amazon Devices,Hom...</td>\n",
       "      <td>amazonecho/b01bh83oom,amazon/b01bh83oom,amazon...</td>\n",
       "      <td>Amazon</td>\n",
       "      <td>2016-12-31T00:00:00.000Z</td>\n",
       "      <td>NaN</td>\n",
       "      <td>2017-09-28T00:00:00Z,2017-09-08T00:00:00Z,2017...</td>\n",
       "      <td>True</td>\n",
       "      <td>0.0</td>\n",
       "      <td>5.0</td>\n",
       "      <td>http://reviews.bestbuy.com/3545/5097300/review...</td>\n",
       "      <td>It's not the echo but for what I paid, it's we...</td>\n",
       "      <td>Love my tap</td>\n",
       "      <td>NaN</td>\n",
       "      <td>NaN</td>\n",
       "      <td>Ces0983</td>\n",
       "      <td>Positive</td>\n",
       "    </tr>\n",
       "    <tr>\n",
       "      <th>20449</th>\n",
       "      <td>AV1YnRtnglJLPUi8IJmV</td>\n",
       "      <td>Kindle Voyage E-reader, 6 High-Resolution Disp...</td>\n",
       "      <td>B00OQVZDJM</td>\n",
       "      <td>Amazon</td>\n",
       "      <td>Walmart for Business,Office Electronics,Tablet...</td>\n",
       "      <td>amazon/b00oqvzdjm,848719056099,amazonkindlepap...</td>\n",
       "      <td>Amazon</td>\n",
       "      <td>2017-01-18T00:00:00.000Z</td>\n",
       "      <td>2017-09-05T22:09:30Z</td>\n",
       "      <td>2017-08-31T22:32:40.985Z,2017-08-02T19:53:19.4...</td>\n",
       "      <td>True</td>\n",
       "      <td>0.0</td>\n",
       "      <td>5.0</td>\n",
       "      <td>http://reviews.bestbuy.com/3545/9439005/review...</td>\n",
       "      <td>I was not sure about making the jump to an e-r...</td>\n",
       "      <td>Great reader</td>\n",
       "      <td>NaN</td>\n",
       "      <td>NaN</td>\n",
       "      <td>billc</td>\n",
       "      <td>Positive</td>\n",
       "    </tr>\n",
       "  </tbody>\n",
       "</table>\n",
       "</div>"
      ],
      "text/plain": [
       "                         id  \\\n",
       "22428  AVpfl8cLLJeJML43AE3S   \n",
       "21958  AVpfl8cLLJeJML43AE3S   \n",
       "14544  AVphgVaX1cnluZ0-DR74   \n",
       "29327  AVpfpK8KLJeJML43BCuD   \n",
       "20449  AV1YnRtnglJLPUi8IJmV   \n",
       "\n",
       "                                                    name  \\\n",
       "22428                 Echo (White),,,\\r\\nEcho (White),,,   \n",
       "21958                 Echo (White),,,\\r\\nEcho (White),,,   \n",
       "14544  Brand New Amazon Kindle Fire 16gb 7 Ips Displa...   \n",
       "29327                                                NaN   \n",
       "20449  Kindle Voyage E-reader, 6 High-Resolution Disp...   \n",
       "\n",
       "                       asins        brand  \\\n",
       "22428  B00L9EPT8O,B01E6AO69U       Amazon   \n",
       "21958  B00L9EPT8O,B01E6AO69U       Amazon   \n",
       "14544             B018Y229OU       Amazon   \n",
       "29327             B01BH83OOM  Amazon Echo   \n",
       "20449             B00OQVZDJM       Amazon   \n",
       "\n",
       "                                              categories  \\\n",
       "22428  Stereos,Remote Controls,Amazon Echo,Audio Dock...   \n",
       "21958  Stereos,Remote Controls,Amazon Echo,Audio Dock...   \n",
       "14544  Fire Tablets,Tablets,Computers & Tablets,All T...   \n",
       "29327  Featured Brands,Electronics,Amazon Devices,Hom...   \n",
       "20449  Walmart for Business,Office Electronics,Tablet...   \n",
       "\n",
       "                                                    keys manufacturer  \\\n",
       "22428  echowhite/263039693056,echowhite/152558276095,...       Amazon   \n",
       "21958  echowhite/263039693056,echowhite/152558276095,...       Amazon   \n",
       "14544  firetablet7displaywifi8gbincludesspecialoffers...       Amazon   \n",
       "29327  amazonecho/b01bh83oom,amazon/b01bh83oom,amazon...       Amazon   \n",
       "20449  amazon/b00oqvzdjm,848719056099,amazonkindlepap...       Amazon   \n",
       "\n",
       "                   reviews.date     reviews.dateAdded  \\\n",
       "22428  2017-06-21T00:00:00.000Z                   NaN   \n",
       "21958  2017-05-12T00:00:00.000Z                   NaN   \n",
       "14544  2017-05-12T00:00:00.000Z  2017-07-02T14:36:33Z   \n",
       "29327  2016-12-31T00:00:00.000Z                   NaN   \n",
       "20449  2017-01-18T00:00:00.000Z  2017-09-05T22:09:30Z   \n",
       "\n",
       "                                        reviews.dateSeen reviews.doRecommend  \\\n",
       "22428  2017-09-28T00:00:00Z,2017-09-08T00:00:00Z,2017...                True   \n",
       "21958  2017-09-28T00:00:00Z,2017-09-08T00:00:00Z,2017...                True   \n",
       "14544                           2017-06-07T08:14:00.000Z                True   \n",
       "29327  2017-09-28T00:00:00Z,2017-09-08T00:00:00Z,2017...                True   \n",
       "20449  2017-08-31T22:32:40.985Z,2017-08-02T19:53:19.4...                True   \n",
       "\n",
       "       reviews.numHelpful  reviews.rating  \\\n",
       "22428                 0.0             5.0   \n",
       "21958                 0.0             5.0   \n",
       "14544                 0.0             5.0   \n",
       "29327                 0.0             5.0   \n",
       "20449                 0.0             5.0   \n",
       "\n",
       "                                      reviews.sourceURLs  \\\n",
       "22428  http://reviews.bestbuy.com/3545/5588528/review...   \n",
       "21958  http://reviews.bestbuy.com/3545/5588528/review...   \n",
       "14544  http://reviews.bestbuy.com/3545/5025800/review...   \n",
       "29327  http://reviews.bestbuy.com/3545/5097300/review...   \n",
       "20449  http://reviews.bestbuy.com/3545/9439005/review...   \n",
       "\n",
       "                                            reviews.text  \\\n",
       "22428  Easy to set up and start using. Love having an...   \n",
       "21958  The Echo is the coolest thing! I love it. I ev...   \n",
       "14544  Tablet is easy to use. Gives options for passw...   \n",
       "29327  It's not the echo but for what I paid, it's we...   \n",
       "20449  I was not sure about making the jump to an e-r...   \n",
       "\n",
       "                    reviews.title  reviews.userCity  reviews.userProvince  \\\n",
       "22428                 Easy to use               NaN                   NaN   \n",
       "21958                    Love it!               NaN                   NaN   \n",
       "14544  Awesome tablet for a child               NaN                   NaN   \n",
       "29327                 Love my tap               NaN                   NaN   \n",
       "20449                Great reader               NaN                   NaN   \n",
       "\n",
       "      reviews.username Sentiments  \n",
       "22428          Paducah   Positive  \n",
       "21958             Matt   Positive  \n",
       "14544      Irishfan317   Positive  \n",
       "29327          Ces0983   Positive  \n",
       "20449            billc   Positive  "
      ]
     },
     "execution_count": 89,
     "metadata": {},
     "output_type": "execute_result"
    }
   ],
   "source": [
    "# now adding this sentiments function to training and testing dataset\n",
    "strat_train['Sentiments']=strat_train['reviews.rating'].apply(sentiments)\n",
    "strat_test['Sentiments']=strat_test['reviews.rating'].apply(sentiments)\n",
    "strat_train.head()"
   ]
  },
  {
   "cell_type": "markdown",
   "id": "b1d42115",
   "metadata": {},
   "source": [
    "# Preparing text data "
   ]
  },
  {
   "cell_type": "code",
   "execution_count": 90,
   "id": "e5a9f628",
   "metadata": {},
   "outputs": [
    {
     "name": "stdout",
     "output_type": "stream",
     "text": [
      "27701 6926\n"
     ]
    }
   ],
   "source": [
    "x_train=strat_train['reviews.text']\n",
    "x_train_targetsentiment=strat_train['Sentiments']\n",
    "x_test=strat_test['reviews.text']\n",
    "x_test_targetsentiment=strat_test['Sentiments']\n",
    "print(len(x_train),len(x_test))"
   ]
  },
  {
   "cell_type": "markdown",
   "id": "07d1d0c8",
   "metadata": {},
   "source": [
    "# Extracting features"
   ]
  },
  {
   "cell_type": "code",
   "execution_count": 92,
   "id": "cb0c3e23",
   "metadata": {},
   "outputs": [],
   "source": [
    "\n",
    "# tokenisation: which breaks sentences into words\n",
    "# stopwords: filtering unwanted words like the ,are etc.\n",
    "# filling na with space \n",
    "x_train=x_train.fillna(' ')\n",
    "x_test=x_test.fillna(' ')\n",
    "x_train_targetsentiment=x_train_targetsentiment.fillna(' ')\n",
    "x_test_targetsentiment=x_test_targetsentiment.fillna(' ')"
   ]
  },
  {
   "cell_type": "code",
   "execution_count": 93,
   "id": "c6a63c35",
   "metadata": {},
   "outputs": [
    {
     "data": {
      "text/plain": [
       "(27701, 12548)"
      ]
     },
     "execution_count": 93,
     "metadata": {},
     "output_type": "execute_result"
    }
   ],
   "source": [
    "# Text preprocessing and occurence counting using count vectorizer\n",
    "from sklearn.feature_extraction.text import CountVectorizer\n",
    "count_vect=CountVectorizer()\n",
    "x_train_counts=count_vect.fit_transform(x_train)\n",
    "x_train_counts.shape"
   ]
  },
  {
   "cell_type": "markdown",
   "id": "2183c370",
   "metadata": {},
   "source": [
    "here we have 27k samples and 12k distinct words"
   ]
  },
  {
   "cell_type": "code",
   "execution_count": 95,
   "id": "7e313f53",
   "metadata": {},
   "outputs": [
    {
     "data": {
      "text/plain": [
       "(27701, 12548)"
      ]
     },
     "execution_count": 95,
     "metadata": {},
     "output_type": "execute_result"
    }
   ],
   "source": [
    "from sklearn.feature_extraction.text import TfidfTransformer\n",
    "tfid_transformer=TfidfTransformer(use_idf=False)\n",
    "x_train_tfid=tfid_transformer.fit_transform(x_train_counts)\n",
    "x_train_tfid.shape"
   ]
  },
  {
   "cell_type": "markdown",
   "id": "50f10865",
   "metadata": {},
   "source": [
    "so tfidf transformer reduces less meaning words which have higher occurence . So it divides the number of occurences for each word by total number of words. Downscales stop words like \"the\" \"are\" etc."
   ]
  },
  {
   "cell_type": "code",
   "execution_count": 100,
   "id": "896237e3",
   "metadata": {},
   "outputs": [
    {
     "data": {
      "text/plain": [
       "Pipeline(steps=[('vect', CountVectorizer()), ('tfidf', TfidfTransformer()),\n",
       "                ('clf_nominalNB', MultinomialNB())])"
      ]
     },
     "execution_count": 100,
     "metadata": {},
     "output_type": "execute_result"
    }
   ],
   "source": [
    "from sklearn.naive_bayes import MultinomialNB\n",
    "from sklearn.pipeline import Pipeline\n",
    "clf_multiNB_pipe=Pipeline([('vect',CountVectorizer()),\n",
    "                               (\"tfidf\",TfidfTransformer()),\n",
    "                               (\"clf_nominalNB\",MultinomialNB())])\n",
    "clf_multiNB_pipe.fit(x_train,x_train_targetsentiment)"
   ]
  },
  {
   "cell_type": "markdown",
   "id": "9e511b5d",
   "metadata": {},
   "source": [
    "we use pipeline from sklearn when we want a number of tasks to be implemented on every datapoint"
   ]
  },
  {
   "cell_type": "code",
   "execution_count": 113,
   "id": "0d1b3e3b",
   "metadata": {},
   "outputs": [
    {
     "data": {
      "text/plain": [
       "array(['Positive', 'Positive', 'Positive', ..., 'Positive', 'Positive',\n",
       "       'Positive'], dtype='<U8')"
      ]
     },
     "execution_count": 113,
     "metadata": {},
     "output_type": "execute_result"
    }
   ],
   "source": [
    "predict_multiNB=clf_multiNB_pipe.predict(x_test)\n",
    "predict_multiNB"
   ]
  },
  {
   "cell_type": "code",
   "execution_count": 114,
   "id": "bc7691e0",
   "metadata": {},
   "outputs": [
    {
     "name": "stdout",
     "output_type": "stream",
     "text": [
      "Accuracy: 0.9335835980363847\n"
     ]
    }
   ],
   "source": [
    "from sklearn.metrics import accuracy_score\n",
    "print(\"Accuracy: {}\".format(accuracy_score(x_test_targetsentiment,predict_multiNB)))"
   ]
  },
  {
   "cell_type": "markdown",
   "id": "bf33ae94",
   "metadata": {},
   "source": [
    "We have attained accuracy of 94% on our testing data . "
   ]
  },
  {
   "cell_type": "code",
   "execution_count": 115,
   "id": "a51edc93",
   "metadata": {},
   "outputs": [
    {
     "data": {
      "text/plain": [
       "29469    I spent more time trying get it functioning th...\n",
       "4883     This a good tablet. How ever I made it better ...\n",
       "28670    This is clearly taking advantaged of Kindle cu...\n",
       "18269    Found information very readable and prices com...\n",
       "4131     The tablet exceeds the price expectations. Gre...\n",
       "                               ...                        \n",
       "16301    Great for the grandkids, they know how to mana...\n",
       "30893    Works great, a gift for my daughter for Christ...\n",
       "18907    Bought this for my 78 year old mother who had ...\n",
       "11038    This isn't the best tablet, but for casual gam...\n",
       "3480     The sales people are really nice and knowledge...\n",
       "Name: reviews.text, Length: 6926, dtype: object"
      ]
     },
     "execution_count": 115,
     "metadata": {},
     "output_type": "execute_result"
    }
   ],
   "source": [
    "x_test"
   ]
  },
  {
   "cell_type": "markdown",
   "id": "ec6e5363",
   "metadata": {},
   "source": [
    "# Applying model on input text"
   ]
  },
  {
   "cell_type": "code",
   "execution_count": 117,
   "id": "59bf5fe4",
   "metadata": {},
   "outputs": [
    {
     "data": {
      "text/plain": [
       "array(['Positive', 'Positive', 'Positive'], dtype='<U8')"
      ]
     },
     "execution_count": 117,
     "metadata": {},
     "output_type": "execute_result"
    }
   ],
   "source": [
    "new_text=[\"the tablet is good , really liked it\",\n",
    "         \"the tablet is ok\",\n",
    "         \"bad tablet ever\"]\n",
    "clf_multiNB_pipe.predict(new_text)"
   ]
  },
  {
   "cell_type": "code",
   "execution_count": null,
   "id": "a72d3159",
   "metadata": {},
   "outputs": [],
   "source": []
  }
 ],
 "metadata": {
  "kernelspec": {
   "display_name": "Python 3",
   "language": "python",
   "name": "python3"
  },
  "language_info": {
   "codemirror_mode": {
    "name": "ipython",
    "version": 3
   },
   "file_extension": ".py",
   "mimetype": "text/x-python",
   "name": "python",
   "nbconvert_exporter": "python",
   "pygments_lexer": "ipython3",
   "version": "3.8.8"
  }
 },
 "nbformat": 4,
 "nbformat_minor": 5
}
