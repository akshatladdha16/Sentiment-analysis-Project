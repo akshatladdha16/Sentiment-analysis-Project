{
 "cells": [
  {
   "cell_type": "markdown",
   "id": "059759e6",
   "metadata": {},
   "source": [
    "# NLP : field of computer science used to process the interaction btw computers and human language"
   ]
  },
  {
   "cell_type": "code",
   "execution_count": 45,
   "id": "33488cb3",
   "metadata": {},
   "outputs": [],
   "source": [
    "import pandas as pd\n",
    "import numpy as np\n",
    "import matplotlib.pyplot as plt\n",
    "import seaborn as sns\n",
    "%matplotlib inline\n",
    "import math\n",
    "sns.set_style(\"darkgrid\")\n",
    "# this is used to remove unwaned warnings as the data set is used is of small size\n",
    "import warnings\n",
    "warnings.filterwarnings('ignore')"
   ]
  },
  {
   "cell_type": "code",
   "execution_count": 46,
   "id": "4537e425",
   "metadata": {},
   "outputs": [
    {
     "data": {
      "text/html": [
       "<div>\n",
       "<style scoped>\n",
       "    .dataframe tbody tr th:only-of-type {\n",
       "        vertical-align: middle;\n",
       "    }\n",
       "\n",
       "    .dataframe tbody tr th {\n",
       "        vertical-align: top;\n",
       "    }\n",
       "\n",
       "    .dataframe thead th {\n",
       "        text-align: right;\n",
       "    }\n",
       "</style>\n",
       "<table border=\"1\" class=\"dataframe\">\n",
       "  <thead>\n",
       "    <tr style=\"text-align: right;\">\n",
       "      <th></th>\n",
       "      <th>id</th>\n",
       "      <th>name</th>\n",
       "      <th>asins</th>\n",
       "      <th>brand</th>\n",
       "      <th>categories</th>\n",
       "      <th>keys</th>\n",
       "      <th>manufacturer</th>\n",
       "      <th>reviews.date</th>\n",
       "      <th>reviews.dateAdded</th>\n",
       "      <th>reviews.dateSeen</th>\n",
       "      <th>...</th>\n",
       "      <th>reviews.doRecommend</th>\n",
       "      <th>reviews.id</th>\n",
       "      <th>reviews.numHelpful</th>\n",
       "      <th>reviews.rating</th>\n",
       "      <th>reviews.sourceURLs</th>\n",
       "      <th>reviews.text</th>\n",
       "      <th>reviews.title</th>\n",
       "      <th>reviews.userCity</th>\n",
       "      <th>reviews.userProvince</th>\n",
       "      <th>reviews.username</th>\n",
       "    </tr>\n",
       "  </thead>\n",
       "  <tbody>\n",
       "    <tr>\n",
       "      <th>0</th>\n",
       "      <td>AVqkIhwDv8e3D1O-lebb</td>\n",
       "      <td>All-New Fire HD 8 Tablet, 8 HD Display, Wi-Fi,...</td>\n",
       "      <td>B01AHB9CN2</td>\n",
       "      <td>Amazon</td>\n",
       "      <td>Electronics,iPad &amp; Tablets,All Tablets,Fire Ta...</td>\n",
       "      <td>841667104676,amazon/53004484,amazon/b01ahb9cn2...</td>\n",
       "      <td>Amazon</td>\n",
       "      <td>2017-01-13T00:00:00.000Z</td>\n",
       "      <td>2017-07-03T23:33:15Z</td>\n",
       "      <td>2017-06-07T09:04:00.000Z,2017-04-30T00:45:00.000Z</td>\n",
       "      <td>...</td>\n",
       "      <td>True</td>\n",
       "      <td>NaN</td>\n",
       "      <td>0.0</td>\n",
       "      <td>5.0</td>\n",
       "      <td>http://reviews.bestbuy.com/3545/5620406/review...</td>\n",
       "      <td>This product so far has not disappointed. My c...</td>\n",
       "      <td>Kindle</td>\n",
       "      <td>NaN</td>\n",
       "      <td>NaN</td>\n",
       "      <td>Adapter</td>\n",
       "    </tr>\n",
       "    <tr>\n",
       "      <th>1</th>\n",
       "      <td>AVqkIhwDv8e3D1O-lebb</td>\n",
       "      <td>All-New Fire HD 8 Tablet, 8 HD Display, Wi-Fi,...</td>\n",
       "      <td>B01AHB9CN2</td>\n",
       "      <td>Amazon</td>\n",
       "      <td>Electronics,iPad &amp; Tablets,All Tablets,Fire Ta...</td>\n",
       "      <td>841667104676,amazon/53004484,amazon/b01ahb9cn2...</td>\n",
       "      <td>Amazon</td>\n",
       "      <td>2017-01-13T00:00:00.000Z</td>\n",
       "      <td>2017-07-03T23:33:15Z</td>\n",
       "      <td>2017-06-07T09:04:00.000Z,2017-04-30T00:45:00.000Z</td>\n",
       "      <td>...</td>\n",
       "      <td>True</td>\n",
       "      <td>NaN</td>\n",
       "      <td>0.0</td>\n",
       "      <td>5.0</td>\n",
       "      <td>http://reviews.bestbuy.com/3545/5620406/review...</td>\n",
       "      <td>great for beginner or experienced person. Boug...</td>\n",
       "      <td>very fast</td>\n",
       "      <td>NaN</td>\n",
       "      <td>NaN</td>\n",
       "      <td>truman</td>\n",
       "    </tr>\n",
       "    <tr>\n",
       "      <th>2</th>\n",
       "      <td>AVqkIhwDv8e3D1O-lebb</td>\n",
       "      <td>All-New Fire HD 8 Tablet, 8 HD Display, Wi-Fi,...</td>\n",
       "      <td>B01AHB9CN2</td>\n",
       "      <td>Amazon</td>\n",
       "      <td>Electronics,iPad &amp; Tablets,All Tablets,Fire Ta...</td>\n",
       "      <td>841667104676,amazon/53004484,amazon/b01ahb9cn2...</td>\n",
       "      <td>Amazon</td>\n",
       "      <td>2017-01-13T00:00:00.000Z</td>\n",
       "      <td>2017-07-03T23:33:15Z</td>\n",
       "      <td>2017-06-07T09:04:00.000Z,2017-04-30T00:45:00.000Z</td>\n",
       "      <td>...</td>\n",
       "      <td>True</td>\n",
       "      <td>NaN</td>\n",
       "      <td>0.0</td>\n",
       "      <td>5.0</td>\n",
       "      <td>http://reviews.bestbuy.com/3545/5620406/review...</td>\n",
       "      <td>Inexpensive tablet for him to use and learn on...</td>\n",
       "      <td>Beginner tablet for our 9 year old son.</td>\n",
       "      <td>NaN</td>\n",
       "      <td>NaN</td>\n",
       "      <td>DaveZ</td>\n",
       "    </tr>\n",
       "    <tr>\n",
       "      <th>3</th>\n",
       "      <td>AVqkIhwDv8e3D1O-lebb</td>\n",
       "      <td>All-New Fire HD 8 Tablet, 8 HD Display, Wi-Fi,...</td>\n",
       "      <td>B01AHB9CN2</td>\n",
       "      <td>Amazon</td>\n",
       "      <td>Electronics,iPad &amp; Tablets,All Tablets,Fire Ta...</td>\n",
       "      <td>841667104676,amazon/53004484,amazon/b01ahb9cn2...</td>\n",
       "      <td>Amazon</td>\n",
       "      <td>2017-01-13T00:00:00.000Z</td>\n",
       "      <td>2017-07-03T23:33:15Z</td>\n",
       "      <td>2017-06-07T09:04:00.000Z,2017-04-30T00:45:00.000Z</td>\n",
       "      <td>...</td>\n",
       "      <td>True</td>\n",
       "      <td>NaN</td>\n",
       "      <td>0.0</td>\n",
       "      <td>4.0</td>\n",
       "      <td>http://reviews.bestbuy.com/3545/5620406/review...</td>\n",
       "      <td>I've had my Fire HD 8 two weeks now and I love...</td>\n",
       "      <td>Good!!!</td>\n",
       "      <td>NaN</td>\n",
       "      <td>NaN</td>\n",
       "      <td>Shacks</td>\n",
       "    </tr>\n",
       "    <tr>\n",
       "      <th>4</th>\n",
       "      <td>AVqkIhwDv8e3D1O-lebb</td>\n",
       "      <td>All-New Fire HD 8 Tablet, 8 HD Display, Wi-Fi,...</td>\n",
       "      <td>B01AHB9CN2</td>\n",
       "      <td>Amazon</td>\n",
       "      <td>Electronics,iPad &amp; Tablets,All Tablets,Fire Ta...</td>\n",
       "      <td>841667104676,amazon/53004484,amazon/b01ahb9cn2...</td>\n",
       "      <td>Amazon</td>\n",
       "      <td>2017-01-12T00:00:00.000Z</td>\n",
       "      <td>2017-07-03T23:33:15Z</td>\n",
       "      <td>2017-06-07T09:04:00.000Z,2017-04-30T00:45:00.000Z</td>\n",
       "      <td>...</td>\n",
       "      <td>True</td>\n",
       "      <td>NaN</td>\n",
       "      <td>0.0</td>\n",
       "      <td>5.0</td>\n",
       "      <td>http://reviews.bestbuy.com/3545/5620406/review...</td>\n",
       "      <td>I bought this for my grand daughter when she c...</td>\n",
       "      <td>Fantastic Tablet for kids</td>\n",
       "      <td>NaN</td>\n",
       "      <td>NaN</td>\n",
       "      <td>explore42</td>\n",
       "    </tr>\n",
       "  </tbody>\n",
       "</table>\n",
       "<p>5 rows × 21 columns</p>\n",
       "</div>"
      ],
      "text/plain": [
       "                     id                                               name  \\\n",
       "0  AVqkIhwDv8e3D1O-lebb  All-New Fire HD 8 Tablet, 8 HD Display, Wi-Fi,...   \n",
       "1  AVqkIhwDv8e3D1O-lebb  All-New Fire HD 8 Tablet, 8 HD Display, Wi-Fi,...   \n",
       "2  AVqkIhwDv8e3D1O-lebb  All-New Fire HD 8 Tablet, 8 HD Display, Wi-Fi,...   \n",
       "3  AVqkIhwDv8e3D1O-lebb  All-New Fire HD 8 Tablet, 8 HD Display, Wi-Fi,...   \n",
       "4  AVqkIhwDv8e3D1O-lebb  All-New Fire HD 8 Tablet, 8 HD Display, Wi-Fi,...   \n",
       "\n",
       "        asins   brand                                         categories  \\\n",
       "0  B01AHB9CN2  Amazon  Electronics,iPad & Tablets,All Tablets,Fire Ta...   \n",
       "1  B01AHB9CN2  Amazon  Electronics,iPad & Tablets,All Tablets,Fire Ta...   \n",
       "2  B01AHB9CN2  Amazon  Electronics,iPad & Tablets,All Tablets,Fire Ta...   \n",
       "3  B01AHB9CN2  Amazon  Electronics,iPad & Tablets,All Tablets,Fire Ta...   \n",
       "4  B01AHB9CN2  Amazon  Electronics,iPad & Tablets,All Tablets,Fire Ta...   \n",
       "\n",
       "                                                keys manufacturer  \\\n",
       "0  841667104676,amazon/53004484,amazon/b01ahb9cn2...       Amazon   \n",
       "1  841667104676,amazon/53004484,amazon/b01ahb9cn2...       Amazon   \n",
       "2  841667104676,amazon/53004484,amazon/b01ahb9cn2...       Amazon   \n",
       "3  841667104676,amazon/53004484,amazon/b01ahb9cn2...       Amazon   \n",
       "4  841667104676,amazon/53004484,amazon/b01ahb9cn2...       Amazon   \n",
       "\n",
       "               reviews.date     reviews.dateAdded  \\\n",
       "0  2017-01-13T00:00:00.000Z  2017-07-03T23:33:15Z   \n",
       "1  2017-01-13T00:00:00.000Z  2017-07-03T23:33:15Z   \n",
       "2  2017-01-13T00:00:00.000Z  2017-07-03T23:33:15Z   \n",
       "3  2017-01-13T00:00:00.000Z  2017-07-03T23:33:15Z   \n",
       "4  2017-01-12T00:00:00.000Z  2017-07-03T23:33:15Z   \n",
       "\n",
       "                                    reviews.dateSeen  ... reviews.doRecommend  \\\n",
       "0  2017-06-07T09:04:00.000Z,2017-04-30T00:45:00.000Z  ...                True   \n",
       "1  2017-06-07T09:04:00.000Z,2017-04-30T00:45:00.000Z  ...                True   \n",
       "2  2017-06-07T09:04:00.000Z,2017-04-30T00:45:00.000Z  ...                True   \n",
       "3  2017-06-07T09:04:00.000Z,2017-04-30T00:45:00.000Z  ...                True   \n",
       "4  2017-06-07T09:04:00.000Z,2017-04-30T00:45:00.000Z  ...                True   \n",
       "\n",
       "  reviews.id  reviews.numHelpful  reviews.rating  \\\n",
       "0        NaN                 0.0             5.0   \n",
       "1        NaN                 0.0             5.0   \n",
       "2        NaN                 0.0             5.0   \n",
       "3        NaN                 0.0             4.0   \n",
       "4        NaN                 0.0             5.0   \n",
       "\n",
       "                                  reviews.sourceURLs  \\\n",
       "0  http://reviews.bestbuy.com/3545/5620406/review...   \n",
       "1  http://reviews.bestbuy.com/3545/5620406/review...   \n",
       "2  http://reviews.bestbuy.com/3545/5620406/review...   \n",
       "3  http://reviews.bestbuy.com/3545/5620406/review...   \n",
       "4  http://reviews.bestbuy.com/3545/5620406/review...   \n",
       "\n",
       "                                        reviews.text  \\\n",
       "0  This product so far has not disappointed. My c...   \n",
       "1  great for beginner or experienced person. Boug...   \n",
       "2  Inexpensive tablet for him to use and learn on...   \n",
       "3  I've had my Fire HD 8 two weeks now and I love...   \n",
       "4  I bought this for my grand daughter when she c...   \n",
       "\n",
       "                             reviews.title reviews.userCity  \\\n",
       "0                                   Kindle              NaN   \n",
       "1                                very fast              NaN   \n",
       "2  Beginner tablet for our 9 year old son.              NaN   \n",
       "3                                  Good!!!              NaN   \n",
       "4                Fantastic Tablet for kids              NaN   \n",
       "\n",
       "   reviews.userProvince  reviews.username  \n",
       "0                   NaN           Adapter  \n",
       "1                   NaN            truman  \n",
       "2                   NaN             DaveZ  \n",
       "3                   NaN            Shacks  \n",
       "4                   NaN         explore42  \n",
       "\n",
       "[5 rows x 21 columns]"
      ]
     },
     "execution_count": 46,
     "metadata": {},
     "output_type": "execute_result"
    }
   ],
   "source": [
    "df=pd.read_csv(\"1429_1.csv\")\n",
    "df.head()"
   ]
  },
  {
   "cell_type": "code",
   "execution_count": 47,
   "id": "ed3f81de",
   "metadata": {},
   "outputs": [
    {
     "name": "stdout",
     "output_type": "stream",
     "text": [
      "<class 'pandas.core.frame.DataFrame'>\n",
      "RangeIndex: 34660 entries, 0 to 34659\n",
      "Data columns (total 21 columns):\n",
      " #   Column                Non-Null Count  Dtype  \n",
      "---  ------                --------------  -----  \n",
      " 0   id                    34660 non-null  object \n",
      " 1   name                  27900 non-null  object \n",
      " 2   asins                 34658 non-null  object \n",
      " 3   brand                 34660 non-null  object \n",
      " 4   categories            34660 non-null  object \n",
      " 5   keys                  34660 non-null  object \n",
      " 6   manufacturer          34660 non-null  object \n",
      " 7   reviews.date          34621 non-null  object \n",
      " 8   reviews.dateAdded     24039 non-null  object \n",
      " 9   reviews.dateSeen      34660 non-null  object \n",
      " 10  reviews.didPurchase   1 non-null      object \n",
      " 11  reviews.doRecommend   34066 non-null  object \n",
      " 12  reviews.id            1 non-null      float64\n",
      " 13  reviews.numHelpful    34131 non-null  float64\n",
      " 14  reviews.rating        34627 non-null  float64\n",
      " 15  reviews.sourceURLs    34660 non-null  object \n",
      " 16  reviews.text          34659 non-null  object \n",
      " 17  reviews.title         34655 non-null  object \n",
      " 18  reviews.userCity      0 non-null      float64\n",
      " 19  reviews.userProvince  0 non-null      float64\n",
      " 20  reviews.username      34658 non-null  object \n",
      "dtypes: float64(5), object(16)\n",
      "memory usage: 5.6+ MB\n",
      "None\n"
     ]
    }
   ],
   "source": [
    "print(df.info())"
   ]
  },
  {
   "cell_type": "markdown",
   "id": "c789cc68",
   "metadata": {},
   "source": [
    "reviews.didPurchase , reviews.id , reviews.userCity , reviews.userProvince are completely empty so no use of them "
   ]
  },
  {
   "cell_type": "code",
   "execution_count": 48,
   "id": "8435d0d7",
   "metadata": {},
   "outputs": [
    {
     "data": {
      "text/html": [
       "<div>\n",
       "<style scoped>\n",
       "    .dataframe tbody tr th:only-of-type {\n",
       "        vertical-align: middle;\n",
       "    }\n",
       "\n",
       "    .dataframe tbody tr th {\n",
       "        vertical-align: top;\n",
       "    }\n",
       "\n",
       "    .dataframe thead th {\n",
       "        text-align: right;\n",
       "    }\n",
       "</style>\n",
       "<table border=\"1\" class=\"dataframe\">\n",
       "  <thead>\n",
       "    <tr style=\"text-align: right;\">\n",
       "      <th></th>\n",
       "      <th>reviews.id</th>\n",
       "      <th>reviews.numHelpful</th>\n",
       "      <th>reviews.rating</th>\n",
       "      <th>reviews.userCity</th>\n",
       "      <th>reviews.userProvince</th>\n",
       "    </tr>\n",
       "  </thead>\n",
       "  <tbody>\n",
       "    <tr>\n",
       "      <th>count</th>\n",
       "      <td>1.0</td>\n",
       "      <td>34131.000000</td>\n",
       "      <td>34627.000000</td>\n",
       "      <td>0.0</td>\n",
       "      <td>0.0</td>\n",
       "    </tr>\n",
       "    <tr>\n",
       "      <th>mean</th>\n",
       "      <td>111372787.0</td>\n",
       "      <td>0.630248</td>\n",
       "      <td>4.584573</td>\n",
       "      <td>NaN</td>\n",
       "      <td>NaN</td>\n",
       "    </tr>\n",
       "    <tr>\n",
       "      <th>std</th>\n",
       "      <td>NaN</td>\n",
       "      <td>13.215775</td>\n",
       "      <td>0.735653</td>\n",
       "      <td>NaN</td>\n",
       "      <td>NaN</td>\n",
       "    </tr>\n",
       "    <tr>\n",
       "      <th>min</th>\n",
       "      <td>111372787.0</td>\n",
       "      <td>0.000000</td>\n",
       "      <td>1.000000</td>\n",
       "      <td>NaN</td>\n",
       "      <td>NaN</td>\n",
       "    </tr>\n",
       "    <tr>\n",
       "      <th>25%</th>\n",
       "      <td>111372787.0</td>\n",
       "      <td>0.000000</td>\n",
       "      <td>4.000000</td>\n",
       "      <td>NaN</td>\n",
       "      <td>NaN</td>\n",
       "    </tr>\n",
       "    <tr>\n",
       "      <th>50%</th>\n",
       "      <td>111372787.0</td>\n",
       "      <td>0.000000</td>\n",
       "      <td>5.000000</td>\n",
       "      <td>NaN</td>\n",
       "      <td>NaN</td>\n",
       "    </tr>\n",
       "    <tr>\n",
       "      <th>75%</th>\n",
       "      <td>111372787.0</td>\n",
       "      <td>0.000000</td>\n",
       "      <td>5.000000</td>\n",
       "      <td>NaN</td>\n",
       "      <td>NaN</td>\n",
       "    </tr>\n",
       "    <tr>\n",
       "      <th>max</th>\n",
       "      <td>111372787.0</td>\n",
       "      <td>814.000000</td>\n",
       "      <td>5.000000</td>\n",
       "      <td>NaN</td>\n",
       "      <td>NaN</td>\n",
       "    </tr>\n",
       "  </tbody>\n",
       "</table>\n",
       "</div>"
      ],
      "text/plain": [
       "        reviews.id  reviews.numHelpful  reviews.rating  reviews.userCity  \\\n",
       "count          1.0        34131.000000    34627.000000               0.0   \n",
       "mean   111372787.0            0.630248        4.584573               NaN   \n",
       "std            NaN           13.215775        0.735653               NaN   \n",
       "min    111372787.0            0.000000        1.000000               NaN   \n",
       "25%    111372787.0            0.000000        4.000000               NaN   \n",
       "50%    111372787.0            0.000000        5.000000               NaN   \n",
       "75%    111372787.0            0.000000        5.000000               NaN   \n",
       "max    111372787.0          814.000000        5.000000               NaN   \n",
       "\n",
       "       reviews.userProvince  \n",
       "count                   0.0  \n",
       "mean                    NaN  \n",
       "std                     NaN  \n",
       "min                     NaN  \n",
       "25%                     NaN  \n",
       "50%                     NaN  \n",
       "75%                     NaN  \n",
       "max                     NaN  "
      ]
     },
     "execution_count": 48,
     "metadata": {},
     "output_type": "execute_result"
    }
   ],
   "source": [
    "data=df.copy()\n",
    "data.describe()\n"
   ]
  },
  {
   "cell_type": "markdown",
   "id": "35c340af",
   "metadata": {},
   "source": [
    "rating info and review helpful rating is important to analyse data later"
   ]
  },
  {
   "cell_type": "code",
   "execution_count": 49,
   "id": "cf4404c1",
   "metadata": {},
   "outputs": [
    {
     "data": {
      "text/plain": [
       "<AxesSubplot:>"
      ]
     },
     "execution_count": 49,
     "metadata": {},
     "output_type": "execute_result"
    },
    {
     "data": {
      "image/png": "[encoded data removed]",
      "text/plain": [
       "<Figure size 432x288 with 1 Axes>"
      ]
     },
     "metadata": {},
     "output_type": "display_data"
    }
   ],
   "source": [
    "sns.heatmap(df.isnull(),cbar=False,cmap=\"viridis\")"
   ]
  },
  {
   "cell_type": "markdown",
   "id": "b6763419",
   "metadata": {},
   "source": [
    "we can remove reviews.userCity,reviews.userProvince,reviews_id "
   ]
  },
  {
   "cell_type": "code",
   "execution_count": 50,
   "id": "43bccd41",
   "metadata": {},
   "outputs": [
    {
     "name": "stdout",
     "output_type": "stream",
     "text": [
      "<class 'pandas.core.frame.DataFrame'>\n",
      "RangeIndex: 34660 entries, 0 to 34659\n",
      "Data columns (total 20 columns):\n",
      " #   Column                Non-Null Count  Dtype  \n",
      "---  ------                --------------  -----  \n",
      " 0   id                    34660 non-null  object \n",
      " 1   name                  27900 non-null  object \n",
      " 2   asins                 34658 non-null  object \n",
      " 3   brand                 34660 non-null  object \n",
      " 4   categories            34660 non-null  object \n",
      " 5   keys                  34660 non-null  object \n",
      " 6   manufacturer          34660 non-null  object \n",
      " 7   reviews.date          34621 non-null  object \n",
      " 8   reviews.dateAdded     24039 non-null  object \n",
      " 9   reviews.dateSeen      34660 non-null  object \n",
      " 10  reviews.didPurchase   1 non-null      object \n",
      " 11  reviews.doRecommend   34066 non-null  object \n",
      " 12  reviews.numHelpful    34131 non-null  float64\n",
      " 13  reviews.rating        34627 non-null  float64\n",
      " 14  reviews.sourceURLs    34660 non-null  object \n",
      " 15  reviews.text          34659 non-null  object \n",
      " 16  reviews.title         34655 non-null  object \n",
      " 17  reviews.userCity      0 non-null      float64\n",
      " 18  reviews.userProvince  0 non-null      float64\n",
      " 19  reviews.username      34658 non-null  object \n",
      "dtypes: float64(4), object(16)\n",
      "memory usage: 5.3+ MB\n"
     ]
    }
   ],
   "source": [
    "df.drop(['reviews.id'],inplace=True,axis=1)\n",
    "df.info()"
   ]
  },
  {
   "cell_type": "code",
   "execution_count": 51,
   "id": "022ac00d",
   "metadata": {},
   "outputs": [
    {
     "name": "stdout",
     "output_type": "stream",
     "text": [
      "<class 'pandas.core.frame.DataFrame'>\n",
      "RangeIndex: 34660 entries, 0 to 34659\n",
      "Data columns (total 19 columns):\n",
      " #   Column                Non-Null Count  Dtype  \n",
      "---  ------                --------------  -----  \n",
      " 0   id                    34660 non-null  object \n",
      " 1   name                  27900 non-null  object \n",
      " 2   asins                 34658 non-null  object \n",
      " 3   brand                 34660 non-null  object \n",
      " 4   categories            34660 non-null  object \n",
      " 5   keys                  34660 non-null  object \n",
      " 6   manufacturer          34660 non-null  object \n",
      " 7   reviews.date          34621 non-null  object \n",
      " 8   reviews.dateAdded     24039 non-null  object \n",
      " 9   reviews.dateSeen      34660 non-null  object \n",
      " 10  reviews.doRecommend   34066 non-null  object \n",
      " 11  reviews.numHelpful    34131 non-null  float64\n",
      " 12  reviews.rating        34627 non-null  float64\n",
      " 13  reviews.sourceURLs    34660 non-null  object \n",
      " 14  reviews.text          34659 non-null  object \n",
      " 15  reviews.title         34655 non-null  object \n",
      " 16  reviews.userCity      0 non-null      float64\n",
      " 17  reviews.userProvince  0 non-null      float64\n",
      " 18  reviews.username      34658 non-null  object \n",
      "dtypes: float64(4), object(15)\n",
      "memory usage: 5.0+ MB\n"
     ]
    }
   ],
   "source": [
    "df.drop(['reviews.didPurchase'],inplace =True,axis=1)\n",
    "df.info()"
   ]
  },
  {
   "cell_type": "code",
   "execution_count": 52,
   "id": "d167987a",
   "metadata": {},
   "outputs": [
    {
     "data": {
      "text/html": [
       "<div>\n",
       "<style scoped>\n",
       "    .dataframe tbody tr th:only-of-type {\n",
       "        vertical-align: middle;\n",
       "    }\n",
       "\n",
       "    .dataframe tbody tr th {\n",
       "        vertical-align: top;\n",
       "    }\n",
       "\n",
       "    .dataframe thead th {\n",
       "        text-align: right;\n",
       "    }\n",
       "</style>\n",
       "<table border=\"1\" class=\"dataframe\">\n",
       "  <thead>\n",
       "    <tr style=\"text-align: right;\">\n",
       "      <th></th>\n",
       "      <th>reviews.numHelpful</th>\n",
       "      <th>reviews.rating</th>\n",
       "      <th>reviews.userCity</th>\n",
       "      <th>reviews.userProvince</th>\n",
       "    </tr>\n",
       "  </thead>\n",
       "  <tbody>\n",
       "    <tr>\n",
       "      <th>count</th>\n",
       "      <td>34131.000000</td>\n",
       "      <td>34627.000000</td>\n",
       "      <td>0.0</td>\n",
       "      <td>0.0</td>\n",
       "    </tr>\n",
       "    <tr>\n",
       "      <th>mean</th>\n",
       "      <td>0.630248</td>\n",
       "      <td>4.584573</td>\n",
       "      <td>NaN</td>\n",
       "      <td>NaN</td>\n",
       "    </tr>\n",
       "    <tr>\n",
       "      <th>std</th>\n",
       "      <td>13.215775</td>\n",
       "      <td>0.735653</td>\n",
       "      <td>NaN</td>\n",
       "      <td>NaN</td>\n",
       "    </tr>\n",
       "    <tr>\n",
       "      <th>min</th>\n",
       "      <td>0.000000</td>\n",
       "      <td>1.000000</td>\n",
       "      <td>NaN</td>\n",
       "      <td>NaN</td>\n",
       "    </tr>\n",
       "    <tr>\n",
       "      <th>25%</th>\n",
       "      <td>0.000000</td>\n",
       "      <td>4.000000</td>\n",
       "      <td>NaN</td>\n",
       "      <td>NaN</td>\n",
       "    </tr>\n",
       "    <tr>\n",
       "      <th>50%</th>\n",
       "      <td>0.000000</td>\n",
       "      <td>5.000000</td>\n",
       "      <td>NaN</td>\n",
       "      <td>NaN</td>\n",
       "    </tr>\n",
       "    <tr>\n",
       "      <th>75%</th>\n",
       "      <td>0.000000</td>\n",
       "      <td>5.000000</td>\n",
       "      <td>NaN</td>\n",
       "      <td>NaN</td>\n",
       "    </tr>\n",
       "    <tr>\n",
       "      <th>max</th>\n",
       "      <td>814.000000</td>\n",
       "      <td>5.000000</td>\n",
       "      <td>NaN</td>\n",
       "      <td>NaN</td>\n",
       "    </tr>\n",
       "  </tbody>\n",
       "</table>\n",
       "</div>"
      ],
      "text/plain": [
       "       reviews.numHelpful  reviews.rating  reviews.userCity  \\\n",
       "count        34131.000000    34627.000000               0.0   \n",
       "mean             0.630248        4.584573               NaN   \n",
       "std             13.215775        0.735653               NaN   \n",
       "min              0.000000        1.000000               NaN   \n",
       "25%              0.000000        4.000000               NaN   \n",
       "50%              0.000000        5.000000               NaN   \n",
       "75%              0.000000        5.000000               NaN   \n",
       "max            814.000000        5.000000               NaN   \n",
       "\n",
       "       reviews.userProvince  \n",
       "count                   0.0  \n",
       "mean                    NaN  \n",
       "std                     NaN  \n",
       "min                     NaN  \n",
       "25%                     NaN  \n",
       "50%                     NaN  \n",
       "75%                     NaN  \n",
       "max                     NaN  "
      ]
     },
     "execution_count": 52,
     "metadata": {},
     "output_type": "execute_result"
    }
   ],
   "source": [
    "df.describe()"
   ]
  },
  {
   "cell_type": "markdown",
   "id": "56aef020",
   "metadata": {},
   "source": [
    "Avg review rating =4.58.\n",
    "Avg review helpful is 0.6 but with high standard deviation so there are people whose reviews are imp and whose are not imp. Reviews lie btw 0-13 people finding helpful. \n",
    "Review that was most helful was to 814 people. "
   ]
  },
  {
   "cell_type": "code",
   "execution_count": 53,
   "id": "00bafe9b",
   "metadata": {},
   "outputs": [
    {
     "name": "stdout",
     "output_type": "stream",
     "text": [
      "<class 'pandas.core.frame.DataFrame'>\n",
      "RangeIndex: 34660 entries, 0 to 34659\n",
      "Data columns (total 19 columns):\n",
      " #   Column                Non-Null Count  Dtype  \n",
      "---  ------                --------------  -----  \n",
      " 0   id                    34660 non-null  object \n",
      " 1   name                  27900 non-null  object \n",
      " 2   asins                 34658 non-null  object \n",
      " 3   brand                 34660 non-null  object \n",
      " 4   categories            34660 non-null  object \n",
      " 5   keys                  34660 non-null  object \n",
      " 6   manufacturer          34660 non-null  object \n",
      " 7   reviews.date          34621 non-null  object \n",
      " 8   reviews.dateAdded     24039 non-null  object \n",
      " 9   reviews.dateSeen      34660 non-null  object \n",
      " 10  reviews.doRecommend   34066 non-null  object \n",
      " 11  reviews.numHelpful    34131 non-null  float64\n",
      " 12  reviews.rating        34627 non-null  float64\n",
      " 13  reviews.sourceURLs    34660 non-null  object \n",
      " 14  reviews.text          34659 non-null  object \n",
      " 15  reviews.title         34655 non-null  object \n",
      " 16  reviews.userCity      0 non-null      float64\n",
      " 17  reviews.userProvince  0 non-null      float64\n",
      " 18  reviews.username      34658 non-null  object \n",
      "dtypes: float64(4), object(15)\n",
      "memory usage: 5.0+ MB\n"
     ]
    }
   ],
   "source": [
    "# making a copy for eda where we can drop strings and work on numerical values only\n",
    "data=df.copy()\n",
    "data.info()"
   ]
  },
  {
   "cell_type": "code",
   "execution_count": 54,
   "id": "b24b5e46",
   "metadata": {},
   "outputs": [
    {
     "name": "stdout",
     "output_type": "stream",
     "text": [
      "['B01AHB9CN2' 'B00VINDBJK' 'B005PB2T0S' 'B002Y27P3M' 'B01AHB9CYG'\n",
      " 'B01AHB9C1E' 'B01J2G4VBG' 'B00ZV9PXP2' 'B0083Q04TA' 'B018Y229OU'\n",
      " 'B00REQKWGA' 'B00IOYAM4I' 'B018T075DC' nan 'B00DU15MU4' 'B018Y225IA'\n",
      " 'B005PB2T2Q' 'B018Y23MNM' 'B00OQVZDJM' 'B00IOY8XWQ' 'B00LO29KXQ'\n",
      " 'B00QJDU3KY' 'B018Y22C2Y' 'B01BFIBRIE' 'B01J4ORNHU' 'B018SZT3BK'\n",
      " 'B00UH4D8G2' 'B018Y22BI4' 'B00TSUGXKE' 'B00L9EPT8O,B01E6AO69U'\n",
      " 'B018Y23P7K' 'B00X4WHP5E' 'B00QFQRELG' 'B00LW9XOJM' 'B00QL1ZN3G'\n",
      " 'B0189XYY0Q' 'B01BH83OOM' 'B00BFJAHF8' 'B00U3FPN4U' 'B002Y27P6Y'\n",
      " 'B006GWO5NE' 'B006GWO5WK']\n",
      "Number of Unique asins: 42\n"
     ]
    }
   ],
   "source": [
    "print(data['asins'].unique())\n",
    "asins_unique=len(data['asins'].unique())\n",
    "print(\"Number of Unique asins: \"+str(asins_unique))"
   ]
  },
  {
   "cell_type": "markdown",
   "id": "1e755422",
   "metadata": {},
   "source": [
    "unique number of asins means number of different type of products "
   ]
  },
  {
   "cell_type": "code",
   "execution_count": 55,
   "id": "587bbd3c",
   "metadata": {},
   "outputs": [
    {
     "data": {
      "image/png": "[encoded data removed]",
      "text/plain": [
       "<Figure size 1080x1080 with 4 Axes>"
      ]
     },
     "metadata": {},
     "output_type": "display_data"
    }
   ],
   "source": [
    "data.hist(figsize=(15,15))\n",
    "plt.show()"
   ]
  },
  {
   "cell_type": "markdown",
   "id": "32bfd69d",
   "metadata": {},
   "source": [
    "reviews.numHelpful: Outliers in this case are valuable, so we may want to weight reviews that had more than 50+ people who find them helpful. reviews.rating: Majority of examples were rated highly (looking at rating distribution). There is twice amount of 5 star ratings than the others ratings combined so problem arises when we train it with only high rating so it won't give proper result in negative rating. So we use stratified shuffle split "
   ]
  },
  {
   "cell_type": "markdown",
   "id": "45170d86",
   "metadata": {},
   "source": [
    "# Train test split with stratified shuffle"
   ]
  },
  {
   "cell_type": "code",
   "execution_count": 56,
   "id": "19fb197c",
   "metadata": {},
   "outputs": [
    {
     "name": "stdout",
     "output_type": "stream",
     "text": [
      "Before 34660\n",
      "After 34627\n"
     ]
    }
   ],
   "source": [
    "from sklearn.model_selection import StratifiedShuffleSplit\n",
    "# so in this stratified shuffle split , the data is shuffled everytime after a split \n",
    "# so now no one type of data will be there in training dataset which makes it well trained for differnet datasets\n",
    "print(\"Before {}\".format(len(data)))\n",
    "# now removing all null values from review.rating\n",
    "data_after=data.dropna(subset=['reviews.rating'])\n",
    "print(\"After {}\".format(len(data_after)))\n",
    "data_after['reviews.rating']=data_after['reviews.rating'].astype(int)"
   ]
  },
  {
   "cell_type": "markdown",
   "id": "afa8ea38",
   "metadata": {},
   "source": [
    "we use this split when our dataset is too biased to one section so to balance it we shuffle it after every insertion of datapoint "
   ]
  },
  {
   "cell_type": "code",
   "execution_count": 57,
   "id": "1274cba0",
   "metadata": {},
   "outputs": [
    {
     "data": {
      "text/html": [
       "<div>\n",
       "<style scoped>\n",
       "    .dataframe tbody tr th:only-of-type {\n",
       "        vertical-align: middle;\n",
       "    }\n",
       "\n",
       "    .dataframe tbody tr th {\n",
       "        vertical-align: top;\n",
       "    }\n",
       "\n",
       "    .dataframe thead th {\n",
       "        text-align: right;\n",
       "    }\n",
       "</style>\n",
       "<table border=\"1\" class=\"dataframe\">\n",
       "  <thead>\n",
       "    <tr style=\"text-align: right;\">\n",
       "      <th></th>\n",
       "      <th>id</th>\n",
       "      <th>name</th>\n",
       "      <th>asins</th>\n",
       "      <th>brand</th>\n",
       "      <th>categories</th>\n",
       "      <th>keys</th>\n",
       "      <th>manufacturer</th>\n",
       "      <th>reviews.date</th>\n",
       "      <th>reviews.dateAdded</th>\n",
       "      <th>reviews.dateSeen</th>\n",
       "      <th>reviews.doRecommend</th>\n",
       "      <th>reviews.numHelpful</th>\n",
       "      <th>reviews.rating</th>\n",
       "      <th>reviews.sourceURLs</th>\n",
       "      <th>reviews.text</th>\n",
       "      <th>reviews.title</th>\n",
       "      <th>reviews.userCity</th>\n",
       "      <th>reviews.userProvince</th>\n",
       "      <th>reviews.username</th>\n",
       "    </tr>\n",
       "  </thead>\n",
       "  <tbody>\n",
       "    <tr>\n",
       "      <th>9328</th>\n",
       "      <td>AVphgVaX1cnluZ0-DR74</td>\n",
       "      <td>Fire Tablet, 7 Display, Wi-Fi, 8 GB - Includes...</td>\n",
       "      <td>B018Y229OU</td>\n",
       "      <td>Amazon</td>\n",
       "      <td>Fire Tablets,Tablets,Computers &amp; Tablets,All T...</td>\n",
       "      <td>firetablet7displaywifi8gbincludesspecialoffers...</td>\n",
       "      <td>Amazon</td>\n",
       "      <td>2016-12-31T00:00:00.000Z</td>\n",
       "      <td>2017-05-21T01:38:59Z</td>\n",
       "      <td>2017-04-30T00:12:00.000Z,2017-06-07T08:17:00.000Z</td>\n",
       "      <td>True</td>\n",
       "      <td>0.0</td>\n",
       "      <td>5.0</td>\n",
       "      <td>http://reviews.bestbuy.com/3545/5025800/review...</td>\n",
       "      <td>I have an Amazon Kindle and this one. The kind...</td>\n",
       "      <td>I really like this version</td>\n",
       "      <td>NaN</td>\n",
       "      <td>NaN</td>\n",
       "      <td>review1</td>\n",
       "    </tr>\n",
       "    <tr>\n",
       "      <th>20761</th>\n",
       "      <td>AVphPmHuilAPnD_x3E5h</td>\n",
       "      <td>Kindle Voyage E-reader, 6 High-Resolution Disp...</td>\n",
       "      <td>B00IOY8XWQ</td>\n",
       "      <td>Amazon</td>\n",
       "      <td>Walmart for Business,Office Electronics,Tablet...</td>\n",
       "      <td>848719040104,kindlevoyageereader6highresolutio...</td>\n",
       "      <td>Amazon</td>\n",
       "      <td>2015-04-03T00:00:00.000Z</td>\n",
       "      <td>NaN</td>\n",
       "      <td>2017-08-31T00:00:00Z,2017-03-31T00:00:00Z,2017...</td>\n",
       "      <td>True</td>\n",
       "      <td>0.0</td>\n",
       "      <td>5.0</td>\n",
       "      <td>http://reviews.bestbuy.com/3545/9302088/review...</td>\n",
       "      <td>Out of the box there really is nothing to do b...</td>\n",
       "      <td>Easy to set up and use</td>\n",
       "      <td>NaN</td>\n",
       "      <td>NaN</td>\n",
       "      <td>JQR5</td>\n",
       "    </tr>\n",
       "    <tr>\n",
       "      <th>30053</th>\n",
       "      <td>AV1YE_muvKc47QAVgpwE</td>\n",
       "      <td>NaN</td>\n",
       "      <td>B00U3FPN4U</td>\n",
       "      <td>Amazon Fire Tv</td>\n",
       "      <td>Back To College,College Electronics,College Tv...</td>\n",
       "      <td>848719057492,amazonfiretv/51454342,amazonfiret...</td>\n",
       "      <td>Amazon</td>\n",
       "      <td>2016-07-09T00:00:00.000Z</td>\n",
       "      <td>2017-09-20T05:35:59Z</td>\n",
       "      <td>2017-08-25T22:40:32.187Z,2017-08-19T09:25:25.7...</td>\n",
       "      <td>True</td>\n",
       "      <td>0.0</td>\n",
       "      <td>5.0</td>\n",
       "      <td>http://reviews.bestbuy.com/3545/4370400/review...</td>\n",
       "      <td>This is the 5th or 6th Fire TV I have purchase...</td>\n",
       "      <td>Great Product. Best box for streaming and games</td>\n",
       "      <td>NaN</td>\n",
       "      <td>NaN</td>\n",
       "      <td>lilokster</td>\n",
       "    </tr>\n",
       "    <tr>\n",
       "      <th>17376</th>\n",
       "      <td>AVqVGWLKnnc1JgDc3jF1</td>\n",
       "      <td>Amazon Kindle Paperwhite - eBook reader - 4 GB...</td>\n",
       "      <td>B018Y23MNM</td>\n",
       "      <td>Amazon</td>\n",
       "      <td>Tablets,Fire Tablets,Computers &amp; Tablets,All T...</td>\n",
       "      <td>firekidseditiontablet7displaywifi16gbgreenkidp...</td>\n",
       "      <td>Amazon</td>\n",
       "      <td>2017-01-23T00:00:00.000Z</td>\n",
       "      <td>2017-06-21T07:38:51Z</td>\n",
       "      <td>2017-06-04T02:18:16.153Z,2017-06-03T18:42:28.609Z</td>\n",
       "      <td>True</td>\n",
       "      <td>0.0</td>\n",
       "      <td>5.0</td>\n",
       "      <td>http://reviews.bestbuy.com/3545/5026300/review...</td>\n",
       "      <td>We got this for our nephew and he absolutely l...</td>\n",
       "      <td>I got this for a gift</td>\n",
       "      <td>NaN</td>\n",
       "      <td>NaN</td>\n",
       "      <td>Brad</td>\n",
       "    </tr>\n",
       "    <tr>\n",
       "      <th>33215</th>\n",
       "      <td>AV1YE_muvKc47QAVgpwE</td>\n",
       "      <td>NaN</td>\n",
       "      <td>B00U3FPN4U</td>\n",
       "      <td>Amazon Fire Tv</td>\n",
       "      <td>Back To College,College Electronics,College Tv...</td>\n",
       "      <td>848719057492,amazonfiretv/51454342,amazonfiret...</td>\n",
       "      <td>Amazon</td>\n",
       "      <td>2016-10-21T00:00:00.000Z</td>\n",
       "      <td>2017-09-20T05:35:53Z</td>\n",
       "      <td>2017-08-25T22:04:47.324Z,2017-08-19T09:35:26.5...</td>\n",
       "      <td>True</td>\n",
       "      <td>0.0</td>\n",
       "      <td>5.0</td>\n",
       "      <td>http://reviews.bestbuy.com/3545/4370400/review...</td>\n",
       "      <td>Great device to use for streaming tv shows &amp; m...</td>\n",
       "      <td>Great Fire TV</td>\n",
       "      <td>NaN</td>\n",
       "      <td>NaN</td>\n",
       "      <td>Myprinter</td>\n",
       "    </tr>\n",
       "  </tbody>\n",
       "</table>\n",
       "</div>"
      ],
      "text/plain": [
       "                         id  \\\n",
       "9328   AVphgVaX1cnluZ0-DR74   \n",
       "20761  AVphPmHuilAPnD_x3E5h   \n",
       "30053  AV1YE_muvKc47QAVgpwE   \n",
       "17376  AVqVGWLKnnc1JgDc3jF1   \n",
       "33215  AV1YE_muvKc47QAVgpwE   \n",
       "\n",
       "                                                    name       asins  \\\n",
       "9328   Fire Tablet, 7 Display, Wi-Fi, 8 GB - Includes...  B018Y229OU   \n",
       "20761  Kindle Voyage E-reader, 6 High-Resolution Disp...  B00IOY8XWQ   \n",
       "30053                                                NaN  B00U3FPN4U   \n",
       "17376  Amazon Kindle Paperwhite - eBook reader - 4 GB...  B018Y23MNM   \n",
       "33215                                                NaN  B00U3FPN4U   \n",
       "\n",
       "                brand                                         categories  \\\n",
       "9328           Amazon  Fire Tablets,Tablets,Computers & Tablets,All T...   \n",
       "20761          Amazon  Walmart for Business,Office Electronics,Tablet...   \n",
       "30053  Amazon Fire Tv  Back To College,College Electronics,College Tv...   \n",
       "17376          Amazon  Tablets,Fire Tablets,Computers & Tablets,All T...   \n",
       "33215  Amazon Fire Tv  Back To College,College Electronics,College Tv...   \n",
       "\n",
       "                                                    keys manufacturer  \\\n",
       "9328   firetablet7displaywifi8gbincludesspecialoffers...       Amazon   \n",
       "20761  848719040104,kindlevoyageereader6highresolutio...       Amazon   \n",
       "30053  848719057492,amazonfiretv/51454342,amazonfiret...       Amazon   \n",
       "17376  firekidseditiontablet7displaywifi16gbgreenkidp...       Amazon   \n",
       "33215  848719057492,amazonfiretv/51454342,amazonfiret...       Amazon   \n",
       "\n",
       "                   reviews.date     reviews.dateAdded  \\\n",
       "9328   2016-12-31T00:00:00.000Z  2017-05-21T01:38:59Z   \n",
       "20761  2015-04-03T00:00:00.000Z                   NaN   \n",
       "30053  2016-07-09T00:00:00.000Z  2017-09-20T05:35:59Z   \n",
       "17376  2017-01-23T00:00:00.000Z  2017-06-21T07:38:51Z   \n",
       "33215  2016-10-21T00:00:00.000Z  2017-09-20T05:35:53Z   \n",
       "\n",
       "                                        reviews.dateSeen reviews.doRecommend  \\\n",
       "9328   2017-04-30T00:12:00.000Z,2017-06-07T08:17:00.000Z                True   \n",
       "20761  2017-08-31T00:00:00Z,2017-03-31T00:00:00Z,2017...                True   \n",
       "30053  2017-08-25T22:40:32.187Z,2017-08-19T09:25:25.7...                True   \n",
       "17376  2017-06-04T02:18:16.153Z,2017-06-03T18:42:28.609Z                True   \n",
       "33215  2017-08-25T22:04:47.324Z,2017-08-19T09:35:26.5...                True   \n",
       "\n",
       "       reviews.numHelpful  reviews.rating  \\\n",
       "9328                  0.0             5.0   \n",
       "20761                 0.0             5.0   \n",
       "30053                 0.0             5.0   \n",
       "17376                 0.0             5.0   \n",
       "33215                 0.0             5.0   \n",
       "\n",
       "                                      reviews.sourceURLs  \\\n",
       "9328   http://reviews.bestbuy.com/3545/5025800/review...   \n",
       "20761  http://reviews.bestbuy.com/3545/9302088/review...   \n",
       "30053  http://reviews.bestbuy.com/3545/4370400/review...   \n",
       "17376  http://reviews.bestbuy.com/3545/5026300/review...   \n",
       "33215  http://reviews.bestbuy.com/3545/4370400/review...   \n",
       "\n",
       "                                            reviews.text  \\\n",
       "9328   I have an Amazon Kindle and this one. The kind...   \n",
       "20761  Out of the box there really is nothing to do b...   \n",
       "30053  This is the 5th or 6th Fire TV I have purchase...   \n",
       "17376  We got this for our nephew and he absolutely l...   \n",
       "33215  Great device to use for streaming tv shows & m...   \n",
       "\n",
       "                                         reviews.title  reviews.userCity  \\\n",
       "9328                        I really like this version               NaN   \n",
       "20761                           Easy to set up and use               NaN   \n",
       "30053  Great Product. Best box for streaming and games               NaN   \n",
       "17376                            I got this for a gift               NaN   \n",
       "33215                                    Great Fire TV               NaN   \n",
       "\n",
       "       reviews.userProvince reviews.username  \n",
       "9328                    NaN          review1  \n",
       "20761                   NaN             JQR5  \n",
       "30053                   NaN        lilokster  \n",
       "17376                   NaN             Brad  \n",
       "33215                   NaN        Myprinter  "
      ]
     },
     "execution_count": 57,
     "metadata": {},
     "output_type": "execute_result"
    }
   ],
   "source": [
    "split=StratifiedShuffleSplit(n_splits=5,test_size=0.2)\n",
    "for train_index,test_index in split.split(data_after,data_after[\"reviews.rating\"]):\n",
    "    strat_train=data_after.reindex(train_index)\n",
    "    strat_test=data_after.reindex(test_index)\n",
    "strat_train.head()"
   ]
  },
  {
   "cell_type": "markdown",
   "id": "ecfff33c",
   "metadata": {},
   "source": [
    "So here we can see that we get randomised row in our training dataset by using stratified shuffle split"
   ]
  },
  {
   "cell_type": "code",
   "execution_count": 58,
   "id": "a79a3c86",
   "metadata": {},
   "outputs": [
    {
     "data": {
      "text/plain": [
       "27701"
      ]
     },
     "execution_count": 58,
     "metadata": {},
     "output_type": "execute_result"
    }
   ],
   "source": [
    "len(strat_train)"
   ]
  },
  {
   "cell_type": "code",
   "execution_count": 59,
   "id": "9d10eb6d",
   "metadata": {},
   "outputs": [
    {
     "data": {
      "text/plain": [
       "6926"
      ]
     },
     "execution_count": 59,
     "metadata": {},
     "output_type": "execute_result"
    }
   ],
   "source": [
    "len(strat_test)"
   ]
  },
  {
   "cell_type": "code",
   "execution_count": 60,
   "id": "c131e0c6",
   "metadata": {},
   "outputs": [
    {
     "data": {
      "text/plain": [
       "5.0    0.688603\n",
       "4.0    0.243962\n",
       "3.0    0.043139\n",
       "2.0    0.011732\n",
       "1.0    0.011660\n",
       "Name: reviews.rating, dtype: float64"
      ]
     },
     "execution_count": 60,
     "metadata": {},
     "output_type": "execute_result"
    }
   ],
   "source": [
    "strat_train[\"reviews.rating\"].value_counts()/len(strat_train)\n",
    "# this is to get percentage of each of the ratings "
   ]
  },
  {
   "cell_type": "code",
   "execution_count": 61,
   "id": "cd2420c4",
   "metadata": {},
   "outputs": [
    {
     "data": {
      "text/plain": [
       "5.0    0.676148\n",
       "4.0    0.257003\n",
       "3.0    0.043604\n",
       "1.0    0.011118\n",
       "2.0    0.010973\n",
       "Name: reviews.rating, dtype: float64"
      ]
     },
     "execution_count": 61,
     "metadata": {},
     "output_type": "execute_result"
    }
   ],
   "source": [
    "strat_test[\"reviews.rating\"].value_counts()/len(strat_test)\n",
    "# this is to get percentage of each of the ratings "
   ]
  },
  {
   "cell_type": "markdown",
   "id": "91dad22d",
   "metadata": {},
   "source": [
    "so stratified shuffle split helps in giving more appropriate answers as what if it is arranged in some way that 1* max rating comes in strat_train . so it helps in avg in out"
   ]
  },
  {
   "cell_type": "markdown",
   "id": "240ab485",
   "metadata": {},
   "source": [
    "# Data Exploration(training set)"
   ]
  },
  {
   "cell_type": "code",
   "execution_count": 62,
   "id": "deec8d08",
   "metadata": {},
   "outputs": [
    {
     "data": {
      "text/html": [
       "<div>\n",
       "<style scoped>\n",
       "    .dataframe tbody tr th:only-of-type {\n",
       "        vertical-align: middle;\n",
       "    }\n",
       "\n",
       "    .dataframe tbody tr th {\n",
       "        vertical-align: top;\n",
       "    }\n",
       "\n",
       "    .dataframe thead th {\n",
       "        text-align: right;\n",
       "    }\n",
       "</style>\n",
       "<table border=\"1\" class=\"dataframe\">\n",
       "  <thead>\n",
       "    <tr style=\"text-align: right;\">\n",
       "      <th></th>\n",
       "      <th>id</th>\n",
       "      <th>name</th>\n",
       "      <th>asins</th>\n",
       "      <th>brand</th>\n",
       "      <th>categories</th>\n",
       "      <th>keys</th>\n",
       "      <th>manufacturer</th>\n",
       "      <th>reviews.date</th>\n",
       "      <th>reviews.dateAdded</th>\n",
       "      <th>reviews.dateSeen</th>\n",
       "      <th>reviews.doRecommend</th>\n",
       "      <th>reviews.numHelpful</th>\n",
       "      <th>reviews.rating</th>\n",
       "      <th>reviews.sourceURLs</th>\n",
       "      <th>reviews.text</th>\n",
       "      <th>reviews.title</th>\n",
       "      <th>reviews.userCity</th>\n",
       "      <th>reviews.userProvince</th>\n",
       "      <th>reviews.username</th>\n",
       "    </tr>\n",
       "  </thead>\n",
       "  <tbody>\n",
       "    <tr>\n",
       "      <th>9328</th>\n",
       "      <td>AVphgVaX1cnluZ0-DR74</td>\n",
       "      <td>Fire Tablet, 7 Display, Wi-Fi, 8 GB - Includes...</td>\n",
       "      <td>B018Y229OU</td>\n",
       "      <td>Amazon</td>\n",
       "      <td>Fire Tablets,Tablets,Computers &amp; Tablets,All T...</td>\n",
       "      <td>firetablet7displaywifi8gbincludesspecialoffers...</td>\n",
       "      <td>Amazon</td>\n",
       "      <td>2016-12-31T00:00:00.000Z</td>\n",
       "      <td>2017-05-21T01:38:59Z</td>\n",
       "      <td>2017-04-30T00:12:00.000Z,2017-06-07T08:17:00.000Z</td>\n",
       "      <td>True</td>\n",
       "      <td>0.0</td>\n",
       "      <td>5.0</td>\n",
       "      <td>http://reviews.bestbuy.com/3545/5025800/review...</td>\n",
       "      <td>I have an Amazon Kindle and this one. The kind...</td>\n",
       "      <td>I really like this version</td>\n",
       "      <td>NaN</td>\n",
       "      <td>NaN</td>\n",
       "      <td>review1</td>\n",
       "    </tr>\n",
       "    <tr>\n",
       "      <th>20761</th>\n",
       "      <td>AVphPmHuilAPnD_x3E5h</td>\n",
       "      <td>Kindle Voyage E-reader, 6 High-Resolution Disp...</td>\n",
       "      <td>B00IOY8XWQ</td>\n",
       "      <td>Amazon</td>\n",
       "      <td>Walmart for Business,Office Electronics,Tablet...</td>\n",
       "      <td>848719040104,kindlevoyageereader6highresolutio...</td>\n",
       "      <td>Amazon</td>\n",
       "      <td>2015-04-03T00:00:00.000Z</td>\n",
       "      <td>NaN</td>\n",
       "      <td>2017-08-31T00:00:00Z,2017-03-31T00:00:00Z,2017...</td>\n",
       "      <td>True</td>\n",
       "      <td>0.0</td>\n",
       "      <td>5.0</td>\n",
       "      <td>http://reviews.bestbuy.com/3545/9302088/review...</td>\n",
       "      <td>Out of the box there really is nothing to do b...</td>\n",
       "      <td>Easy to set up and use</td>\n",
       "      <td>NaN</td>\n",
       "      <td>NaN</td>\n",
       "      <td>JQR5</td>\n",
       "    </tr>\n",
       "  </tbody>\n",
       "</table>\n",
       "</div>"
      ],
      "text/plain": [
       "                         id  \\\n",
       "9328   AVphgVaX1cnluZ0-DR74   \n",
       "20761  AVphPmHuilAPnD_x3E5h   \n",
       "\n",
       "                                                    name       asins   brand  \\\n",
       "9328   Fire Tablet, 7 Display, Wi-Fi, 8 GB - Includes...  B018Y229OU  Amazon   \n",
       "20761  Kindle Voyage E-reader, 6 High-Resolution Disp...  B00IOY8XWQ  Amazon   \n",
       "\n",
       "                                              categories  \\\n",
       "9328   Fire Tablets,Tablets,Computers & Tablets,All T...   \n",
       "20761  Walmart for Business,Office Electronics,Tablet...   \n",
       "\n",
       "                                                    keys manufacturer  \\\n",
       "9328   firetablet7displaywifi8gbincludesspecialoffers...       Amazon   \n",
       "20761  848719040104,kindlevoyageereader6highresolutio...       Amazon   \n",
       "\n",
       "                   reviews.date     reviews.dateAdded  \\\n",
       "9328   2016-12-31T00:00:00.000Z  2017-05-21T01:38:59Z   \n",
       "20761  2015-04-03T00:00:00.000Z                   NaN   \n",
       "\n",
       "                                        reviews.dateSeen reviews.doRecommend  \\\n",
       "9328   2017-04-30T00:12:00.000Z,2017-06-07T08:17:00.000Z                True   \n",
       "20761  2017-08-31T00:00:00Z,2017-03-31T00:00:00Z,2017...                True   \n",
       "\n",
       "       reviews.numHelpful  reviews.rating  \\\n",
       "9328                  0.0             5.0   \n",
       "20761                 0.0             5.0   \n",
       "\n",
       "                                      reviews.sourceURLs  \\\n",
       "9328   http://reviews.bestbuy.com/3545/5025800/review...   \n",
       "20761  http://reviews.bestbuy.com/3545/9302088/review...   \n",
       "\n",
       "                                            reviews.text  \\\n",
       "9328   I have an Amazon Kindle and this one. The kind...   \n",
       "20761  Out of the box there really is nothing to do b...   \n",
       "\n",
       "                    reviews.title  reviews.userCity  reviews.userProvince  \\\n",
       "9328   I really like this version               NaN                   NaN   \n",
       "20761      Easy to set up and use               NaN                   NaN   \n",
       "\n",
       "      reviews.username  \n",
       "9328           review1  \n",
       "20761             JQR5  "
      ]
     },
     "execution_count": 62,
     "metadata": {},
     "output_type": "execute_result"
    }
   ],
   "source": [
    "reviews=strat_train.copy()\n",
    "reviews.head(2)"
   ]
  },
  {
   "cell_type": "code",
   "execution_count": 63,
   "id": "cb19f08a",
   "metadata": {},
   "outputs": [
    {
     "data": {
      "text/plain": [
       "(49, 36)"
      ]
     },
     "execution_count": 63,
     "metadata": {},
     "output_type": "execute_result"
    }
   ],
   "source": [
    "len(reviews['name'].unique()),len(reviews['asins'].unique())"
   ]
  },
  {
   "cell_type": "markdown",
   "id": "bc8fee26",
   "metadata": {},
   "source": [
    "so we have 35 products in training data ASINs but more product names 48"
   ]
  },
  {
   "cell_type": "markdown",
   "id": "856de115",
   "metadata": {},
   "source": [
    "so we have one to many relationship btw asins and names. A single asin can have different name due to different seller"
   ]
  },
  {
   "cell_type": "code",
   "execution_count": 64,
   "id": "c001d660",
   "metadata": {},
   "outputs": [
    {
     "data": {
      "text/plain": [
       "asins\n",
       "B005PB2T0S               [Kindle Keyboard,,,\\r\\nKindle Keyboard,,,, Ama...\n",
       "B005PB2T2Q               [Fire Kids Edition Tablet, 7 Display, Wi-Fi, 1...\n",
       "B00DU15MU4               [Brand New Amazon Kindle Fire 16gb 7 Ips Displ...\n",
       "B00IOY8XWQ               [Kindle Voyage E-reader, 6 High-Resolution Dis...\n",
       "B00IOYAM4I               [Brand New Amazon Kindle Fire 16gb 7 Ips Displ...\n",
       "B00L9EPT8O,B01E6AO69U    [Echo (White),,,\\r\\nEcho (White),,,, Amazon Fi...\n",
       "B00LO29KXQ               [Fire Tablet, 7 Display, Wi-Fi, 8 GB - Include...\n",
       "B00LW9XOJM                                                           [nan]\n",
       "B00OQVZDJM               [Amazon Kindle Paperwhite - eBook reader - 4 G...\n",
       "B00QFQRELG                                                           [nan]\n",
       "B00QJDU3KY               [Fire Tablet, 7 Display, Wi-Fi, 8 GB - Include...\n",
       "B00QL1ZN3G                                                           [nan]\n",
       "B00REQKWGA               [Brand New Amazon Kindle Fire 16gb 7 Ips Displ...\n",
       "B00TSUGXKE                            [Echo (White),,,\\r\\nEcho (White),,,]\n",
       "B00U3FPN4U                                                           [nan]\n",
       "B00UH4D8G2                            [Echo (White),,,\\r\\nEcho (White),,,]\n",
       "B00VINDBJK               [Kindle Oasis E-reader with Leather Charging C...\n",
       "B00X4WHP5E                                                           [nan]\n",
       "B00ZV9PXP2               [Fire Tablet, 7 Display, Wi-Fi, 8 GB - Include...\n",
       "B0189XYY0Q                                                           [nan]\n",
       "B018SZT3BK               [Fire Tablet, 7 Display, Wi-Fi, 8 GB - Include...\n",
       "B018T075DC               [Brand New Amazon Kindle Fire 16gb 7 Ips Displ...\n",
       "B018Y225IA               [Brand New Amazon Kindle Fire 16gb 7 Ips Displ...\n",
       "B018Y229OU               [Fire Tablet, 7 Display, Wi-Fi, 8 GB - Include...\n",
       "B018Y22BI4                            [Echo (White),,,\\r\\nEcho (White),,,]\n",
       "B018Y22C2Y               [Fire Tablet, 7 Display, Wi-Fi, 8 GB - Include...\n",
       "B018Y23MNM               [Amazon Kindle Paperwhite - eBook reader - 4 G...\n",
       "B018Y23P7K                                                           [nan]\n",
       "B01AHB9C1E               [Amazon 5W USB Official OEM Charger and Power ...\n",
       "B01AHB9CN2               [All-New Fire HD 8 Tablet, 8 HD Display, Wi-Fi...\n",
       "B01AHB9CYG               [All-New Fire HD 8 Tablet, 8 HD Display, Wi-Fi...\n",
       "B01BFIBRIE               [Fire Tablet, 7 Display, Wi-Fi, 8 GB - Include...\n",
       "B01BH83OOM                                                           [nan]\n",
       "B01J2G4VBG               [All-New Kindle E-reader - Black, 6 Glare-Free...\n",
       "B01J4ORNHU               [Fire Tablet, 7 Display, Wi-Fi, 8 GB - Include...\n",
       "Name: name, dtype: object"
      ]
     },
     "execution_count": 64,
     "metadata": {},
     "output_type": "execute_result"
    }
   ],
   "source": [
    "# so its better to group by on the basis of asins\n",
    "reviews.groupby('asins')['name'].unique()"
   ]
  },
  {
   "cell_type": "markdown",
   "id": "479a71b5",
   "metadata": {},
   "source": [
    "we are concerned with product ratings and reviews so we take care of asins only"
   ]
  },
  {
   "cell_type": "code",
   "execution_count": 65,
   "id": "b480b19a",
   "metadata": {},
   "outputs": [
    {
     "name": "stdout",
     "output_type": "stream",
     "text": [
      "<class 'pandas.core.frame.DataFrame'>\n",
      "Int64Index: 27701 entries, 9328 to 4504\n",
      "Data columns (total 19 columns):\n",
      " #   Column                Non-Null Count  Dtype  \n",
      "---  ------                --------------  -----  \n",
      " 0   id                    27676 non-null  object \n",
      " 1   name                  22287 non-null  object \n",
      " 2   asins                 27674 non-null  object \n",
      " 3   brand                 27676 non-null  object \n",
      " 4   categories            27676 non-null  object \n",
      " 5   keys                  27676 non-null  object \n",
      " 6   manufacturer          27676 non-null  object \n",
      " 7   reviews.date          27654 non-null  object \n",
      " 8   reviews.dateAdded     19221 non-null  object \n",
      " 9   reviews.dateSeen      27676 non-null  object \n",
      " 10  reviews.doRecommend   27255 non-null  object \n",
      " 11  reviews.numHelpful    27306 non-null  float64\n",
      " 12  reviews.rating        27676 non-null  float64\n",
      " 13  reviews.sourceURLs    27676 non-null  object \n",
      " 14  reviews.text          27675 non-null  object \n",
      " 15  reviews.title         27671 non-null  object \n",
      " 16  reviews.userCity      0 non-null      float64\n",
      " 17  reviews.userProvince  0 non-null      float64\n",
      " 18  reviews.username      27674 non-null  object \n",
      "dtypes: float64(4), object(15)\n",
      "memory usage: 4.2+ MB\n"
     ]
    }
   ],
   "source": [
    "reviews.info()"
   ]
  },
  {
   "cell_type": "markdown",
   "id": "c92a4775",
   "metadata": {},
   "source": [
    "# Asins/Names with ratings"
   ]
  },
  {
   "cell_type": "code",
   "execution_count": 66,
   "id": "2c037c0f",
   "metadata": {},
   "outputs": [
    {
     "data": {
      "image/png": "[encoded data removed]",
      "text/plain": [
       "<Figure size 1152x720 with 2 Axes>"
      ]
     },
     "metadata": {},
     "output_type": "display_data"
    }
   ],
   "source": [
    "fig = plt.figure(figsize=(16,10))\n",
    "# we use subplot when we have to see interrelationship btw two graphs\n",
    "ax1 = plt.subplot(2,1,1)\n",
    "# this 2,1,1 is 2nd row 1st column 1st plot \n",
    "ax2 = plt.subplot(2,1,2, sharex = ax1)\n",
    "reviews[\"asins\"].value_counts().plot(kind=\"bar\", ax=ax1, title=\"ASIN Frequency\")\n",
    "# The ax (or Axes object) is the area of the figure where your data appears\n",
    "np.log10(reviews[\"asins\"].value_counts()).plot(kind=\"bar\", ax=ax2, \n",
    "                                               title=\"ASIN Frequency (Log10 Adjusted)\") \n",
    "# np.log10 normalises our data to visualize it better \n",
    "plt.show()"
   ]
  },
  {
   "cell_type": "markdown",
   "id": "f9dbb9be",
   "metadata": {},
   "source": [
    "so we know that what asins have max number of people rating . And this answers which asins have most sales "
   ]
  },
  {
   "cell_type": "markdown",
   "id": "44d074bc",
   "metadata": {},
   "source": [
    "# ASINS/Reviews"
   ]
  },
  {
   "cell_type": "code",
   "execution_count": 67,
   "id": "c1db9a40",
   "metadata": {},
   "outputs": [
    {
     "data": {
      "text/plain": [
       "4.58754877872525"
      ]
     },
     "execution_count": 67,
     "metadata": {},
     "output_type": "execute_result"
    }
   ],
   "source": [
    "reviews['reviews.rating'].mean()\n",
    "# trianing data set rating mean"
   ]
  },
  {
   "cell_type": "code",
   "execution_count": 68,
   "id": "6b0529f9",
   "metadata": {
    "scrolled": false
   },
   "outputs": [
    {
     "data": {
      "image/png": "[encoded data removed]",
      "text/plain": [
       "<Figure size 1152x864 with 2 Axes>"
      ]
     },
     "metadata": {},
     "output_type": "display_data"
    }
   ],
   "source": [
    "# now we will use pointplot to see our number of those people giving ratings\n",
    "asins_count=reviews['asins'].value_counts().index\n",
    "plt.subplots(2,1,figsize=(16,12))\n",
    "plt.subplot(2,1,1)\n",
    "reviews['asins'].value_counts().plot(kind=\"bar\",title=\"ASINS frequeny\")\n",
    "plt.subplot(2,1,2)\n",
    "sns.pointplot(x=\"asins\",y=\"reviews.rating\",order=asins_count,data=reviews)\n",
    "plt.xticks(rotation=90)\n",
    "plt.show()"
   ]
  },
  {
   "cell_type": "markdown",
   "id": "12bcbd25",
   "metadata": {},
   "source": [
    "so we have info about rating of product and no. of reviews given on that asin.Here dots are means and lines extremes show max min rating value.So now we can do analysis of products quality using no. of users"
   ]
  },
  {
   "cell_type": "markdown",
   "id": "e6cd2a8f",
   "metadata": {},
   "source": [
    "# reviews.doRecommend/ASINs"
   ]
  },
  {
   "cell_type": "code",
   "execution_count": 69,
   "id": "24da2a8e",
   "metadata": {},
   "outputs": [
    {
     "data": {
      "image/png": "[encoded data removed]",
      "text/plain": [
       "<Figure size 1152x864 with 2 Axes>"
      ]
     },
     "metadata": {},
     "output_type": "display_data"
    }
   ],
   "source": [
    "plt.subplots(2,1,figsize=(16,12))\n",
    "plt.subplot(2,1,1)\n",
    "reviews['asins'].value_counts().plot(kind=\"bar\",title=\"ASINS frequeny\")\n",
    "plt.subplot(2,1,2)\n",
    "sns.pointplot(x=\"asins\",y=\"reviews.doRecommend\",order=asins_count,data=reviews)\n",
    "plt.xticks(rotation=90)\n",
    "plt.show()"
   ]
  },
  {
   "cell_type": "markdown",
   "id": "63d984a6",
   "metadata": {},
   "source": [
    "Info about which product is more frequently recommended and if its sold more or not based on that recommendation"
   ]
  },
  {
   "cell_type": "markdown",
   "id": "452880ac",
   "metadata": {},
   "source": [
    "# Correlations"
   ]
  },
  {
   "cell_type": "code",
   "execution_count": 70,
   "id": "3e51f648",
   "metadata": {},
   "outputs": [
    {
     "data": {
      "text/html": [
       "<div>\n",
       "<style scoped>\n",
       "    .dataframe tbody tr th:only-of-type {\n",
       "        vertical-align: middle;\n",
       "    }\n",
       "\n",
       "    .dataframe tbody tr th {\n",
       "        vertical-align: top;\n",
       "    }\n",
       "\n",
       "    .dataframe thead th {\n",
       "        text-align: right;\n",
       "    }\n",
       "</style>\n",
       "<table border=\"1\" class=\"dataframe\">\n",
       "  <thead>\n",
       "    <tr style=\"text-align: right;\">\n",
       "      <th></th>\n",
       "      <th>reviews.numHelpful</th>\n",
       "      <th>reviews.rating</th>\n",
       "      <th>reviews.userCity</th>\n",
       "      <th>reviews.userProvince</th>\n",
       "    </tr>\n",
       "  </thead>\n",
       "  <tbody>\n",
       "    <tr>\n",
       "      <th>reviews.numHelpful</th>\n",
       "      <td>1.000000</td>\n",
       "      <td>-0.043007</td>\n",
       "      <td>NaN</td>\n",
       "      <td>NaN</td>\n",
       "    </tr>\n",
       "    <tr>\n",
       "      <th>reviews.rating</th>\n",
       "      <td>-0.043007</td>\n",
       "      <td>1.000000</td>\n",
       "      <td>NaN</td>\n",
       "      <td>NaN</td>\n",
       "    </tr>\n",
       "    <tr>\n",
       "      <th>reviews.userCity</th>\n",
       "      <td>NaN</td>\n",
       "      <td>NaN</td>\n",
       "      <td>NaN</td>\n",
       "      <td>NaN</td>\n",
       "    </tr>\n",
       "    <tr>\n",
       "      <th>reviews.userProvince</th>\n",
       "      <td>NaN</td>\n",
       "      <td>NaN</td>\n",
       "      <td>NaN</td>\n",
       "      <td>NaN</td>\n",
       "    </tr>\n",
       "  </tbody>\n",
       "</table>\n",
       "</div>"
      ],
      "text/plain": [
       "                      reviews.numHelpful  reviews.rating  reviews.userCity  \\\n",
       "reviews.numHelpful              1.000000       -0.043007               NaN   \n",
       "reviews.rating                 -0.043007        1.000000               NaN   \n",
       "reviews.userCity                     NaN             NaN               NaN   \n",
       "reviews.userProvince                 NaN             NaN               NaN   \n",
       "\n",
       "                      reviews.userProvince  \n",
       "reviews.numHelpful                     NaN  \n",
       "reviews.rating                         NaN  \n",
       "reviews.userCity                       NaN  \n",
       "reviews.userProvince                   NaN  "
      ]
     },
     "execution_count": 70,
     "metadata": {},
     "output_type": "execute_result"
    }
   ],
   "source": [
    "corr_matrix=reviews.corr()\n",
    "corr_matrix"
   ]
  },
  {
   "cell_type": "code",
   "execution_count": 71,
   "id": "a764d8ec",
   "metadata": {},
   "outputs": [
    {
     "data": {
      "text/html": [
       "<div>\n",
       "<style scoped>\n",
       "    .dataframe tbody tr th:only-of-type {\n",
       "        vertical-align: middle;\n",
       "    }\n",
       "\n",
       "    .dataframe tbody tr th {\n",
       "        vertical-align: top;\n",
       "    }\n",
       "\n",
       "    .dataframe thead th {\n",
       "        text-align: right;\n",
       "    }\n",
       "</style>\n",
       "<table border=\"1\" class=\"dataframe\">\n",
       "  <thead>\n",
       "    <tr style=\"text-align: right;\">\n",
       "      <th></th>\n",
       "      <th>reviews.rating</th>\n",
       "    </tr>\n",
       "    <tr>\n",
       "      <th>asins</th>\n",
       "      <th></th>\n",
       "    </tr>\n",
       "  </thead>\n",
       "  <tbody>\n",
       "    <tr>\n",
       "      <th>B005PB2T0S</th>\n",
       "      <td>4.250000</td>\n",
       "    </tr>\n",
       "    <tr>\n",
       "      <th>B005PB2T2Q</th>\n",
       "      <td>3.666667</td>\n",
       "    </tr>\n",
       "    <tr>\n",
       "      <th>B00DU15MU4</th>\n",
       "      <td>5.000000</td>\n",
       "    </tr>\n",
       "    <tr>\n",
       "      <th>B00IOY8XWQ</th>\n",
       "      <td>4.719828</td>\n",
       "    </tr>\n",
       "    <tr>\n",
       "      <th>B00IOYAM4I</th>\n",
       "      <td>4.866667</td>\n",
       "    </tr>\n",
       "    <tr>\n",
       "      <th>B00L9EPT8O,B01E6AO69U</th>\n",
       "      <td>4.670433</td>\n",
       "    </tr>\n",
       "    <tr>\n",
       "      <th>B00LO29KXQ</th>\n",
       "      <td>5.000000</td>\n",
       "    </tr>\n",
       "    <tr>\n",
       "      <th>B00LW9XOJM</th>\n",
       "      <td>4.000000</td>\n",
       "    </tr>\n",
       "    <tr>\n",
       "      <th>B00OQVZDJM</th>\n",
       "      <td>4.771206</td>\n",
       "    </tr>\n",
       "    <tr>\n",
       "      <th>B00QFQRELG</th>\n",
       "      <td>4.163934</td>\n",
       "    </tr>\n",
       "    <tr>\n",
       "      <th>B00QJDU3KY</th>\n",
       "      <td>4.636364</td>\n",
       "    </tr>\n",
       "    <tr>\n",
       "      <th>B00QL1ZN3G</th>\n",
       "      <td>3.142857</td>\n",
       "    </tr>\n",
       "    <tr>\n",
       "      <th>B00REQKWGA</th>\n",
       "      <td>4.600000</td>\n",
       "    </tr>\n",
       "    <tr>\n",
       "      <th>B00TSUGXKE</th>\n",
       "      <td>4.467797</td>\n",
       "    </tr>\n",
       "    <tr>\n",
       "      <th>B00U3FPN4U</th>\n",
       "      <td>4.714462</td>\n",
       "    </tr>\n",
       "    <tr>\n",
       "      <th>B00UH4D8G2</th>\n",
       "      <td>2.857143</td>\n",
       "    </tr>\n",
       "    <tr>\n",
       "      <th>B00VINDBJK</th>\n",
       "      <td>4.648148</td>\n",
       "    </tr>\n",
       "    <tr>\n",
       "      <th>B00X4WHP5E</th>\n",
       "      <td>4.285714</td>\n",
       "    </tr>\n",
       "    <tr>\n",
       "      <th>B00ZV9PXP2</th>\n",
       "      <td>4.564706</td>\n",
       "    </tr>\n",
       "    <tr>\n",
       "      <th>B0189XYY0Q</th>\n",
       "      <td>4.542857</td>\n",
       "    </tr>\n",
       "    <tr>\n",
       "      <th>B018SZT3BK</th>\n",
       "      <td>4.550000</td>\n",
       "    </tr>\n",
       "    <tr>\n",
       "      <th>B018T075DC</th>\n",
       "      <td>5.000000</td>\n",
       "    </tr>\n",
       "    <tr>\n",
       "      <th>B018Y225IA</th>\n",
       "      <td>4.528624</td>\n",
       "    </tr>\n",
       "    <tr>\n",
       "      <th>B018Y229OU</th>\n",
       "      <td>4.452092</td>\n",
       "    </tr>\n",
       "    <tr>\n",
       "      <th>B018Y22BI4</th>\n",
       "      <td>4.666667</td>\n",
       "    </tr>\n",
       "    <tr>\n",
       "      <th>B018Y22C2Y</th>\n",
       "      <td>5.000000</td>\n",
       "    </tr>\n",
       "    <tr>\n",
       "      <th>B018Y23MNM</th>\n",
       "      <td>4.522794</td>\n",
       "    </tr>\n",
       "    <tr>\n",
       "      <th>B018Y23P7K</th>\n",
       "      <td>5.000000</td>\n",
       "    </tr>\n",
       "    <tr>\n",
       "      <th>B01AHB9C1E</th>\n",
       "      <td>4.500000</td>\n",
       "    </tr>\n",
       "    <tr>\n",
       "      <th>B01AHB9CN2</th>\n",
       "      <td>4.596396</td>\n",
       "    </tr>\n",
       "    <tr>\n",
       "      <th>B01AHB9CYG</th>\n",
       "      <td>4.580153</td>\n",
       "    </tr>\n",
       "    <tr>\n",
       "      <th>B01BFIBRIE</th>\n",
       "      <td>4.636364</td>\n",
       "    </tr>\n",
       "    <tr>\n",
       "      <th>B01BH83OOM</th>\n",
       "      <td>4.529762</td>\n",
       "    </tr>\n",
       "    <tr>\n",
       "      <th>B01J2G4VBG</th>\n",
       "      <td>4.438486</td>\n",
       "    </tr>\n",
       "    <tr>\n",
       "      <th>B01J4ORNHU</th>\n",
       "      <td>4.583333</td>\n",
       "    </tr>\n",
       "  </tbody>\n",
       "</table>\n",
       "</div>"
      ],
      "text/plain": [
       "                       reviews.rating\n",
       "asins                                \n",
       "B005PB2T0S                   4.250000\n",
       "B005PB2T2Q                   3.666667\n",
       "B00DU15MU4                   5.000000\n",
       "B00IOY8XWQ                   4.719828\n",
       "B00IOYAM4I                   4.866667\n",
       "B00L9EPT8O,B01E6AO69U        4.670433\n",
       "B00LO29KXQ                   5.000000\n",
       "B00LW9XOJM                   4.000000\n",
       "B00OQVZDJM                   4.771206\n",
       "B00QFQRELG                   4.163934\n",
       "B00QJDU3KY                   4.636364\n",
       "B00QL1ZN3G                   3.142857\n",
       "B00REQKWGA                   4.600000\n",
       "B00TSUGXKE                   4.467797\n",
       "B00U3FPN4U                   4.714462\n",
       "B00UH4D8G2                   2.857143\n",
       "B00VINDBJK                   4.648148\n",
       "B00X4WHP5E                   4.285714\n",
       "B00ZV9PXP2                   4.564706\n",
       "B0189XYY0Q                   4.542857\n",
       "B018SZT3BK                   4.550000\n",
       "B018T075DC                   5.000000\n",
       "B018Y225IA                   4.528624\n",
       "B018Y229OU                   4.452092\n",
       "B018Y22BI4                   4.666667\n",
       "B018Y22C2Y                   5.000000\n",
       "B018Y23MNM                   4.522794\n",
       "B018Y23P7K                   5.000000\n",
       "B01AHB9C1E                   4.500000\n",
       "B01AHB9CN2                   4.596396\n",
       "B01AHB9CYG                   4.580153\n",
       "B01BFIBRIE                   4.636364\n",
       "B01BH83OOM                   4.529762\n",
       "B01J2G4VBG                   4.438486\n",
       "B01J4ORNHU                   4.583333"
      ]
     },
     "execution_count": 71,
     "metadata": {},
     "output_type": "execute_result"
    }
   ],
   "source": [
    "counts=reviews['asins'].value_counts().to_frame()\n",
    "avg_rating=reviews.groupby(\"asins\")['reviews.rating'].mean().to_frame()\n",
    "avg_rating"
   ]
  },
  {
   "cell_type": "markdown",
   "id": "9bb15fcb",
   "metadata": {},
   "source": [
    "Id's and mean of the product belonging to that id"
   ]
  },
  {
   "cell_type": "code",
   "execution_count": 72,
   "id": "b319c343",
   "metadata": {},
   "outputs": [
    {
     "data": {
      "text/html": [
       "<div>\n",
       "<style scoped>\n",
       "    .dataframe tbody tr th:only-of-type {\n",
       "        vertical-align: middle;\n",
       "    }\n",
       "\n",
       "    .dataframe tbody tr th {\n",
       "        vertical-align: top;\n",
       "    }\n",
       "\n",
       "    .dataframe thead th {\n",
       "        text-align: right;\n",
       "    }\n",
       "</style>\n",
       "<table border=\"1\" class=\"dataframe\">\n",
       "  <thead>\n",
       "    <tr style=\"text-align: right;\">\n",
       "      <th></th>\n",
       "      <th>reviews.rating</th>\n",
       "      <th>asins</th>\n",
       "    </tr>\n",
       "    <tr>\n",
       "      <th>asins</th>\n",
       "      <th></th>\n",
       "      <th></th>\n",
       "    </tr>\n",
       "  </thead>\n",
       "  <tbody>\n",
       "    <tr>\n",
       "      <th>B005PB2T0S</th>\n",
       "      <td>4.250000</td>\n",
       "      <td>4</td>\n",
       "    </tr>\n",
       "    <tr>\n",
       "      <th>B005PB2T2Q</th>\n",
       "      <td>3.666667</td>\n",
       "      <td>6</td>\n",
       "    </tr>\n",
       "    <tr>\n",
       "      <th>B00DU15MU4</th>\n",
       "      <td>5.000000</td>\n",
       "      <td>1</td>\n",
       "    </tr>\n",
       "    <tr>\n",
       "      <th>B00IOY8XWQ</th>\n",
       "      <td>4.719828</td>\n",
       "      <td>464</td>\n",
       "    </tr>\n",
       "    <tr>\n",
       "      <th>B00IOYAM4I</th>\n",
       "      <td>4.866667</td>\n",
       "      <td>45</td>\n",
       "    </tr>\n",
       "    <tr>\n",
       "      <th>B00L9EPT8O,B01E6AO69U</th>\n",
       "      <td>4.670433</td>\n",
       "      <td>5310</td>\n",
       "    </tr>\n",
       "    <tr>\n",
       "      <th>B00LO29KXQ</th>\n",
       "      <td>5.000000</td>\n",
       "      <td>3</td>\n",
       "    </tr>\n",
       "    <tr>\n",
       "      <th>B00LW9XOJM</th>\n",
       "      <td>4.000000</td>\n",
       "      <td>9</td>\n",
       "    </tr>\n",
       "    <tr>\n",
       "      <th>B00OQVZDJM</th>\n",
       "      <td>4.771206</td>\n",
       "      <td>2570</td>\n",
       "    </tr>\n",
       "    <tr>\n",
       "      <th>B00QFQRELG</th>\n",
       "      <td>4.163934</td>\n",
       "      <td>61</td>\n",
       "    </tr>\n",
       "    <tr>\n",
       "      <th>B00QJDU3KY</th>\n",
       "      <td>4.636364</td>\n",
       "      <td>11</td>\n",
       "    </tr>\n",
       "    <tr>\n",
       "      <th>B00QL1ZN3G</th>\n",
       "      <td>3.142857</td>\n",
       "      <td>14</td>\n",
       "    </tr>\n",
       "    <tr>\n",
       "      <th>B00REQKWGA</th>\n",
       "      <td>4.600000</td>\n",
       "      <td>5</td>\n",
       "    </tr>\n",
       "    <tr>\n",
       "      <th>B00TSUGXKE</th>\n",
       "      <td>4.467797</td>\n",
       "      <td>295</td>\n",
       "    </tr>\n",
       "    <tr>\n",
       "      <th>B00U3FPN4U</th>\n",
       "      <td>4.714462</td>\n",
       "      <td>4045</td>\n",
       "    </tr>\n",
       "    <tr>\n",
       "      <th>B00UH4D8G2</th>\n",
       "      <td>2.857143</td>\n",
       "      <td>7</td>\n",
       "    </tr>\n",
       "    <tr>\n",
       "      <th>B00VINDBJK</th>\n",
       "      <td>4.648148</td>\n",
       "      <td>54</td>\n",
       "    </tr>\n",
       "    <tr>\n",
       "      <th>B00X4WHP5E</th>\n",
       "      <td>4.285714</td>\n",
       "      <td>7</td>\n",
       "    </tr>\n",
       "    <tr>\n",
       "      <th>B00ZV9PXP2</th>\n",
       "      <td>4.564706</td>\n",
       "      <td>170</td>\n",
       "    </tr>\n",
       "    <tr>\n",
       "      <th>B0189XYY0Q</th>\n",
       "      <td>4.542857</td>\n",
       "      <td>210</td>\n",
       "    </tr>\n",
       "    <tr>\n",
       "      <th>B018SZT3BK</th>\n",
       "      <td>4.550000</td>\n",
       "      <td>220</td>\n",
       "    </tr>\n",
       "    <tr>\n",
       "      <th>B018T075DC</th>\n",
       "      <td>5.000000</td>\n",
       "      <td>4</td>\n",
       "    </tr>\n",
       "    <tr>\n",
       "      <th>B018Y225IA</th>\n",
       "      <td>4.528624</td>\n",
       "      <td>821</td>\n",
       "    </tr>\n",
       "    <tr>\n",
       "      <th>B018Y229OU</th>\n",
       "      <td>4.452092</td>\n",
       "      <td>8746</td>\n",
       "    </tr>\n",
       "    <tr>\n",
       "      <th>B018Y22BI4</th>\n",
       "      <td>4.666667</td>\n",
       "      <td>9</td>\n",
       "    </tr>\n",
       "    <tr>\n",
       "      <th>B018Y22C2Y</th>\n",
       "      <td>5.000000</td>\n",
       "      <td>2</td>\n",
       "    </tr>\n",
       "    <tr>\n",
       "      <th>B018Y23MNM</th>\n",
       "      <td>4.522794</td>\n",
       "      <td>1360</td>\n",
       "    </tr>\n",
       "    <tr>\n",
       "      <th>B018Y23P7K</th>\n",
       "      <td>5.000000</td>\n",
       "      <td>1</td>\n",
       "    </tr>\n",
       "    <tr>\n",
       "      <th>B01AHB9C1E</th>\n",
       "      <td>4.500000</td>\n",
       "      <td>14</td>\n",
       "    </tr>\n",
       "    <tr>\n",
       "      <th>B01AHB9CN2</th>\n",
       "      <td>4.596396</td>\n",
       "      <td>2220</td>\n",
       "    </tr>\n",
       "    <tr>\n",
       "      <th>B01AHB9CYG</th>\n",
       "      <td>4.580153</td>\n",
       "      <td>131</td>\n",
       "    </tr>\n",
       "    <tr>\n",
       "      <th>B01BFIBRIE</th>\n",
       "      <td>4.636364</td>\n",
       "      <td>22</td>\n",
       "    </tr>\n",
       "    <tr>\n",
       "      <th>B01BH83OOM</th>\n",
       "      <td>4.529762</td>\n",
       "      <td>504</td>\n",
       "    </tr>\n",
       "    <tr>\n",
       "      <th>B01J2G4VBG</th>\n",
       "      <td>4.438486</td>\n",
       "      <td>317</td>\n",
       "    </tr>\n",
       "    <tr>\n",
       "      <th>B01J4ORNHU</th>\n",
       "      <td>4.583333</td>\n",
       "      <td>12</td>\n",
       "    </tr>\n",
       "  </tbody>\n",
       "</table>\n",
       "</div>"
      ],
      "text/plain": [
       "                       reviews.rating  asins\n",
       "asins                                       \n",
       "B005PB2T0S                   4.250000      4\n",
       "B005PB2T2Q                   3.666667      6\n",
       "B00DU15MU4                   5.000000      1\n",
       "B00IOY8XWQ                   4.719828    464\n",
       "B00IOYAM4I                   4.866667     45\n",
       "B00L9EPT8O,B01E6AO69U        4.670433   5310\n",
       "B00LO29KXQ                   5.000000      3\n",
       "B00LW9XOJM                   4.000000      9\n",
       "B00OQVZDJM                   4.771206   2570\n",
       "B00QFQRELG                   4.163934     61\n",
       "B00QJDU3KY                   4.636364     11\n",
       "B00QL1ZN3G                   3.142857     14\n",
       "B00REQKWGA                   4.600000      5\n",
       "B00TSUGXKE                   4.467797    295\n",
       "B00U3FPN4U                   4.714462   4045\n",
       "B00UH4D8G2                   2.857143      7\n",
       "B00VINDBJK                   4.648148     54\n",
       "B00X4WHP5E                   4.285714      7\n",
       "B00ZV9PXP2                   4.564706    170\n",
       "B0189XYY0Q                   4.542857    210\n",
       "B018SZT3BK                   4.550000    220\n",
       "B018T075DC                   5.000000      4\n",
       "B018Y225IA                   4.528624    821\n",
       "B018Y229OU                   4.452092   8746\n",
       "B018Y22BI4                   4.666667      9\n",
       "B018Y22C2Y                   5.000000      2\n",
       "B018Y23MNM                   4.522794   1360\n",
       "B018Y23P7K                   5.000000      1\n",
       "B01AHB9C1E                   4.500000     14\n",
       "B01AHB9CN2                   4.596396   2220\n",
       "B01AHB9CYG                   4.580153    131\n",
       "B01BFIBRIE                   4.636364     22\n",
       "B01BH83OOM                   4.529762    504\n",
       "B01J2G4VBG                   4.438486    317\n",
       "B01J4ORNHU                   4.583333     12"
      ]
     },
     "execution_count": 72,
     "metadata": {},
     "output_type": "execute_result"
    }
   ],
   "source": [
    "table=avg_rating.join(counts)\n",
    "table"
   ]
  },
  {
   "cell_type": "code",
   "execution_count": 73,
   "id": "8f9f2d5b",
   "metadata": {},
   "outputs": [
    {
     "data": {
      "text/html": [
       "<div>\n",
       "<style scoped>\n",
       "    .dataframe tbody tr th:only-of-type {\n",
       "        vertical-align: middle;\n",
       "    }\n",
       "\n",
       "    .dataframe tbody tr th {\n",
       "        vertical-align: top;\n",
       "    }\n",
       "\n",
       "    .dataframe thead th {\n",
       "        text-align: right;\n",
       "    }\n",
       "</style>\n",
       "<table border=\"1\" class=\"dataframe\">\n",
       "  <thead>\n",
       "    <tr style=\"text-align: right;\">\n",
       "      <th></th>\n",
       "      <th>reviews.rating</th>\n",
       "      <th>asins</th>\n",
       "    </tr>\n",
       "  </thead>\n",
       "  <tbody>\n",
       "    <tr>\n",
       "      <th>reviews.rating</th>\n",
       "      <td>1.000000</td>\n",
       "      <td>0.092706</td>\n",
       "    </tr>\n",
       "    <tr>\n",
       "      <th>asins</th>\n",
       "      <td>0.092706</td>\n",
       "      <td>1.000000</td>\n",
       "    </tr>\n",
       "  </tbody>\n",
       "</table>\n",
       "</div>"
      ],
      "text/plain": [
       "                reviews.rating     asins\n",
       "reviews.rating        1.000000  0.092706\n",
       "asins                 0.092706  1.000000"
      ]
     },
     "execution_count": 73,
     "metadata": {},
     "output_type": "execute_result"
    },
    {
     "data": {
      "image/png": "[encoded data removed]",
      "text/plain": [
       "<Figure size 432x288 with 1 Axes>"
      ]
     },
     "metadata": {},
     "output_type": "display_data"
    }
   ],
   "source": [
    "plt.scatter(\"asins\",\"reviews.rating\",data=table)\n",
    "table.corr()"
   ]
  },
  {
   "cell_type": "markdown",
   "id": "9c4cbd6a",
   "metadata": {},
   "source": [
    "# Sentiment Analysis"
   ]
  },
  {
   "cell_type": "code",
   "execution_count": 74,
   "id": "9f8b0e23",
   "metadata": {},
   "outputs": [],
   "source": [
    "def sentiments(rating):\n",
    "    if(rating==5)or(rating==4):\n",
    "        return \"Positive\"\n",
    "    elif rating==3:\n",
    "        return \"Neutral\"\n",
    "    elif(rating==2)or(rating==1):\n",
    "        return \"Negative\"\n"
   ]
  },
  {
   "cell_type": "code",
   "execution_count": 87,
   "id": "d6bf4da1",
   "metadata": {},
   "outputs": [
    {
     "data": {
      "text/plain": [
       "9328     Positive\n",
       "20761    Positive\n",
       "30053    Positive\n",
       "17376    Positive\n",
       "33215    Positive\n",
       "4728     Positive\n",
       "29299    Positive\n",
       "13777    Positive\n",
       "29961    Positive\n",
       "2843      Neutral\n",
       "23010    Positive\n",
       "22756    Positive\n",
       "24307    Positive\n",
       "8773     Negative\n",
       "27279     Neutral\n",
       "19531    Positive\n",
       "15038    Positive\n",
       "15807    Positive\n",
       "945      Positive\n",
       "9785     Positive\n",
       "Name: Sentiments, dtype: object"
      ]
     },
     "execution_count": 87,
     "metadata": {},
     "output_type": "execute_result"
    }
   ],
   "source": [
    "# now adding this sentiments function to training and testing dataset\n",
    "strat_train['Sentiments']=strat_train['reviews.rating'].apply(sentiments)\n",
    "strat_test['Sentiments']=strat_test['reviews.rating'].apply(sentiments)\n",
    "# strat_train.head()\n",
    "strat_train[\"Sentiments\"][:20]"
   ]
  },
  {
   "cell_type": "markdown",
   "id": "b1d42115",
   "metadata": {},
   "source": [
    "# Preparing text data "
   ]
  },
  {
   "cell_type": "code",
   "execution_count": 76,
   "id": "e5a9f628",
   "metadata": {},
   "outputs": [
    {
     "name": "stdout",
     "output_type": "stream",
     "text": [
      "27701 6926\n"
     ]
    }
   ],
   "source": [
    "x_train=strat_train['reviews.text']\n",
    "x_train_targetsentiment=strat_train['Sentiments']\n",
    "x_test=strat_test['reviews.text']\n",
    "x_test_targetsentiment=strat_test['Sentiments']\n",
    "print(len(x_train),len(x_test))"
   ]
  },
  {
   "cell_type": "markdown",
   "id": "07d1d0c8",
   "metadata": {},
   "source": [
    "# Extracting features"
   ]
  },
  {
   "cell_type": "code",
   "execution_count": 77,
   "id": "cb0c3e23",
   "metadata": {},
   "outputs": [],
   "source": [
    "\n",
    "# tokenisation: which breaks sentences into words\n",
    "# stopwords: filtering unwanted words like the ,are etc.\n",
    "# filling na with space \n",
    "x_train=x_train.fillna(' ')\n",
    "x_test=x_test.fillna(' ')\n",
    "x_train_targetsentiment=x_train_targetsentiment.fillna(' ')\n",
    "x_test_targetsentiment=x_test_targetsentiment.fillna(' ')"
   ]
  },
  {
   "cell_type": "code",
   "execution_count": 78,
   "id": "c6a63c35",
   "metadata": {},
   "outputs": [
    {
     "data": {
      "text/plain": [
       "(27701, 12551)"
      ]
     },
     "execution_count": 78,
     "metadata": {},
     "output_type": "execute_result"
    }
   ],
   "source": [
    "# Text preprocessing and occurence counting using count vectorizer\n",
    "from sklearn.feature_extraction.text import CountVectorizer\n",
    "count_vect=CountVectorizer()\n",
    "x_train_counts=count_vect.fit_transform(x_train)\n",
    "x_train_counts.shape"
   ]
  },
  {
   "cell_type": "markdown",
   "id": "2183c370",
   "metadata": {},
   "source": [
    "here we have 27k samples and 12k distinct words"
   ]
  },
  {
   "cell_type": "code",
   "execution_count": 79,
   "id": "7e313f53",
   "metadata": {},
   "outputs": [
    {
     "data": {
      "text/plain": [
       "(27701, 12551)"
      ]
     },
     "execution_count": 79,
     "metadata": {},
     "output_type": "execute_result"
    }
   ],
   "source": [
    "from sklearn.feature_extraction.text import TfidfTransformer\n",
    "tfid_transformer=TfidfTransformer(use_idf=False)\n",
    "x_train_tfid=tfid_transformer.fit_transform(x_train_counts)\n",
    "x_train_tfid.shape"
   ]
  },
  {
   "cell_type": "markdown",
   "id": "50f10865",
   "metadata": {},
   "source": [
    "so tfidf transformer reduces less meaning words which have higher occurence . So it divides the number of occurences for each word by total number of words. Downscales stop words like \"the\" \"are\" etc."
   ]
  },
  {
   "cell_type": "code",
   "execution_count": 80,
   "id": "896237e3",
   "metadata": {},
   "outputs": [
    {
     "data": {
      "text/plain": [
       "Pipeline(steps=[('vect', CountVectorizer()), ('tfidf', TfidfTransformer()),\n",
       "                ('clf_nominalNB', MultinomialNB())])"
      ]
     },
     "execution_count": 80,
     "metadata": {},
     "output_type": "execute_result"
    }
   ],
   "source": [
    "from sklearn.naive_bayes import MultinomialNB\n",
    "from sklearn.pipeline import Pipeline\n",
    "clf_multiNB_pipe=Pipeline([('vect',CountVectorizer()),\n",
    "                               (\"tfidf\",TfidfTransformer()),\n",
    "                               (\"clf_nominalNB\",MultinomialNB())])\n",
    "clf_multiNB_pipe.fit(x_train,x_train_targetsentiment)"
   ]
  },
  {
   "cell_type": "markdown",
   "id": "9e511b5d",
   "metadata": {},
   "source": [
    "we use pipeline from sklearn when we want a number of tasks to be implemented on every datapoint"
   ]
  },
  {
   "cell_type": "code",
   "execution_count": 81,
   "id": "0d1b3e3b",
   "metadata": {},
   "outputs": [
    {
     "data": {
      "text/plain": [
       "array(['Positive', 'Positive', 'Positive', ..., 'Positive', 'Positive',\n",
       "       'Positive'], dtype='<U8')"
      ]
     },
     "execution_count": 81,
     "metadata": {},
     "output_type": "execute_result"
    }
   ],
   "source": [
    "predict_multiNB=clf_multiNB_pipe.predict(x_test)\n",
    "predict_multiNB"
   ]
  },
  {
   "cell_type": "code",
   "execution_count": 82,
   "id": "bc7691e0",
   "metadata": {},
   "outputs": [
    {
     "name": "stdout",
     "output_type": "stream",
     "text": [
      "Accuracy: 0.9330060641062663\n"
     ]
    }
   ],
   "source": [
    "from sklearn.metrics import accuracy_score\n",
    "print(\"Accuracy: {}\".format(accuracy_score(x_test_targetsentiment,predict_multiNB)))"
   ]
  },
  {
   "cell_type": "markdown",
   "id": "bf33ae94",
   "metadata": {},
   "source": [
    "We have attained accuracy of 94% on our testing data . "
   ]
  },
  {
   "cell_type": "code",
   "execution_count": 83,
   "id": "a51edc93",
   "metadata": {},
   "outputs": [
    {
     "data": {
      "text/plain": [
       "13254    I love this thing!!!!!So much better then my n...\n",
       "1926     I gave this Amazon Fire HD8 as a retirement gi...\n",
       "18648    Wife loves this Kindle as opposed to some of t...\n",
       "29180    This is one of the coolest new inventions arou...\n",
       "29548    My Echo hasn't updated to the latest version t...\n",
       "                               ...                        \n",
       "24812    This is my second one. The first one I bought ...\n",
       "24351    Worth having in the home. Also compatible with...\n",
       "28281    Spiffy toy and ad they add more items to contr...\n",
       "33129    I'm able to screen mirror from my tablet and a...\n",
       "12633    Bought these for my 3 college students. They l...\n",
       "Name: reviews.text, Length: 6926, dtype: object"
      ]
     },
     "execution_count": 83,
     "metadata": {},
     "output_type": "execute_result"
    }
   ],
   "source": [
    "x_test"
   ]
  },
  {
   "cell_type": "markdown",
   "id": "ec6e5363",
   "metadata": {},
   "source": [
    "# Applying model on input text"
   ]
  },
  {
   "cell_type": "code",
   "execution_count": 89,
   "id": "a72d3159",
   "metadata": {},
   "outputs": [
    {
     "name": "stdout",
     "output_type": "stream",
     "text": [
      "Accuracy: 0.9358937337568582\n"
     ]
    }
   ],
   "source": [
    "from sklearn.svm import LinearSVC\n",
    "clf_linearSVC_pipe = Pipeline([(\"vect\", CountVectorizer()), \n",
    "                               (\"tfidf\", TfidfTransformer()),\n",
    "                               (\"clf_linearSVC\", LinearSVC())])\n",
    "clf_linearSVC_pipe.fit(x_train, x_train_targetsentiment)\n",
    "\n",
    "predictedLinearSVC = clf_linearSVC_pipe.predict(x_test)\n",
    "print('Accuracy: {}'. format(accuracy_score(x_test_targetsentiment, \n",
    "                             predictedLinearSVC)))"
   ]
  },
  {
   "cell_type": "code",
   "execution_count": 93,
   "id": "453dfc65",
   "metadata": {},
   "outputs": [
    {
     "data": {
      "text/plain": [
       "array(['Positive', 'Neutral', 'Negative'], dtype=object)"
      ]
     },
     "execution_count": 93,
     "metadata": {},
     "output_type": "execute_result"
    }
   ],
   "source": [
    "new_text=[\"the tablet is good , really liked it\",\n",
    "         \"the tablet is ok,it's working\",\n",
    "         \"The tablet is not good, does not work waste\"]\n",
    "clf_linearSVC_pipe.predict(new_text)"
   ]
  },
  {
   "cell_type": "code",
   "execution_count": null,
   "id": "a9705ae7",
   "metadata": {},
   "outputs": [],
   "source": []
  }
 ],
 "metadata": {
  "kernelspec": {
   "display_name": "Python 3",
   "language": "python",
   "name": "python3"
  },
  "language_info": {
   "codemirror_mode": {
    "name": "ipython",
    "version": 3
   },
   "file_extension": ".py",
   "mimetype": "text/x-python",
   "name": "python",
   "nbconvert_exporter": "python",
   "pygments_lexer": "ipython3",
   "version": "3.8.8"
  }
 },
 "nbformat": 4,
 "nbformat_minor": 5
}
